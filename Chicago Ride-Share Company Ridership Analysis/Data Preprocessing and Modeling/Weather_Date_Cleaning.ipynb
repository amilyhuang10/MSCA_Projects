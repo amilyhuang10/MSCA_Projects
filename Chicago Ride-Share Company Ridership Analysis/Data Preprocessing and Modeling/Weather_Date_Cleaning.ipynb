{
 "cells": [
  {
   "cell_type": "code",
   "execution_count": 42,
   "metadata": {},
   "outputs": [],
   "source": [
    "import pandas as pd"
   ]
  },
  {
   "cell_type": "code",
   "execution_count": 43,
   "metadata": {},
   "outputs": [],
   "source": [
    "na_values = ['*',\"T\"]\n",
    "df = pd.read_csv(\"/Users/amilyhuang/Desktop/weather123.csv\", header = 0, parse_dates=['DATE'], na_values=na_values)"
   ]
  },
  {
   "cell_type": "code",
   "execution_count": 44,
   "metadata": {
    "scrolled": true
   },
   "outputs": [
    {
     "data": {
      "text/html": [
       "<div>\n",
       "<style scoped>\n",
       "    .dataframe tbody tr th:only-of-type {\n",
       "        vertical-align: middle;\n",
       "    }\n",
       "\n",
       "    .dataframe tbody tr th {\n",
       "        vertical-align: top;\n",
       "    }\n",
       "\n",
       "    .dataframe thead th {\n",
       "        text-align: right;\n",
       "    }\n",
       "</style>\n",
       "<table border=\"1\" class=\"dataframe\">\n",
       "  <thead>\n",
       "    <tr style=\"text-align: right;\">\n",
       "      <th></th>\n",
       "      <th>DATE</th>\n",
       "      <th>HourlyDryBulbTemperature</th>\n",
       "      <th>HourlyPrecipitation</th>\n",
       "      <th>HourlyWindSpeed</th>\n",
       "    </tr>\n",
       "  </thead>\n",
       "  <tbody>\n",
       "    <tr>\n",
       "      <td>0</td>\n",
       "      <td>2018-11-01</td>\n",
       "      <td>52</td>\n",
       "      <td>0.0</td>\n",
       "      <td>7</td>\n",
       "    </tr>\n",
       "    <tr>\n",
       "      <td>1</td>\n",
       "      <td>2018-11-01</td>\n",
       "      <td>51</td>\n",
       "      <td>0.0</td>\n",
       "      <td>9</td>\n",
       "    </tr>\n",
       "    <tr>\n",
       "      <td>2</td>\n",
       "      <td>2018-11-01</td>\n",
       "      <td>51</td>\n",
       "      <td>0.0</td>\n",
       "      <td>9</td>\n",
       "    </tr>\n",
       "    <tr>\n",
       "      <td>3</td>\n",
       "      <td>2018-11-01</td>\n",
       "      <td>51</td>\n",
       "      <td>0.0</td>\n",
       "      <td>9</td>\n",
       "    </tr>\n",
       "    <tr>\n",
       "      <td>4</td>\n",
       "      <td>2018-11-01</td>\n",
       "      <td>51</td>\n",
       "      <td>0.0</td>\n",
       "      <td>14</td>\n",
       "    </tr>\n",
       "    <tr>\n",
       "      <td>...</td>\n",
       "      <td>...</td>\n",
       "      <td>...</td>\n",
       "      <td>...</td>\n",
       "      <td>...</td>\n",
       "    </tr>\n",
       "    <tr>\n",
       "      <td>14319</td>\n",
       "      <td>2019-12-31</td>\n",
       "      <td>29</td>\n",
       "      <td>0.0</td>\n",
       "      <td>17</td>\n",
       "    </tr>\n",
       "    <tr>\n",
       "      <td>14320</td>\n",
       "      <td>2019-12-31</td>\n",
       "      <td>29</td>\n",
       "      <td>0.0</td>\n",
       "      <td>11</td>\n",
       "    </tr>\n",
       "    <tr>\n",
       "      <td>14321</td>\n",
       "      <td>2019-12-31</td>\n",
       "      <td>29</td>\n",
       "      <td>0.0</td>\n",
       "      <td>9</td>\n",
       "    </tr>\n",
       "    <tr>\n",
       "      <td>14322</td>\n",
       "      <td>2019-12-31</td>\n",
       "      <td>29</td>\n",
       "      <td>0.0</td>\n",
       "      <td>17</td>\n",
       "    </tr>\n",
       "    <tr>\n",
       "      <td>14323</td>\n",
       "      <td>2019-12-31</td>\n",
       "      <td>27</td>\n",
       "      <td>0.0</td>\n",
       "      <td>8</td>\n",
       "    </tr>\n",
       "  </tbody>\n",
       "</table>\n",
       "<p>14324 rows × 4 columns</p>\n",
       "</div>"
      ],
      "text/plain": [
       "            DATE  HourlyDryBulbTemperature  HourlyPrecipitation  \\\n",
       "0     2018-11-01                        52                  0.0   \n",
       "1     2018-11-01                        51                  0.0   \n",
       "2     2018-11-01                        51                  0.0   \n",
       "3     2018-11-01                        51                  0.0   \n",
       "4     2018-11-01                        51                  0.0   \n",
       "...          ...                       ...                  ...   \n",
       "14319 2019-12-31                        29                  0.0   \n",
       "14320 2019-12-31                        29                  0.0   \n",
       "14321 2019-12-31                        29                  0.0   \n",
       "14322 2019-12-31                        29                  0.0   \n",
       "14323 2019-12-31                        27                  0.0   \n",
       "\n",
       "       HourlyWindSpeed  \n",
       "0                    7  \n",
       "1                    9  \n",
       "2                    9  \n",
       "3                    9  \n",
       "4                   14  \n",
       "...                ...  \n",
       "14319               17  \n",
       "14320               11  \n",
       "14321                9  \n",
       "14322               17  \n",
       "14323                8  \n",
       "\n",
       "[14324 rows x 4 columns]"
      ]
     },
     "execution_count": 44,
     "metadata": {},
     "output_type": "execute_result"
    }
   ],
   "source": [
    "df"
   ]
  },
  {
   "cell_type": "code",
   "execution_count": 45,
   "metadata": {},
   "outputs": [
    {
     "data": {
      "text/plain": [
       "0        52\n",
       "1        51\n",
       "2        51\n",
       "3        51\n",
       "4        51\n",
       "         ..\n",
       "14319    29\n",
       "14320    29\n",
       "14321    29\n",
       "14322    29\n",
       "14323    27\n",
       "Name: HourlyDryBulbTemperature, Length: 14324, dtype: int64"
      ]
     },
     "execution_count": 45,
     "metadata": {},
     "output_type": "execute_result"
    }
   ],
   "source": [
    "df[\"HourlyDryBulbTemperature\"].astype(int)"
   ]
  },
  {
   "cell_type": "code",
   "execution_count": 46,
   "metadata": {
    "scrolled": false
   },
   "outputs": [
    {
     "data": {
      "text/plain": [
       "0        0.0\n",
       "1        0.0\n",
       "2        0.0\n",
       "3        0.0\n",
       "4        0.0\n",
       "        ... \n",
       "14319    0.0\n",
       "14320    0.0\n",
       "14321    0.0\n",
       "14322    0.0\n",
       "14323    0.0\n",
       "Name: HourlyPrecipitation, Length: 14324, dtype: float64"
      ]
     },
     "execution_count": 46,
     "metadata": {},
     "output_type": "execute_result"
    }
   ],
   "source": [
    "df[\"HourlyPrecipitation\"].astype(float)"
   ]
  },
  {
   "cell_type": "code",
   "execution_count": 47,
   "metadata": {},
   "outputs": [
    {
     "data": {
      "text/plain": [
       "0         7\n",
       "1         9\n",
       "2         9\n",
       "3         9\n",
       "4        14\n",
       "         ..\n",
       "14319    17\n",
       "14320    11\n",
       "14321     9\n",
       "14322    17\n",
       "14323     8\n",
       "Name: HourlyWindSpeed, Length: 14324, dtype: int64"
      ]
     },
     "execution_count": 47,
     "metadata": {},
     "output_type": "execute_result"
    }
   ],
   "source": [
    "df[\"HourlyWindSpeed\"].astype(int)"
   ]
  },
  {
   "cell_type": "code",
   "execution_count": 54,
   "metadata": {},
   "outputs": [
    {
     "data": {
      "text/plain": [
       "DATE\n",
       "2018-11-01    49.225806\n",
       "2018-11-02    44.357143\n",
       "2018-11-03    43.892857\n",
       "2018-11-04    50.125000\n",
       "2018-11-05    48.361702\n",
       "                ...    \n",
       "2019-12-27    35.068966\n",
       "2019-12-28    40.800000\n",
       "2019-12-29    54.761905\n",
       "2019-12-30    34.270833\n",
       "2019-12-31    27.588235\n",
       "Name: HourlyDryBulbTemperature, Length: 426, dtype: float64"
      ]
     },
     "execution_count": 54,
     "metadata": {},
     "output_type": "execute_result"
    }
   ],
   "source": [
    "temp = df.groupby(\"DATE\")[\"HourlyDryBulbTemperature\"].mean()"
   ]
  },
  {
   "cell_type": "code",
   "execution_count": 52,
   "metadata": {},
   "outputs": [],
   "source": [
    "pre = df.groupby(\"DATE\")[\"HourlyPrecipitation\"].sum()"
   ]
  },
  {
   "cell_type": "code",
   "execution_count": 53,
   "metadata": {},
   "outputs": [],
   "source": [
    "wind = df.groupby(\"DATE\")[\"HourlyWindSpeed\"].mean()"
   ]
  },
  {
   "cell_type": "code",
   "execution_count": 61,
   "metadata": {},
   "outputs": [],
   "source": [
    "weather = pd.DataFrame(data = (temp,pre,wind))"
   ]
  },
  {
   "cell_type": "code",
   "execution_count": 63,
   "metadata": {},
   "outputs": [],
   "source": [
    "weather = weather.T"
   ]
  },
  {
   "cell_type": "code",
   "execution_count": 64,
   "metadata": {},
   "outputs": [
    {
     "data": {
      "text/html": [
       "<div>\n",
       "<style scoped>\n",
       "    .dataframe tbody tr th:only-of-type {\n",
       "        vertical-align: middle;\n",
       "    }\n",
       "\n",
       "    .dataframe tbody tr th {\n",
       "        vertical-align: top;\n",
       "    }\n",
       "\n",
       "    .dataframe thead th {\n",
       "        text-align: right;\n",
       "    }\n",
       "</style>\n",
       "<table border=\"1\" class=\"dataframe\">\n",
       "  <thead>\n",
       "    <tr style=\"text-align: right;\">\n",
       "      <th></th>\n",
       "      <th>HourlyDryBulbTemperature</th>\n",
       "      <th>HourlyPrecipitation</th>\n",
       "      <th>HourlyWindSpeed</th>\n",
       "    </tr>\n",
       "    <tr>\n",
       "      <th>DATE</th>\n",
       "      <th></th>\n",
       "      <th></th>\n",
       "      <th></th>\n",
       "    </tr>\n",
       "  </thead>\n",
       "  <tbody>\n",
       "    <tr>\n",
       "      <td>2018-11-01</td>\n",
       "      <td>49.225806</td>\n",
       "      <td>0.00</td>\n",
       "      <td>14.677419</td>\n",
       "    </tr>\n",
       "    <tr>\n",
       "      <td>2018-11-02</td>\n",
       "      <td>44.357143</td>\n",
       "      <td>0.00</td>\n",
       "      <td>7.464286</td>\n",
       "    </tr>\n",
       "    <tr>\n",
       "      <td>2018-11-03</td>\n",
       "      <td>43.892857</td>\n",
       "      <td>0.05</td>\n",
       "      <td>6.428571</td>\n",
       "    </tr>\n",
       "    <tr>\n",
       "      <td>2018-11-04</td>\n",
       "      <td>50.125000</td>\n",
       "      <td>0.56</td>\n",
       "      <td>15.200000</td>\n",
       "    </tr>\n",
       "    <tr>\n",
       "      <td>2018-11-05</td>\n",
       "      <td>48.361702</td>\n",
       "      <td>0.45</td>\n",
       "      <td>9.978723</td>\n",
       "    </tr>\n",
       "    <tr>\n",
       "      <td>...</td>\n",
       "      <td>...</td>\n",
       "      <td>...</td>\n",
       "      <td>...</td>\n",
       "    </tr>\n",
       "    <tr>\n",
       "      <td>2019-12-27</td>\n",
       "      <td>35.068966</td>\n",
       "      <td>0.00</td>\n",
       "      <td>8.206897</td>\n",
       "    </tr>\n",
       "    <tr>\n",
       "      <td>2019-12-28</td>\n",
       "      <td>40.800000</td>\n",
       "      <td>0.21</td>\n",
       "      <td>9.050000</td>\n",
       "    </tr>\n",
       "    <tr>\n",
       "      <td>2019-12-29</td>\n",
       "      <td>54.761905</td>\n",
       "      <td>1.09</td>\n",
       "      <td>11.523810</td>\n",
       "    </tr>\n",
       "    <tr>\n",
       "      <td>2019-12-30</td>\n",
       "      <td>34.270833</td>\n",
       "      <td>0.14</td>\n",
       "      <td>18.812500</td>\n",
       "    </tr>\n",
       "    <tr>\n",
       "      <td>2019-12-31</td>\n",
       "      <td>27.588235</td>\n",
       "      <td>0.00</td>\n",
       "      <td>17.558824</td>\n",
       "    </tr>\n",
       "  </tbody>\n",
       "</table>\n",
       "<p>426 rows × 3 columns</p>\n",
       "</div>"
      ],
      "text/plain": [
       "            HourlyDryBulbTemperature  HourlyPrecipitation  HourlyWindSpeed\n",
       "DATE                                                                      \n",
       "2018-11-01                 49.225806                 0.00        14.677419\n",
       "2018-11-02                 44.357143                 0.00         7.464286\n",
       "2018-11-03                 43.892857                 0.05         6.428571\n",
       "2018-11-04                 50.125000                 0.56        15.200000\n",
       "2018-11-05                 48.361702                 0.45         9.978723\n",
       "...                              ...                  ...              ...\n",
       "2019-12-27                 35.068966                 0.00         8.206897\n",
       "2019-12-28                 40.800000                 0.21         9.050000\n",
       "2019-12-29                 54.761905                 1.09        11.523810\n",
       "2019-12-30                 34.270833                 0.14        18.812500\n",
       "2019-12-31                 27.588235                 0.00        17.558824\n",
       "\n",
       "[426 rows x 3 columns]"
      ]
     },
     "execution_count": 64,
     "metadata": {},
     "output_type": "execute_result"
    }
   ],
   "source": [
    "weather"
   ]
  },
  {
   "cell_type": "code",
   "execution_count": 68,
   "metadata": {},
   "outputs": [
    {
     "data": {
      "text/plain": [
       "False"
      ]
     },
     "execution_count": 68,
     "metadata": {},
     "output_type": "execute_result"
    }
   ],
   "source": [
    "weather[\"HourlyWindSpeed\"].isnull().any()"
   ]
  },
  {
   "cell_type": "code",
   "execution_count": 69,
   "metadata": {},
   "outputs": [],
   "source": [
    "weather.to_csv(\"/Users/amilyhuang/Desktop/weather_final.csv\")"
   ]
  },
  {
   "cell_type": "code",
   "execution_count": null,
   "metadata": {},
   "outputs": [],
   "source": []
  }
 ],
 "metadata": {
  "kernelspec": {
   "display_name": "Python 3",
   "language": "python",
   "name": "python3"
  },
  "language_info": {
   "codemirror_mode": {
    "name": "ipython",
    "version": 3
   },
   "file_extension": ".py",
   "mimetype": "text/x-python",
   "name": "python",
   "nbconvert_exporter": "python",
   "pygments_lexer": "ipython3",
   "version": "3.7.4"
  }
 },
 "nbformat": 4,
 "nbformat_minor": 2
}
