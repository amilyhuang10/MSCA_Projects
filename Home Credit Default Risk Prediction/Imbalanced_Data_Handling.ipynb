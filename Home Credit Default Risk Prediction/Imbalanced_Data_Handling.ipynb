{
 "cells": [
  {
   "cell_type": "code",
   "execution_count": null,
   "metadata": {
    "id": "NXkdf1nIYimV"
   },
   "outputs": [],
   "source": [
    "import pandas as pd\n",
    "import numpy as np\n",
    "import matplotlib.pyplot as plt\n",
    "from sklearn.model_selection import train_test_split\n",
    "from sklearn.preprocessing import StandardScaler\n",
    "import seaborn as sns\n",
    "from sklearn.metrics import confusion_matrix\n",
    "from sklearn.metrics import classification_report\n",
    "from sklearn.metrics import roc_auc_score\n",
    "from sklearn.metrics import roc_curve\n",
    "from sklearn.model_selection import GridSearchCV\n",
    "from sklearn.model_selection import RandomizedSearchCV\n",
    "from sklearn.ensemble import AdaBoostClassifier\n",
    "from sklearn.ensemble import GradientBoostingClassifier\n",
    "import xgboost as xgb"
   ]
  },
  {
   "cell_type": "markdown",
   "metadata": {
    "id": "1yjqlXxNrwM-"
   },
   "source": [
    "## Baseline Models with Regularization"
   ]
  },
  {
   "cell_type": "code",
   "execution_count": null,
   "metadata": {
    "id": "suszyFJzNmLK"
   },
   "outputs": [],
   "source": [
    "from sklearn.ensemble import RandomForestClassifier\n",
    "from sklearn.naive_bayes import GaussianNB\n",
    "from sklearn.svm import SVC\n",
    "from sklearn.linear_model import LogisticRegression\n",
    "from sklearn import metrics as skm"
   ]
  },
  {
   "cell_type": "markdown",
   "metadata": {
    "id": "5G35u9QNXSJy"
   },
   "source": [
    "### Logistic Regression"
   ]
  },
  {
   "cell_type": "code",
   "execution_count": null,
   "metadata": {
    "id": "gUXDN1pwXSZi"
   },
   "outputs": [],
   "source": [
    "# Run Regularized Logistic Regression\n",
    "lr = LogisticRegression(random_state = 23)\n",
    "\n",
    "lr.fit(X_train, y_train)\n",
    "\n",
    "y_train_pred_lr = lr.predict(X_train)\n",
    "y_test_pred_lr = lr.predict(X_test)\n",
    "\n",
    "y_train_proba_lr = lr.predict_proba(X_train)\n",
    "y_test_proba_lr = lr.predict_proba(X_test)"
   ]
  },
  {
   "cell_type": "code",
   "execution_count": null,
   "metadata": {
    "colab": {
     "base_uri": "https://localhost:8080/"
    },
    "id": "E-fR5DhnYGR6",
    "outputId": "8c4410e3-2c3c-428e-c08b-89dd2f462106"
   },
   "outputs": [
    {
     "name": "stdout",
     "output_type": "stream",
     "text": [
      "Train Confusion Matrix: \n",
      " [[223883     13]\n",
      " [ 19848     12]]\n",
      "Accuracy Train: 0.9185209799963898\n",
      "Precision Train: 0.48\n",
      "Recall Train: 0.0006042296072507553\n",
      "AUC score 0.6998061444852958\n",
      "\n",
      " Test Confusion Matrix: \n",
      " [[55976     0]\n",
      " [ 4962     3]]\n",
      "Accuracy Test: 0.9185769842962865\n",
      "Precision Test: 1.0\n",
      "Recall Test: 0.0006042296072507553\n",
      "AUC score 0.7040026613333494\n"
     ]
    }
   ],
   "source": [
    "print(\"Train Confusion Matrix: \\n\", skm.confusion_matrix(y_train, y_train_pred_lr))\n",
    "print(\"Accuracy Train:\", skm.accuracy_score(y_train, y_train_pred_lr))\n",
    "print(\"Precision Train:\", skm.precision_score(y_train, y_train_pred_lr))\n",
    "print(\"Recall Train:\", skm.recall_score(y_train, y_train_pred_lr))\n",
    "print(\"AUC score\", skm.roc_auc_score(y_train, y_train_proba_lr[:,1]))\n",
    "\n",
    "print(\"\\n Test Confusion Matrix: \\n\", skm.confusion_matrix(y_test, y_test_pred_lr))\n",
    "print(\"Accuracy Test:\", skm.accuracy_score(y_test, y_test_pred_lr))\n",
    "print(\"Precision Test:\", skm.precision_score(y_test, y_test_pred_lr))\n",
    "print(\"Recall Test:\", skm.recall_score(y_test, y_test_pred_lr))\n",
    "print(\"AUC score\", skm.roc_auc_score(y_test, y_test_proba_lr[:,1]))"
   ]
  },
  {
   "cell_type": "markdown",
   "metadata": {
    "id": "E6Hx3_1Ms_il"
   },
   "source": [
    "### Random Forest"
   ]
  },
  {
   "cell_type": "code",
   "execution_count": null,
   "metadata": {
    "id": "EmJQujJ8tEoh"
   },
   "outputs": [],
   "source": [
    "# Run Random Forest Classifier\n",
    "rf = RandomForestClassifier(max_depth = 20, random_state = 23)\n",
    "\n",
    "rf.fit(X_train, y_train)\n",
    "\n",
    "y_train_pred_rf = rf.predict(X_train)\n",
    "y_test_pred_rf = rf.predict(X_test)\n",
    "\n",
    "y_train_proba_rf= rf.predict_proba(X_train)\n",
    "y_test_proba_rf= rf.predict_proba(X_test)"
   ]
  },
  {
   "cell_type": "code",
   "execution_count": null,
   "metadata": {
    "colab": {
     "base_uri": "https://localhost:8080/"
    },
    "id": "M79r1J1aOU9G",
    "outputId": "9d01ae5b-f4b2-4dab-e50c-8e20a83bf46b"
   },
   "outputs": [
    {
     "name": "stdout",
     "output_type": "stream",
     "text": [
      "Train Confusion Matrix: \n",
      " [[223896      0]\n",
      " [ 16909   2951]]\n",
      "Accuracy Train: 0.9306314511232544\n",
      "Precision Train: 1.0\n",
      "Recall Train: 0.1485901309164149\n",
      "AUC score 0.9944628487237152\n",
      "\n",
      " Test Confusion Matrix: \n",
      " [[55976     0]\n",
      " [ 4964     1]]\n",
      "Accuracy Test: 0.9185441656684334\n",
      "Precision Test: 1.0\n",
      "Recall Test: 0.0002014098690835851\n",
      "AUC score 0.6882309617371624\n"
     ]
    }
   ],
   "source": [
    "print(\"Train Confusion Matrix: \\n\", skm.confusion_matrix(y_train, y_train_pred_rf))\n",
    "print(\"Accuracy Train:\", skm.accuracy_score(y_train, y_train_pred_rf))\n",
    "print(\"Precision Train:\", skm.precision_score(y_train, y_train_pred_rf))\n",
    "print(\"Recall Train:\", skm.recall_score(y_train, y_train_pred_rf))\n",
    "print(\"AUC score\", skm.roc_auc_score(y_train, y_train_proba_rf[:,1]))\n",
    "\n",
    "print(\"\\n Test Confusion Matrix: \\n\", skm.confusion_matrix(y_test, y_test_pred_rf))\n",
    "print(\"Accuracy Test:\", skm.accuracy_score(y_test, y_test_pred_rf))\n",
    "print(\"Precision Test:\", skm.precision_score(y_test, y_test_pred_rf))\n",
    "print(\"Recall Test:\", skm.recall_score(y_test, y_test_pred_rf))\n",
    "print(\"AUC score\", skm.roc_auc_score(y_test, y_test_proba_rf[:,1]))"
   ]
  },
  {
   "cell_type": "markdown",
   "metadata": {
    "id": "BbeOgWrfs7E_"
   },
   "source": [
    "### Naive Bayes Classifier"
   ]
  },
  {
   "cell_type": "code",
   "execution_count": null,
   "metadata": {
    "id": "sreLujpGMdg9"
   },
   "outputs": [],
   "source": [
    "# Run Naive Bayes Classifier\n",
    "gnb = GaussianNB()\n",
    "\n",
    "gnb.fit(X_train, y_train)\n",
    "\n",
    "y_train_pred_gnb = gnb.predict(X_train)\n",
    "y_test_pred_gnb = gnb.predict(X_test)\n",
    "\n",
    "y_train_proba_gnb = gnb.predict_proba(X_train)\n",
    "y_test_proba_gnb = gnb.predict_proba(X_test)"
   ]
  },
  {
   "cell_type": "code",
   "execution_count": null,
   "metadata": {
    "colab": {
     "base_uri": "https://localhost:8080/"
    },
    "id": "vsB9da4-QW2N",
    "outputId": "191c1855-3214-4038-d956-1bbc5b828be1"
   },
   "outputs": [
    {
     "name": "stdout",
     "output_type": "stream",
     "text": [
      "Train Confusion Matrix: \n",
      " [[  4906 218990]\n",
      " [   233  19627]]\n",
      "Accuracy Train: 0.10064572769490802\n",
      "Precision Train: 0.0822531504461124\n",
      "Recall Train: 0.9882678751258812\n",
      "AUC score 0.6425088491038369\n",
      "\n",
      " Test Confusion Matrix: \n",
      " [[ 1207 54769]\n",
      " [   63  4902]]\n",
      "Accuracy Test: 0.10024449877750612\n",
      "Precision Test: 0.08215045834660052\n",
      "Recall Test: 0.9873111782477342\n",
      "AUC score 0.6430602559347475\n"
     ]
    }
   ],
   "source": [
    "print(\"Train Confusion Matrix: \\n\", skm.confusion_matrix(y_train, y_train_pred_gnb))\n",
    "print(\"Accuracy Train:\", skm.accuracy_score(y_train, y_train_pred_gnb))\n",
    "print(\"Precision Train:\", skm.precision_score(y_train, y_train_pred_gnb))\n",
    "print(\"Recall Train:\", skm.recall_score(y_train, y_train_pred_gnb))\n",
    "print(\"AUC score\", skm.roc_auc_score(y_train, y_train_proba_gnb[:,1]))\n",
    "\n",
    "print(\"\\n Test Confusion Matrix: \\n\", skm.confusion_matrix(y_test, y_test_pred_gnb))\n",
    "print(\"Accuracy Test:\", skm.accuracy_score(y_test, y_test_pred_gnb))\n",
    "print(\"Precision Test:\", skm.precision_score(y_test, y_test_pred_gnb))\n",
    "print(\"Recall Test:\", skm.recall_score(y_test, y_test_pred_gnb))\n",
    "print(\"AUC score\", skm.roc_auc_score(y_test, y_test_proba_gnb[:,1]))"
   ]
  },
  {
   "cell_type": "markdown",
   "metadata": {
    "id": "oS8xznIAtRYk"
   },
   "source": [
    "## Model Performance Improvement"
   ]
  },
  {
   "cell_type": "markdown",
   "metadata": {
    "id": "eTG5sfCBtsdI"
   },
   "source": [
    "### SMOTE + Random Under-sampling"
   ]
  },
  {
   "cell_type": "markdown",
   "metadata": {
    "id": "aeBxQD8tfDp1"
   },
   "source": [
    "#### Oversampling minority class using SMOTE and Undersampling Majority Class using Randomundersampling (USM)"
   ]
  },
  {
   "cell_type": "code",
   "execution_count": null,
   "metadata": {
    "colab": {
     "base_uri": "https://localhost:8080/"
    },
    "id": "gHYm2_BsfTQm",
    "outputId": "f8caba43-a1d6-4537-cccd-5a69c0abed65"
   },
   "outputs": [
    {
     "name": "stderr",
     "output_type": "stream",
     "text": [
      "/usr/local/lib/python3.6/dist-packages/sklearn/externals/six.py:31: FutureWarning: The module is deprecated in version 0.21 and will be removed in version 0.23 since we've dropped support for Python 2.7. Please rely on the official version of six (https://pypi.org/project/six/).\n",
      "  \"(https://pypi.org/project/six/).\", FutureWarning)\n",
      "/usr/local/lib/python3.6/dist-packages/sklearn/utils/deprecation.py:144: FutureWarning: The sklearn.neighbors.base module is  deprecated in version 0.22 and will be removed in version 0.24. The corresponding classes / functions should instead be imported from sklearn.neighbors. Anything that cannot be imported from sklearn.neighbors is now part of the private API.\n",
      "  warnings.warn(message, FutureWarning)\n"
     ]
    }
   ],
   "source": [
    "from imblearn.over_sampling import SMOTE\n",
    "from imblearn.under_sampling import RandomUnderSampler\n",
    "from collections import Counter\n",
    "from sklearn import metrics as skm\n",
    "from sklearn.ensemble import RandomForestClassifier\n",
    "from sklearn.linear_model import SGDClassifier"
   ]
  },
  {
   "cell_type": "markdown",
   "metadata": {
    "id": "2susSWvPghTC"
   },
   "source": [
    "#### We first oversample the minority class to the same size of majority class and check AUC Score"
   ]
  },
  {
   "cell_type": "code",
   "execution_count": null,
   "metadata": {
    "colab": {
     "base_uri": "https://localhost:8080/"
    },
    "id": "tnYIrUjqf3j5",
    "outputId": "a7cf221f-0b8b-4b3a-9070-1d322041471f"
   },
   "outputs": [
    {
     "name": "stderr",
     "output_type": "stream",
     "text": [
      "/usr/local/lib/python3.6/dist-packages/sklearn/utils/deprecation.py:87: FutureWarning: Function safe_indexing is deprecated; safe_indexing is deprecated in version 0.22 and will be removed in version 0.24.\n",
      "  warnings.warn(msg, category=FutureWarning)\n"
     ]
    }
   ],
   "source": [
    "smote = SMOTE(sampling_strategy=1)\n",
    "X_train_smote, y_train_smote = smote.fit_sample(X_train.astype('float'), y_train)"
   ]
  },
  {
   "cell_type": "code",
   "execution_count": null,
   "metadata": {
    "colab": {
     "base_uri": "https://localhost:8080/"
    },
    "id": "DYzjlMFdf5MW",
    "outputId": "bafc1aa5-4f9e-410a-bd2a-9eff7bb9b955"
   },
   "outputs": [
    {
     "name": "stdout",
     "output_type": "stream",
     "text": [
      "Before usm:  Counter({0: 223896, 1: 19860})\n",
      "After usm:  Counter({0: 223896, 1: 223896})\n"
     ]
    }
   ],
   "source": [
    "print(\"Before usm: \", Counter(y_train))\n",
    "print(\"After usm: \", Counter(y_train_smote))"
   ]
  },
  {
   "cell_type": "markdown",
   "metadata": {
    "id": "rCRrYvWRuoGY"
   },
   "source": [
    "##### Logistic Regression"
   ]
  },
  {
   "cell_type": "code",
   "execution_count": null,
   "metadata": {
    "colab": {
     "base_uri": "https://localhost:8080/"
    },
    "id": "xwdQJHqytnL7",
    "outputId": "46d45d30-fbc2-4b57-e6a0-ddf21ae0afcf"
   },
   "outputs": [
    {
     "name": "stderr",
     "output_type": "stream",
     "text": [
      "/usr/local/lib/python3.6/dist-packages/sklearn/linear_model/_logistic.py:940: ConvergenceWarning: lbfgs failed to converge (status=1):\n",
      "STOP: TOTAL NO. of ITERATIONS REACHED LIMIT.\n",
      "\n",
      "Increase the number of iterations (max_iter) or scale the data as shown in:\n",
      "    https://scikit-learn.org/stable/modules/preprocessing.html\n",
      "Please also refer to the documentation for alternative solver options:\n",
      "    https://scikit-learn.org/stable/modules/linear_model.html#logistic-regression\n",
      "  extra_warning_msg=_LOGISTIC_SOLVER_CONVERGENCE_MSG)\n"
     ]
    }
   ],
   "source": [
    "# Run Regularized Logistic Regression\n",
    "lr1 = LogisticRegression(random_state = 23)\n",
    "\n",
    "lr1.fit(X_train_smote, y_train_smote)\n",
    "\n",
    "y_train_pred_lr_smote = lr1.predict(X_train_smote)\n",
    "y_test_pred_lr_smote = lr1.predict(X_test)"
   ]
  },
  {
   "cell_type": "code",
   "execution_count": null,
   "metadata": {
    "id": "Kp7bvEZ9txlB"
   },
   "outputs": [],
   "source": [
    "y_test_proba_lr_smote = lr1.predict_proba(X_test)"
   ]
  },
  {
   "cell_type": "code",
   "execution_count": null,
   "metadata": {
    "colab": {
     "base_uri": "https://localhost:8080/"
    },
    "id": "WKwDQpY4t11n",
    "outputId": "7ad7f5dc-23eb-48f0-9b7a-3d937715c5ae"
   },
   "outputs": [
    {
     "name": "stdout",
     "output_type": "stream",
     "text": [
      "Test Confusion Matrix: \n",
      " [[37251 18725]\n",
      " [ 1883  3082]]\n",
      "Accuracy Train: 0.659545056633437\n",
      "Precision Train: 0.6608272440356399\n",
      "Recall Train: 0.6555588308857684\n",
      "Accuracy Test: 0.6618368586009419\n",
      "Precision Test: 0.1413307653505755\n",
      "Recall Test: 0.6207452165156092\n",
      "AUC score 0.6972187260228488\n"
     ]
    }
   ],
   "source": [
    "print(\"Test Confusion Matrix: \\n\", skm.confusion_matrix(y_test, y_test_pred_lr_smote))\n",
    "print(\"Accuracy Train:\", skm.accuracy_score(y_train_smote, y_train_pred_lr_smote))\n",
    "print(\"Precision Train:\", skm.precision_score(y_train_smote, y_train_pred_lr_smote))\n",
    "print(\"Recall Train:\", skm.recall_score(y_train_smote, y_train_pred_lr_smote))\n",
    "print(\"Accuracy Test:\", skm.accuracy_score(y_test, y_test_pred_lr_smote))\n",
    "print(\"Precision Test:\", skm.precision_score(y_test, y_test_pred_lr_smote))\n",
    "print(\"Recall Test:\", skm.recall_score(y_test, y_test_pred_lr_smote))\n",
    "print(\"AUC score\", skm.roc_auc_score(y_test, y_test_proba_lr_smote[:,1]))"
   ]
  },
  {
   "cell_type": "markdown",
   "metadata": {
    "id": "fsmVIShsuwHA"
   },
   "source": [
    "##### Random Forest"
   ]
  },
  {
   "cell_type": "code",
   "execution_count": null,
   "metadata": {
    "id": "AonYs3tQf5Jj"
   },
   "outputs": [],
   "source": [
    "# run rf with oversampling only\n",
    "rf1 = RandomForestClassifier()\n",
    "\n",
    "rf1.fit(X_train_smote, y_train_smote)\n",
    "\n",
    "y_train_pred_rf_smote = rf1.predict(X_train_smote)\n",
    "y_test_pred_rf_smote = rf1.predict(X_test)\n",
    "y_test_proba_rf_smote = rf1.predict_proba(X_test)"
   ]
  },
  {
   "cell_type": "code",
   "execution_count": null,
   "metadata": {
    "colab": {
     "base_uri": "https://localhost:8080/"
    },
    "id": "jRTQ5RTgf5G2",
    "outputId": "8f3989e7-f0c0-41b1-918a-1c40df0718e6"
   },
   "outputs": [
    {
     "name": "stdout",
     "output_type": "stream",
     "text": [
      "Accuracy Train: 0.9999977668203094\n",
      "Precision Train: 1.0\n",
      "Recall Train: 0.9999955336406189\n",
      "Accuracy Test: 0.9156561264173545\n",
      "Precision Test: 0.23564954682779457\n",
      "Recall Test: 0.01570996978851964\n",
      "0.6753315764301807\n"
     ]
    }
   ],
   "source": [
    "print(\"Accuracy Train:\", skm.accuracy_score(y_train_smote, y_train_pred_rf_smote))\n",
    "print(\"Precision Train:\", skm.precision_score(y_train_smote, y_train_pred_rf_smote))\n",
    "print(\"Recall Train:\", skm.recall_score(y_train_smote, y_train_pred_rf_smote))\n",
    "print(\"Accuracy Test:\", skm.accuracy_score(y_test, y_test_pred_rf_smote))\n",
    "print(\"Precision Test:\", skm.precision_score(y_test, y_test_pred_rf_smote))\n",
    "print(\"Recall Test:\", skm.recall_score(y_test, y_test_pred_rf_smote))\n",
    "print(skm.roc_auc_score(y_test, y_test_proba_rf_smote[:,1]))"
   ]
  },
  {
   "cell_type": "markdown",
   "metadata": {
    "id": "BjR6GEy6u0Uo"
   },
   "source": [
    "##### Naive Bayes"
   ]
  },
  {
   "cell_type": "code",
   "execution_count": null,
   "metadata": {
    "id": "DP7DvmaAalrv"
   },
   "outputs": [],
   "source": [
    "# Run Naive Bayes Classifier\n",
    "gnb1 = GaussianNB()\n",
    "\n",
    "gnb1.fit(X_train_smote, y_train_smote)\n",
    "\n",
    "y_train_pred_gnb1 = gnb1.predict(X_train_smote)\n",
    "y_test_pred_gnb1 = gnb1.predict(X_test)\n",
    "y_test_proba_gnb1_smote = gnb1.predict_proba(X_test)"
   ]
  },
  {
   "cell_type": "code",
   "execution_count": null,
   "metadata": {
    "colab": {
     "base_uri": "https://localhost:8080/"
    },
    "id": "EgdTU3LEamB1",
    "outputId": "a794fd11-4404-4be2-a1bf-dd330ca6e5ea"
   },
   "outputs": [
    {
     "name": "stdout",
     "output_type": "stream",
     "text": [
      "Test Confusion Matrix: \n",
      " [[ 1331 54645]\n",
      " [   66  4899]]\n",
      "Accuracy Train: 0.5063042662664808\n",
      "Precision Train: 0.5032078160261262\n",
      "Recall Train: 0.9889457605316754\n",
      "Accuracy Test: 0.10223002576262287\n",
      "Precision Test: 0.08227529222087868\n",
      "Recall Test: 0.9867069486404834\n",
      "AUC score 0.6354473795487953\n"
     ]
    }
   ],
   "source": [
    "print(\"Test Confusion Matrix: \\n\", skm.confusion_matrix(y_test, y_test_pred_gnb1))\n",
    "print(\"Accuracy Train:\", skm.accuracy_score(y_train_smote, y_train_pred_gnb1))\n",
    "print(\"Precision Train:\", skm.precision_score(y_train_smote, y_train_pred_gnb1))\n",
    "print(\"Recall Train:\", skm.recall_score(y_train_smote, y_train_pred_gnb1))\n",
    "print(\"Accuracy Test:\", skm.accuracy_score(y_test, y_test_pred_gnb1))\n",
    "print(\"Precision Test:\", skm.precision_score(y_test, y_test_pred_gnb1))\n",
    "print(\"Recall Test:\", skm.recall_score(y_test, y_test_pred_gnb1))\n",
    "print(\"AUC score\", skm.roc_auc_score(y_test, y_test_proba_gnb1_smote[:,1]))"
   ]
  },
  {
   "cell_type": "markdown",
   "metadata": {
    "id": "yANhsQVsg1bi"
   },
   "source": [
    "#### Now we undersample the majority class to the same size of minority class and check AUC Score"
   ]
  },
  {
   "cell_type": "code",
   "execution_count": null,
   "metadata": {
    "colab": {
     "base_uri": "https://localhost:8080/"
    },
    "id": "yXbGprrif3VF",
    "outputId": "d650f1d5-2eaf-4b61-dddc-f3dce8d6c29b"
   },
   "outputs": [
    {
     "name": "stdout",
     "output_type": "stream",
     "text": [
      "Before usm:  Counter({0: 223896, 1: 19860})\n",
      "After usm:  Counter({0: 19860, 1: 19860})\n"
     ]
    },
    {
     "name": "stderr",
     "output_type": "stream",
     "text": [
      "/usr/local/lib/python3.6/dist-packages/sklearn/utils/deprecation.py:87: FutureWarning: Function safe_indexing is deprecated; safe_indexing is deprecated in version 0.22 and will be removed in version 0.24.\n",
      "  warnings.warn(msg, category=FutureWarning)\n"
     ]
    }
   ],
   "source": [
    "# extreme undersampling major class \n",
    "under = RandomUnderSampler(sampling_strategy=1)\n",
    "X_train_usm, y_train_usm = under.fit_sample(X_train.astype('float'), y_train)\n",
    "print(\"Before usm: \", Counter(y_train))\n",
    "print(\"After usm: \", Counter(y_train_usm))"
   ]
  },
  {
   "cell_type": "markdown",
   "metadata": {
    "id": "Wo9YiBcrzDEb"
   },
   "source": [
    "##### Logistic Regression"
   ]
  },
  {
   "cell_type": "code",
   "execution_count": null,
   "metadata": {
    "colab": {
     "base_uri": "https://localhost:8080/"
    },
    "id": "JnnxGizYu5Xi",
    "outputId": "9bed4205-de98-4d20-d9cb-246e8a4f0d1f"
   },
   "outputs": [
    {
     "name": "stderr",
     "output_type": "stream",
     "text": [
      "/usr/local/lib/python3.6/dist-packages/sklearn/linear_model/_logistic.py:940: ConvergenceWarning: lbfgs failed to converge (status=1):\n",
      "STOP: TOTAL NO. of ITERATIONS REACHED LIMIT.\n",
      "\n",
      "Increase the number of iterations (max_iter) or scale the data as shown in:\n",
      "    https://scikit-learn.org/stable/modules/preprocessing.html\n",
      "Please also refer to the documentation for alternative solver options:\n",
      "    https://scikit-learn.org/stable/modules/linear_model.html#logistic-regression\n",
      "  extra_warning_msg=_LOGISTIC_SOLVER_CONVERGENCE_MSG)\n"
     ]
    }
   ],
   "source": [
    "# Run Regularized Logistic Regression\n",
    "lr2 = LogisticRegression(random_state = 23)\n",
    "\n",
    "lr2.fit(X_train_usm, y_train_usm)\n",
    "\n",
    "y_train_pred_lr_usm = lr2.predict(X_train_usm)\n",
    "y_test_pred_lr_usm = lr2.predict(X_test)\n",
    "\n",
    "y_train_proba_lr_usm = lr2.predict_proba(X_train_usm)\n",
    "y_test_proba_lr_usm = lr2.predict_proba(X_test)"
   ]
  },
  {
   "cell_type": "code",
   "execution_count": null,
   "metadata": {
    "colab": {
     "base_uri": "https://localhost:8080/"
    },
    "id": "2zevsNJzz3Wy",
    "outputId": "87f7ddbf-1ff3-433e-a99f-4fa4eaf71404"
   },
   "outputs": [
    {
     "name": "stdout",
     "output_type": "stream",
     "text": [
      "Train Confusion Matrix: \n",
      " [[13197  6663]\n",
      " [ 7327 12533]]\n",
      "Accuracy Train: 0.6477844914400805\n",
      "Precision Train: 0.6528964367576578\n",
      "Recall Train: 0.631067472306143\n",
      "AUC score 0.7021293591900606\n",
      "\n",
      " Test Confusion Matrix: \n",
      " [[37098 18878]\n",
      " [ 1797  3168]]\n",
      "Accuracy Test: 0.6607374345678607\n",
      "Precision Test: 0.1436995373310351\n",
      "Recall Test: 0.6380664652567976\n",
      "AUC score 0.7042362782150486\n"
     ]
    }
   ],
   "source": [
    "print(\"Train Confusion Matrix: \\n\", skm.confusion_matrix(y_train_usm, y_train_pred_lr_usm))\n",
    "print(\"Accuracy Train:\", skm.accuracy_score(y_train_usm, y_train_pred_lr_usm))\n",
    "print(\"Precision Train:\", skm.precision_score(y_train_usm, y_train_pred_lr_usm))\n",
    "print(\"Recall Train:\", skm.recall_score(y_train_usm, y_train_pred_lr_usm))\n",
    "print(\"AUC score\", skm.roc_auc_score(y_train_usm, y_train_proba_lr_usm[:,1]))\n",
    "print(\"\\n Test Confusion Matrix: \\n\", skm.confusion_matrix(y_test, y_test_pred_lr_usm))\n",
    "print(\"Accuracy Test:\", skm.accuracy_score(y_test, y_test_pred_lr_usm))\n",
    "print(\"Precision Test:\", skm.precision_score(y_test, y_test_pred_lr_usm))\n",
    "print(\"Recall Test:\", skm.recall_score(y_test, y_test_pred_lr_usm))\n",
    "print(\"AUC score\", skm.roc_auc_score(y_test, y_test_proba_lr_usm[:,1]))"
   ]
  },
  {
   "cell_type": "markdown",
   "metadata": {
    "id": "e7kaDbcPzG1g"
   },
   "source": [
    "##### Random Forest"
   ]
  },
  {
   "cell_type": "code",
   "execution_count": null,
   "metadata": {
    "id": "-8-GfBSPf3E5"
   },
   "outputs": [],
   "source": [
    "# run rf with extreme undersampling only\n",
    "rf2 = RandomForestClassifier()\n",
    "\n",
    "rf2.fit(X_train_usm, y_train_usm)\n",
    "\n",
    "y_train_pred_rf_usm = rf2.predict(X_train_usm)\n",
    "y_test_pred_rf_usm = rf2.predict(X_test)\n",
    "\n",
    "y_train_proba_rf_usm = rf2.predict_proba(X_train_usm)\n",
    "y_test_proba_rf_usm = rf2.predict_proba(X_test)"
   ]
  },
  {
   "cell_type": "code",
   "execution_count": null,
   "metadata": {
    "colab": {
     "base_uri": "https://localhost:8080/"
    },
    "id": "NYZJ12CRf2gu",
    "outputId": "b7902ac7-0000-4213-e4a3-fcfc4dbe328d"
   },
   "outputs": [
    {
     "name": "stdout",
     "output_type": "stream",
     "text": [
      "\n",
      " Train Confusion Matrix: \n",
      " [[19860     0]\n",
      " [    0 19860]]\n",
      "Accuracy Train: 1.0\n",
      "Precision Train: 1.0\n",
      "Recall Train: 1.0\n",
      "AUC score: 1.0\n",
      "\n",
      " Test Confusion Matrix: \n",
      " [[37196 18780]\n",
      " [ 1853  3112]]\n",
      "Accuracy Test: 0.6614266257527773\n",
      "Precision Test: 0.14215238443266948\n",
      "Recall Test: 0.6267875125881168\n",
      "AUC score: 0.6982401499650045\n"
     ]
    }
   ],
   "source": [
    "print(\"\\n Train Confusion Matrix: \\n\", skm.confusion_matrix(y_train_usm, y_train_pred_rf_usm))\n",
    "print(\"Accuracy Train:\", skm.accuracy_score(y_train_usm, y_train_pred_rf_usm))\n",
    "print(\"Precision Train:\", skm.precision_score(y_train_usm, y_train_pred_rf_usm))\n",
    "print(\"Recall Train:\", skm.recall_score(y_train_usm, y_train_pred_rf_usm))\n",
    "print(\"AUC score:\", skm.roc_auc_score(y_train_usm, y_train_proba_rf_usm[:,1]))\n",
    "print(\"\\n Test Confusion Matrix: \\n\", skm.confusion_matrix(y_test, y_test_pred_rf_usm))\n",
    "print(\"Accuracy Test:\", skm.accuracy_score(y_test, y_test_pred_rf_usm))\n",
    "print(\"Precision Test:\", skm.precision_score(y_test, y_test_pred_rf_usm))\n",
    "print(\"Recall Test:\", skm.recall_score(y_test, y_test_pred_rf_usm))\n",
    "print(\"AUC score:\", skm.roc_auc_score(y_test, y_test_proba_rf_usm[:,1]))"
   ]
  },
  {
   "cell_type": "markdown",
   "metadata": {
    "id": "88T0jjxRzJ7v"
   },
   "source": [
    "##### Naive Bayes"
   ]
  },
  {
   "cell_type": "code",
   "execution_count": null,
   "metadata": {
    "id": "k3cxt5LcxFQx"
   },
   "outputs": [],
   "source": [
    "# Run Naive Bayes Classifier\n",
    "gnb2 = GaussianNB()\n",
    "\n",
    "gnb2.fit(X_train_usm, y_train_usm)\n",
    "\n",
    "y_train_pred_gnb_usm = gnb2.predict(X_train_usm)\n",
    "y_test_pred_gnb_usm = gnb2.predict(X_test)\n",
    "\n",
    "y_train_proba_gnb_usm = gnb2.predict_proba(X_train_usm)\n",
    "y_test_proba_gnb_usm = gnb2.predict_proba(X_test)"
   ]
  },
  {
   "cell_type": "code",
   "execution_count": null,
   "metadata": {
    "colab": {
     "base_uri": "https://localhost:8080/"
    },
    "id": "qyaRs-IdxIzO",
    "outputId": "fc9568fd-3f17-497d-bdb8-3d39e8f90c28"
   },
   "outputs": [
    {
     "name": "stdout",
     "output_type": "stream",
     "text": [
      "Train Confusion Matrix: \n",
      " [[ 1738 18122]\n",
      " [  945 18915]]\n",
      "Accuracy Train: 0.5199647532729104\n",
      "Precision Train: 0.5107055107055107\n",
      "Recall Train: 0.952416918429003\n",
      "AUC score 0.6433722322622912\n",
      "\n",
      " Test Confusion Matrix: \n",
      " [[ 4840 51136]\n",
      " [  228  4737]]\n",
      "Accuracy Test: 0.15715199947490197\n",
      "Precision Test: 0.08478155817657902\n",
      "Recall Test: 0.9540785498489426\n",
      "AUC score 0.6427949591689489\n"
     ]
    }
   ],
   "source": [
    "print(\"Train Confusion Matrix: \\n\", skm.confusion_matrix(y_train_usm, y_train_pred_gnb_usm))\n",
    "print(\"Accuracy Train:\", skm.accuracy_score(y_train_usm, y_train_pred_gnb_usm))\n",
    "print(\"Precision Train:\", skm.precision_score(y_train_usm, y_train_pred_gnb_usm))\n",
    "print(\"Recall Train:\", skm.recall_score(y_train_usm, y_train_pred_gnb_usm))\n",
    "print(\"AUC score\", skm.roc_auc_score(y_train_usm, y_train_proba_gnb_usm[:,1]))\n",
    "print(\"\\n Test Confusion Matrix: \\n\", skm.confusion_matrix(y_test, y_test_pred_gnb_usm))\n",
    "print(\"Accuracy Test:\", skm.accuracy_score(y_test, y_test_pred_gnb_usm))\n",
    "print(\"Precision Test:\", skm.precision_score(y_test, y_test_pred_gnb_usm))\n",
    "print(\"Recall Test:\", skm.recall_score(y_test, y_test_pred_gnb_usm))\n",
    "print(\"AUC score\", skm.roc_auc_score(y_test, y_test_proba_gnb_usm[:,1]))"
   ]
  },
  {
   "cell_type": "markdown",
   "metadata": {
    "id": "eXms11FBkXL2"
   },
   "source": [
    "### Finally let us explore different combinations with majority class from undersampling and minority class from oversampling"
   ]
  },
  {
   "cell_type": "code",
   "execution_count": null,
   "metadata": {
    "id": "62QHBhwdkSq-"
   },
   "outputs": [],
   "source": [
    "# define different parameters\n",
    "mj_minor_ratio= 1 # This is a parameter which defines what is the ratio between majority and minority class size in the combined data. 1 means they are equal\n",
    "# What is the size of the majority that we undersample to? 0.2 means we undersample the majority class to 20% of its original size   \n",
    "mj_size_pct=np.round(np.arange(0.2, 1.0, 0.1),2) \n",
    "omj_size=223896 # the original majority size\n",
    "omn_size=19860# the original minority size"
   ]
  },
  {
   "cell_type": "code",
   "execution_count": null,
   "metadata": {
    "id": "-vmTGRp3kSu_"
   },
   "outputs": [],
   "source": [
    "def combine_smote_usm(X,y,mj_size_pct,mj_minor_ratio,omj_size,omn_size):\n",
    "  underf = RandomUnderSampler(sampling_strategy=(omn_size/(omj_size*mj_size_pct)))\n",
    "  print('ss_usm',(omn_size/(omj_size*mj_size_pct)))\n",
    "  smotef = SMOTE(sampling_strategy=mj_size_pct*mj_minor_ratio)\n",
    "  print('ss_smote',(mj_size_pct*mj_minor_ratio))\n",
    "  X_usmf,y_usmf =underf.fit_sample(X.astype('float'), y)\n",
    "  X_smotef,y_smotef =smotef.fit_sample(X.astype('float'), y)\n",
    "  print(\"After usm: \", Counter(y_usmf))\n",
    "  print(\"After smote: \", Counter(y_smotef))\n",
    "  Xy_usmf=np.column_stack((X_usmf,y_usmf))\n",
    "  Xy_smotef=np.column_stack((X_smotef,y_smotef))\n",
    "  col_indx=X.shape[1]\n",
    "  X_usmf_mj=Xy_usmf[(Xy_usmf[:,col_indx]== 0),0:col_indx]\n",
    "  y_usmf_mj=Xy_usmf[(Xy_usmf[:,col_indx]== 0),col_indx]\n",
    "  X_smotef_mn=Xy_smotef[(Xy_smotef[:,col_indx]== 1),0:col_indx]\n",
    "  y_smotef_mn=Xy_smotef[(Xy_smotef[:,col_indx]== 1),col_indx]\n",
    "  X_smote_usm=np.row_stack((X_usmf_mj,X_smotef_mn))\n",
    "  y_smote_usm=np.concatenate((y_usmf_mj,y_smotef_mn))\n",
    "  return X_smote_usm, y_smote_usm"
   ]
  },
  {
   "cell_type": "code",
   "execution_count": null,
   "metadata": {
    "colab": {
     "base_uri": "https://localhost:8080/"
    },
    "id": "FLyU7FRrkTGl",
    "outputId": "02ac89dc-ce0f-43d7-bcb2-a5ad4c5cad62"
   },
   "outputs": [
    {
     "name": "stdout",
     "output_type": "stream",
     "text": [
      "ss_usm 0.17740379461893022\n",
      "ss_smote 0.5\n"
     ]
    },
    {
     "name": "stderr",
     "output_type": "stream",
     "text": [
      "/usr/local/lib/python3.6/dist-packages/sklearn/utils/deprecation.py:87: FutureWarning: Function safe_indexing is deprecated; safe_indexing is deprecated in version 0.22 and will be removed in version 0.24.\n",
      "  warnings.warn(msg, category=FutureWarning)\n",
      "/usr/local/lib/python3.6/dist-packages/sklearn/utils/deprecation.py:87: FutureWarning: Function safe_indexing is deprecated; safe_indexing is deprecated in version 0.22 and will be removed in version 0.24.\n",
      "  warnings.warn(msg, category=FutureWarning)\n"
     ]
    },
    {
     "name": "stdout",
     "output_type": "stream",
     "text": [
      "After usm:  Counter({0: 111948, 1: 19860})\n",
      "After smote:  Counter({0: 223896, 1: 111948})\n"
     ]
    }
   ],
   "source": [
    "X_combine, y_combine = combine_smote_usm(X_train.astype('float'),y_train,0.5,mj_minor_ratio,omj_size,omn_size)"
   ]
  },
  {
   "cell_type": "code",
   "execution_count": null,
   "metadata": {
    "colab": {
     "base_uri": "https://localhost:8080/"
    },
    "id": "N77Krkn_kTPW",
    "outputId": "b742d6c7-9ca1-40ee-aef1-12844d31d6b4"
   },
   "outputs": [
    {
     "name": "stdout",
     "output_type": "stream",
     "text": [
      "(223896, 80) (223896,)\n",
      "[0. 1.]\n"
     ]
    }
   ],
   "source": [
    "print(X_combine.shape, y_combine.shape)\n",
    "print(np.unique(y_combine))"
   ]
  },
  {
   "cell_type": "code",
   "execution_count": null,
   "metadata": {
    "colab": {
     "base_uri": "https://localhost:8080/"
    },
    "id": "VzbR70_ekTMa",
    "outputId": "1d5799a7-8603-4f10-9a43-49fd87e88af4"
   },
   "outputs": [
    {
     "name": "stdout",
     "output_type": "stream",
     "text": [
      "ss_usm 0.4435094865473255\n",
      "ss_smote 0.1\n"
     ]
    },
    {
     "name": "stderr",
     "output_type": "stream",
     "text": [
      "/usr/local/lib/python3.6/dist-packages/sklearn/utils/deprecation.py:87: FutureWarning: Function safe_indexing is deprecated; safe_indexing is deprecated in version 0.22 and will be removed in version 0.24.\n",
      "  warnings.warn(msg, category=FutureWarning)\n",
      "/usr/local/lib/python3.6/dist-packages/sklearn/utils/deprecation.py:87: FutureWarning: Function safe_indexing is deprecated; safe_indexing is deprecated in version 0.22 and will be removed in version 0.24.\n",
      "  warnings.warn(msg, category=FutureWarning)\n"
     ]
    },
    {
     "name": "stdout",
     "output_type": "stream",
     "text": [
      "After usm:  Counter({0: 44779, 1: 19860})\n",
      "After smote:  Counter({0: 223896, 1: 22389})\n",
      "ss_usm 0.29567299103155037\n",
      "ss_smote 0.15\n"
     ]
    },
    {
     "name": "stderr",
     "output_type": "stream",
     "text": [
      "/usr/local/lib/python3.6/dist-packages/sklearn/utils/deprecation.py:87: FutureWarning: Function safe_indexing is deprecated; safe_indexing is deprecated in version 0.22 and will be removed in version 0.24.\n",
      "  warnings.warn(msg, category=FutureWarning)\n",
      "/usr/local/lib/python3.6/dist-packages/sklearn/utils/deprecation.py:87: FutureWarning: Function safe_indexing is deprecated; safe_indexing is deprecated in version 0.22 and will be removed in version 0.24.\n",
      "  warnings.warn(msg, category=FutureWarning)\n"
     ]
    },
    {
     "name": "stdout",
     "output_type": "stream",
     "text": [
      "After usm:  Counter({0: 67168, 1: 19860})\n",
      "After smote:  Counter({0: 223896, 1: 33584})\n",
      "ss_usm 0.22175474327366276\n",
      "ss_smote 0.2\n"
     ]
    },
    {
     "name": "stderr",
     "output_type": "stream",
     "text": [
      "/usr/local/lib/python3.6/dist-packages/sklearn/utils/deprecation.py:87: FutureWarning: Function safe_indexing is deprecated; safe_indexing is deprecated in version 0.22 and will be removed in version 0.24.\n",
      "  warnings.warn(msg, category=FutureWarning)\n",
      "/usr/local/lib/python3.6/dist-packages/sklearn/utils/deprecation.py:87: FutureWarning: Function safe_indexing is deprecated; safe_indexing is deprecated in version 0.22 and will be removed in version 0.24.\n",
      "  warnings.warn(msg, category=FutureWarning)\n"
     ]
    },
    {
     "name": "stdout",
     "output_type": "stream",
     "text": [
      "After usm:  Counter({0: 89558, 1: 19860})\n",
      "After smote:  Counter({0: 223896, 1: 44779})\n",
      "ss_usm 0.17740379461893022\n",
      "ss_smote 0.25\n"
     ]
    },
    {
     "name": "stderr",
     "output_type": "stream",
     "text": [
      "/usr/local/lib/python3.6/dist-packages/sklearn/utils/deprecation.py:87: FutureWarning: Function safe_indexing is deprecated; safe_indexing is deprecated in version 0.22 and will be removed in version 0.24.\n",
      "  warnings.warn(msg, category=FutureWarning)\n",
      "/usr/local/lib/python3.6/dist-packages/sklearn/utils/deprecation.py:87: FutureWarning: Function safe_indexing is deprecated; safe_indexing is deprecated in version 0.22 and will be removed in version 0.24.\n",
      "  warnings.warn(msg, category=FutureWarning)\n"
     ]
    },
    {
     "name": "stdout",
     "output_type": "stream",
     "text": [
      "After usm:  Counter({0: 111948, 1: 19860})\n",
      "After smote:  Counter({0: 223896, 1: 55974})\n",
      "ss_usm 0.14783649551577518\n",
      "ss_smote 0.3\n"
     ]
    },
    {
     "name": "stderr",
     "output_type": "stream",
     "text": [
      "/usr/local/lib/python3.6/dist-packages/sklearn/utils/deprecation.py:87: FutureWarning: Function safe_indexing is deprecated; safe_indexing is deprecated in version 0.22 and will be removed in version 0.24.\n",
      "  warnings.warn(msg, category=FutureWarning)\n",
      "/usr/local/lib/python3.6/dist-packages/sklearn/utils/deprecation.py:87: FutureWarning: Function safe_indexing is deprecated; safe_indexing is deprecated in version 0.22 and will be removed in version 0.24.\n",
      "  warnings.warn(msg, category=FutureWarning)\n"
     ]
    },
    {
     "name": "stdout",
     "output_type": "stream",
     "text": [
      "After usm:  Counter({0: 134337, 1: 19860})\n",
      "After smote:  Counter({0: 223896, 1: 67168})\n",
      "ss_usm 0.12671699615637874\n",
      "ss_smote 0.35\n"
     ]
    },
    {
     "name": "stderr",
     "output_type": "stream",
     "text": [
      "/usr/local/lib/python3.6/dist-packages/sklearn/utils/deprecation.py:87: FutureWarning: Function safe_indexing is deprecated; safe_indexing is deprecated in version 0.22 and will be removed in version 0.24.\n",
      "  warnings.warn(msg, category=FutureWarning)\n",
      "/usr/local/lib/python3.6/dist-packages/sklearn/utils/deprecation.py:87: FutureWarning: Function safe_indexing is deprecated; safe_indexing is deprecated in version 0.22 and will be removed in version 0.24.\n",
      "  warnings.warn(msg, category=FutureWarning)\n"
     ]
    },
    {
     "name": "stdout",
     "output_type": "stream",
     "text": [
      "After usm:  Counter({0: 156727, 1: 19860})\n",
      "After smote:  Counter({0: 223896, 1: 78363})\n",
      "ss_usm 0.11087737163683138\n",
      "ss_smote 0.4\n"
     ]
    },
    {
     "name": "stderr",
     "output_type": "stream",
     "text": [
      "/usr/local/lib/python3.6/dist-packages/sklearn/utils/deprecation.py:87: FutureWarning: Function safe_indexing is deprecated; safe_indexing is deprecated in version 0.22 and will be removed in version 0.24.\n",
      "  warnings.warn(msg, category=FutureWarning)\n",
      "/usr/local/lib/python3.6/dist-packages/sklearn/utils/deprecation.py:87: FutureWarning: Function safe_indexing is deprecated; safe_indexing is deprecated in version 0.22 and will be removed in version 0.24.\n",
      "  warnings.warn(msg, category=FutureWarning)\n"
     ]
    },
    {
     "name": "stdout",
     "output_type": "stream",
     "text": [
      "After usm:  Counter({0: 179116, 1: 19860})\n",
      "After smote:  Counter({0: 223896, 1: 89558})\n",
      "ss_usm 0.09855766367718345\n",
      "ss_smote 0.45\n"
     ]
    },
    {
     "name": "stderr",
     "output_type": "stream",
     "text": [
      "/usr/local/lib/python3.6/dist-packages/sklearn/utils/deprecation.py:87: FutureWarning: Function safe_indexing is deprecated; safe_indexing is deprecated in version 0.22 and will be removed in version 0.24.\n",
      "  warnings.warn(msg, category=FutureWarning)\n",
      "/usr/local/lib/python3.6/dist-packages/sklearn/utils/deprecation.py:87: FutureWarning: Function safe_indexing is deprecated; safe_indexing is deprecated in version 0.22 and will be removed in version 0.24.\n",
      "  warnings.warn(msg, category=FutureWarning)\n"
     ]
    },
    {
     "name": "stdout",
     "output_type": "stream",
     "text": [
      "After usm:  Counter({0: 201506, 1: 19860})\n",
      "After smote:  Counter({0: 223896, 1: 100753})\n",
      "ss_usm 0.4435094865473255\n",
      "ss_smote 0.15000000000000002\n"
     ]
    },
    {
     "name": "stderr",
     "output_type": "stream",
     "text": [
      "/usr/local/lib/python3.6/dist-packages/sklearn/utils/deprecation.py:87: FutureWarning: Function safe_indexing is deprecated; safe_indexing is deprecated in version 0.22 and will be removed in version 0.24.\n",
      "  warnings.warn(msg, category=FutureWarning)\n",
      "/usr/local/lib/python3.6/dist-packages/sklearn/utils/deprecation.py:87: FutureWarning: Function safe_indexing is deprecated; safe_indexing is deprecated in version 0.22 and will be removed in version 0.24.\n",
      "  warnings.warn(msg, category=FutureWarning)\n"
     ]
    },
    {
     "name": "stdout",
     "output_type": "stream",
     "text": [
      "After usm:  Counter({0: 44779, 1: 19860})\n",
      "After smote:  Counter({0: 223896, 1: 33584})\n",
      "ss_usm 0.29567299103155037\n",
      "ss_smote 0.22499999999999998\n"
     ]
    },
    {
     "name": "stderr",
     "output_type": "stream",
     "text": [
      "/usr/local/lib/python3.6/dist-packages/sklearn/utils/deprecation.py:87: FutureWarning: Function safe_indexing is deprecated; safe_indexing is deprecated in version 0.22 and will be removed in version 0.24.\n",
      "  warnings.warn(msg, category=FutureWarning)\n",
      "/usr/local/lib/python3.6/dist-packages/sklearn/utils/deprecation.py:87: FutureWarning: Function safe_indexing is deprecated; safe_indexing is deprecated in version 0.22 and will be removed in version 0.24.\n",
      "  warnings.warn(msg, category=FutureWarning)\n"
     ]
    },
    {
     "name": "stdout",
     "output_type": "stream",
     "text": [
      "After usm:  Counter({0: 67168, 1: 19860})\n",
      "After smote:  Counter({0: 223896, 1: 50376})\n",
      "ss_usm 0.22175474327366276\n",
      "ss_smote 0.30000000000000004\n"
     ]
    },
    {
     "name": "stderr",
     "output_type": "stream",
     "text": [
      "/usr/local/lib/python3.6/dist-packages/sklearn/utils/deprecation.py:87: FutureWarning: Function safe_indexing is deprecated; safe_indexing is deprecated in version 0.22 and will be removed in version 0.24.\n",
      "  warnings.warn(msg, category=FutureWarning)\n",
      "/usr/local/lib/python3.6/dist-packages/sklearn/utils/deprecation.py:87: FutureWarning: Function safe_indexing is deprecated; safe_indexing is deprecated in version 0.22 and will be removed in version 0.24.\n",
      "  warnings.warn(msg, category=FutureWarning)\n"
     ]
    },
    {
     "name": "stdout",
     "output_type": "stream",
     "text": [
      "After usm:  Counter({0: 89558, 1: 19860})\n",
      "After smote:  Counter({0: 223896, 1: 67168})\n",
      "ss_usm 0.17740379461893022\n",
      "ss_smote 0.375\n"
     ]
    },
    {
     "name": "stderr",
     "output_type": "stream",
     "text": [
      "/usr/local/lib/python3.6/dist-packages/sklearn/utils/deprecation.py:87: FutureWarning: Function safe_indexing is deprecated; safe_indexing is deprecated in version 0.22 and will be removed in version 0.24.\n",
      "  warnings.warn(msg, category=FutureWarning)\n",
      "/usr/local/lib/python3.6/dist-packages/sklearn/utils/deprecation.py:87: FutureWarning: Function safe_indexing is deprecated; safe_indexing is deprecated in version 0.22 and will be removed in version 0.24.\n",
      "  warnings.warn(msg, category=FutureWarning)\n"
     ]
    },
    {
     "name": "stdout",
     "output_type": "stream",
     "text": [
      "After usm:  Counter({0: 111948, 1: 19860})\n",
      "After smote:  Counter({0: 223896, 1: 83961})\n",
      "ss_usm 0.14783649551577518\n",
      "ss_smote 0.44999999999999996\n"
     ]
    },
    {
     "name": "stderr",
     "output_type": "stream",
     "text": [
      "/usr/local/lib/python3.6/dist-packages/sklearn/utils/deprecation.py:87: FutureWarning: Function safe_indexing is deprecated; safe_indexing is deprecated in version 0.22 and will be removed in version 0.24.\n",
      "  warnings.warn(msg, category=FutureWarning)\n",
      "/usr/local/lib/python3.6/dist-packages/sklearn/utils/deprecation.py:87: FutureWarning: Function safe_indexing is deprecated; safe_indexing is deprecated in version 0.22 and will be removed in version 0.24.\n",
      "  warnings.warn(msg, category=FutureWarning)\n"
     ]
    },
    {
     "name": "stdout",
     "output_type": "stream",
     "text": [
      "After usm:  Counter({0: 134337, 1: 19860})\n",
      "After smote:  Counter({0: 223896, 1: 100753})\n",
      "ss_usm 0.12671699615637874\n",
      "ss_smote 0.5249999999999999\n"
     ]
    },
    {
     "name": "stderr",
     "output_type": "stream",
     "text": [
      "/usr/local/lib/python3.6/dist-packages/sklearn/utils/deprecation.py:87: FutureWarning: Function safe_indexing is deprecated; safe_indexing is deprecated in version 0.22 and will be removed in version 0.24.\n",
      "  warnings.warn(msg, category=FutureWarning)\n",
      "/usr/local/lib/python3.6/dist-packages/sklearn/utils/deprecation.py:87: FutureWarning: Function safe_indexing is deprecated; safe_indexing is deprecated in version 0.22 and will be removed in version 0.24.\n",
      "  warnings.warn(msg, category=FutureWarning)\n"
     ]
    },
    {
     "name": "stdout",
     "output_type": "stream",
     "text": [
      "After usm:  Counter({0: 156727, 1: 19860})\n",
      "After smote:  Counter({0: 223896, 1: 117545})\n",
      "ss_usm 0.11087737163683138\n",
      "ss_smote 0.6000000000000001\n"
     ]
    },
    {
     "name": "stderr",
     "output_type": "stream",
     "text": [
      "/usr/local/lib/python3.6/dist-packages/sklearn/utils/deprecation.py:87: FutureWarning: Function safe_indexing is deprecated; safe_indexing is deprecated in version 0.22 and will be removed in version 0.24.\n",
      "  warnings.warn(msg, category=FutureWarning)\n",
      "/usr/local/lib/python3.6/dist-packages/sklearn/utils/deprecation.py:87: FutureWarning: Function safe_indexing is deprecated; safe_indexing is deprecated in version 0.22 and will be removed in version 0.24.\n",
      "  warnings.warn(msg, category=FutureWarning)\n"
     ]
    },
    {
     "name": "stdout",
     "output_type": "stream",
     "text": [
      "After usm:  Counter({0: 179116, 1: 19860})\n",
      "After smote:  Counter({0: 223896, 1: 134337})\n",
      "ss_usm 0.09855766367718345\n",
      "ss_smote 0.675\n"
     ]
    },
    {
     "name": "stderr",
     "output_type": "stream",
     "text": [
      "/usr/local/lib/python3.6/dist-packages/sklearn/utils/deprecation.py:87: FutureWarning: Function safe_indexing is deprecated; safe_indexing is deprecated in version 0.22 and will be removed in version 0.24.\n",
      "  warnings.warn(msg, category=FutureWarning)\n",
      "/usr/local/lib/python3.6/dist-packages/sklearn/utils/deprecation.py:87: FutureWarning: Function safe_indexing is deprecated; safe_indexing is deprecated in version 0.22 and will be removed in version 0.24.\n",
      "  warnings.warn(msg, category=FutureWarning)\n"
     ]
    },
    {
     "name": "stdout",
     "output_type": "stream",
     "text": [
      "After usm:  Counter({0: 201506, 1: 19860})\n",
      "After smote:  Counter({0: 223896, 1: 151129})\n",
      "ss_usm 0.4435094865473255\n",
      "ss_smote 0.2\n"
     ]
    },
    {
     "name": "stderr",
     "output_type": "stream",
     "text": [
      "/usr/local/lib/python3.6/dist-packages/sklearn/utils/deprecation.py:87: FutureWarning: Function safe_indexing is deprecated; safe_indexing is deprecated in version 0.22 and will be removed in version 0.24.\n",
      "  warnings.warn(msg, category=FutureWarning)\n",
      "/usr/local/lib/python3.6/dist-packages/sklearn/utils/deprecation.py:87: FutureWarning: Function safe_indexing is deprecated; safe_indexing is deprecated in version 0.22 and will be removed in version 0.24.\n",
      "  warnings.warn(msg, category=FutureWarning)\n"
     ]
    },
    {
     "name": "stdout",
     "output_type": "stream",
     "text": [
      "After usm:  Counter({0: 44779, 1: 19860})\n",
      "After smote:  Counter({0: 223896, 1: 44779})\n",
      "ss_usm 0.29567299103155037\n",
      "ss_smote 0.3\n"
     ]
    },
    {
     "name": "stderr",
     "output_type": "stream",
     "text": [
      "/usr/local/lib/python3.6/dist-packages/sklearn/utils/deprecation.py:87: FutureWarning: Function safe_indexing is deprecated; safe_indexing is deprecated in version 0.22 and will be removed in version 0.24.\n",
      "  warnings.warn(msg, category=FutureWarning)\n",
      "/usr/local/lib/python3.6/dist-packages/sklearn/utils/deprecation.py:87: FutureWarning: Function safe_indexing is deprecated; safe_indexing is deprecated in version 0.22 and will be removed in version 0.24.\n",
      "  warnings.warn(msg, category=FutureWarning)\n"
     ]
    },
    {
     "name": "stdout",
     "output_type": "stream",
     "text": [
      "After usm:  Counter({0: 67168, 1: 19860})\n",
      "After smote:  Counter({0: 223896, 1: 67168})\n",
      "ss_usm 0.22175474327366276\n",
      "ss_smote 0.4\n"
     ]
    },
    {
     "name": "stderr",
     "output_type": "stream",
     "text": [
      "/usr/local/lib/python3.6/dist-packages/sklearn/utils/deprecation.py:87: FutureWarning: Function safe_indexing is deprecated; safe_indexing is deprecated in version 0.22 and will be removed in version 0.24.\n",
      "  warnings.warn(msg, category=FutureWarning)\n",
      "/usr/local/lib/python3.6/dist-packages/sklearn/utils/deprecation.py:87: FutureWarning: Function safe_indexing is deprecated; safe_indexing is deprecated in version 0.22 and will be removed in version 0.24.\n",
      "  warnings.warn(msg, category=FutureWarning)\n"
     ]
    },
    {
     "name": "stdout",
     "output_type": "stream",
     "text": [
      "After usm:  Counter({0: 89558, 1: 19860})\n",
      "After smote:  Counter({0: 223896, 1: 89558})\n",
      "ss_usm 0.17740379461893022\n",
      "ss_smote 0.5\n"
     ]
    },
    {
     "name": "stderr",
     "output_type": "stream",
     "text": [
      "/usr/local/lib/python3.6/dist-packages/sklearn/utils/deprecation.py:87: FutureWarning: Function safe_indexing is deprecated; safe_indexing is deprecated in version 0.22 and will be removed in version 0.24.\n",
      "  warnings.warn(msg, category=FutureWarning)\n",
      "/usr/local/lib/python3.6/dist-packages/sklearn/utils/deprecation.py:87: FutureWarning: Function safe_indexing is deprecated; safe_indexing is deprecated in version 0.22 and will be removed in version 0.24.\n",
      "  warnings.warn(msg, category=FutureWarning)\n"
     ]
    },
    {
     "name": "stdout",
     "output_type": "stream",
     "text": [
      "After usm:  Counter({0: 111948, 1: 19860})\n",
      "After smote:  Counter({0: 223896, 1: 111948})\n",
      "ss_usm 0.14783649551577518\n",
      "ss_smote 0.6\n"
     ]
    },
    {
     "name": "stderr",
     "output_type": "stream",
     "text": [
      "/usr/local/lib/python3.6/dist-packages/sklearn/utils/deprecation.py:87: FutureWarning: Function safe_indexing is deprecated; safe_indexing is deprecated in version 0.22 and will be removed in version 0.24.\n",
      "  warnings.warn(msg, category=FutureWarning)\n",
      "/usr/local/lib/python3.6/dist-packages/sklearn/utils/deprecation.py:87: FutureWarning: Function safe_indexing is deprecated; safe_indexing is deprecated in version 0.22 and will be removed in version 0.24.\n",
      "  warnings.warn(msg, category=FutureWarning)\n"
     ]
    },
    {
     "name": "stdout",
     "output_type": "stream",
     "text": [
      "After usm:  Counter({0: 134337, 1: 19860})\n",
      "After smote:  Counter({0: 223896, 1: 134337})\n",
      "ss_usm 0.12671699615637874\n",
      "ss_smote 0.7\n"
     ]
    },
    {
     "name": "stderr",
     "output_type": "stream",
     "text": [
      "/usr/local/lib/python3.6/dist-packages/sklearn/utils/deprecation.py:87: FutureWarning: Function safe_indexing is deprecated; safe_indexing is deprecated in version 0.22 and will be removed in version 0.24.\n",
      "  warnings.warn(msg, category=FutureWarning)\n",
      "/usr/local/lib/python3.6/dist-packages/sklearn/utils/deprecation.py:87: FutureWarning: Function safe_indexing is deprecated; safe_indexing is deprecated in version 0.22 and will be removed in version 0.24.\n",
      "  warnings.warn(msg, category=FutureWarning)\n"
     ]
    },
    {
     "name": "stdout",
     "output_type": "stream",
     "text": [
      "After usm:  Counter({0: 156727, 1: 19860})\n",
      "After smote:  Counter({0: 223896, 1: 156727})\n",
      "ss_usm 0.11087737163683138\n",
      "ss_smote 0.8\n"
     ]
    },
    {
     "name": "stderr",
     "output_type": "stream",
     "text": [
      "/usr/local/lib/python3.6/dist-packages/sklearn/utils/deprecation.py:87: FutureWarning: Function safe_indexing is deprecated; safe_indexing is deprecated in version 0.22 and will be removed in version 0.24.\n",
      "  warnings.warn(msg, category=FutureWarning)\n",
      "/usr/local/lib/python3.6/dist-packages/sklearn/utils/deprecation.py:87: FutureWarning: Function safe_indexing is deprecated; safe_indexing is deprecated in version 0.22 and will be removed in version 0.24.\n",
      "  warnings.warn(msg, category=FutureWarning)\n"
     ]
    },
    {
     "name": "stdout",
     "output_type": "stream",
     "text": [
      "After usm:  Counter({0: 179116, 1: 19860})\n",
      "After smote:  Counter({0: 223896, 1: 179116})\n",
      "ss_usm 0.09855766367718345\n",
      "ss_smote 0.9\n"
     ]
    },
    {
     "name": "stderr",
     "output_type": "stream",
     "text": [
      "/usr/local/lib/python3.6/dist-packages/sklearn/utils/deprecation.py:87: FutureWarning: Function safe_indexing is deprecated; safe_indexing is deprecated in version 0.22 and will be removed in version 0.24.\n",
      "  warnings.warn(msg, category=FutureWarning)\n",
      "/usr/local/lib/python3.6/dist-packages/sklearn/utils/deprecation.py:87: FutureWarning: Function safe_indexing is deprecated; safe_indexing is deprecated in version 0.22 and will be removed in version 0.24.\n",
      "  warnings.warn(msg, category=FutureWarning)\n"
     ]
    },
    {
     "name": "stdout",
     "output_type": "stream",
     "text": [
      "After usm:  Counter({0: 201506, 1: 19860})\n",
      "After smote:  Counter({0: 223896, 1: 201506})\n"
     ]
    }
   ],
   "source": [
    "rff = RandomForestClassifier()\n",
    "# define different parameters\n",
    "mj_minor_ratio= [0.5,0.75,1.0] # This is a parameter which defines what is the ratio between majority and minority class size in the combined data. 1 means they are equal\n",
    "# What is the size of the majority that we undersample to? 0.2 means we undersample the majority class to 20% of its original size   \n",
    "mj_size_pct=np.round(np.arange(0.2, 1.0, 0.1),2) \n",
    "omj_size=223896 # the original majority size\n",
    "omn_size=19860# the original minority size\n",
    "table = pd.DataFrame(columns =['mj_minor_ratio','mj_size_pct', 'Accuracy train', 'Precision train','Recall train',\n",
    "                               'Accuracy test', 'Precision test','Recall test','AUC Score Test'])\n",
    "\n",
    "for j in mj_minor_ratio:\n",
    "    for i in mj_size_pct:\n",
    "      X_combine, y_combine =combine_smote_usm(X_train.astype('float'),y_train,i,j,omj_size,omn_size)\n",
    "      rff.fit(X_combine, y_combine)\n",
    "      y_train_pred_rf_combine = rff.predict(X_combine)\n",
    "      y_test_pred_rf_combine = rff.predict(X_test)\n",
    "      y_test_proba_rf_combine = rff.predict_proba(X_test)\n",
    "      accu_tr=skm.accuracy_score(y_combine, y_train_pred_rf_combine)\n",
    "      preci_tr=skm.precision_score(y_combine, y_train_pred_rf_combine)\n",
    "      recall_tr=skm.recall_score(y_combine, y_train_pred_rf_combine)\n",
    "      accu_te=skm.accuracy_score(y_test, y_test_pred_rf_combine)\n",
    "      preci_te=skm.precision_score(y_test, y_test_pred_rf_combine)\n",
    "      recall_te=skm.recall_score(y_test, y_test_pred_rf_combine)\n",
    "      auc_te=skm.roc_auc_score(y_test, y_test_proba_rf_combine[:,1])\n",
    "      row=pd.DataFrame([[j,i,accu_tr,preci_tr,recall_tr,accu_te,preci_te,recall_te,auc_te]],\n",
    "      columns =['mj_minor_ratio','mj_size_pct', 'Accuracy train', 'Precision train','Recall train',\n",
    "                'Accuracy test', 'Precision test','Recall test','AUC Score Test'])\n",
    "      table=table.append(row)"
   ]
  },
  {
   "cell_type": "code",
   "execution_count": null,
   "metadata": {
    "colab": {
     "base_uri": "https://localhost:8080/",
     "height": 790
    },
    "id": "WdeaGwz1GUky",
    "outputId": "df4efd23-5ed6-413a-d425-65c60bcbeb19"
   },
   "outputs": [
    {
     "data": {
      "text/html": [
       "<div>\n",
       "<style scoped>\n",
       "    .dataframe tbody tr th:only-of-type {\n",
       "        vertical-align: middle;\n",
       "    }\n",
       "\n",
       "    .dataframe tbody tr th {\n",
       "        vertical-align: top;\n",
       "    }\n",
       "\n",
       "    .dataframe thead th {\n",
       "        text-align: right;\n",
       "    }\n",
       "</style>\n",
       "<table border=\"1\" class=\"dataframe\">\n",
       "  <thead>\n",
       "    <tr style=\"text-align: right;\">\n",
       "      <th></th>\n",
       "      <th>mj_minor_ratio</th>\n",
       "      <th>mj_size_pct</th>\n",
       "      <th>Accuracy train</th>\n",
       "      <th>Precision train</th>\n",
       "      <th>Recall train</th>\n",
       "      <th>Accuracy test</th>\n",
       "      <th>Precision test</th>\n",
       "      <th>Recall test</th>\n",
       "      <th>AUC Score Test</th>\n",
       "    </tr>\n",
       "  </thead>\n",
       "  <tbody>\n",
       "    <tr>\n",
       "      <th>0</th>\n",
       "      <td>0.50</td>\n",
       "      <td>0.2</td>\n",
       "      <td>0.999985</td>\n",
       "      <td>1.0</td>\n",
       "      <td>0.999955</td>\n",
       "      <td>0.870908</td>\n",
       "      <td>0.226226</td>\n",
       "      <td>0.241490</td>\n",
       "      <td>0.694157</td>\n",
       "    </tr>\n",
       "    <tr>\n",
       "      <th>0</th>\n",
       "      <td>0.50</td>\n",
       "      <td>0.3</td>\n",
       "      <td>1.000000</td>\n",
       "      <td>1.0</td>\n",
       "      <td>1.000000</td>\n",
       "      <td>0.898492</td>\n",
       "      <td>0.253731</td>\n",
       "      <td>0.126687</td>\n",
       "      <td>0.693768</td>\n",
       "    </tr>\n",
       "    <tr>\n",
       "      <th>0</th>\n",
       "      <td>0.50</td>\n",
       "      <td>0.4</td>\n",
       "      <td>0.999993</td>\n",
       "      <td>1.0</td>\n",
       "      <td>0.999978</td>\n",
       "      <td>0.909240</td>\n",
       "      <td>0.275397</td>\n",
       "      <td>0.069889</td>\n",
       "      <td>0.688340</td>\n",
       "    </tr>\n",
       "    <tr>\n",
       "      <th>0</th>\n",
       "      <td>0.50</td>\n",
       "      <td>0.5</td>\n",
       "      <td>0.999994</td>\n",
       "      <td>1.0</td>\n",
       "      <td>0.999982</td>\n",
       "      <td>0.913654</td>\n",
       "      <td>0.308880</td>\n",
       "      <td>0.048338</td>\n",
       "      <td>0.688802</td>\n",
       "    </tr>\n",
       "    <tr>\n",
       "      <th>0</th>\n",
       "      <td>0.50</td>\n",
       "      <td>0.6</td>\n",
       "      <td>1.000000</td>\n",
       "      <td>1.0</td>\n",
       "      <td>1.000000</td>\n",
       "      <td>0.915984</td>\n",
       "      <td>0.305764</td>\n",
       "      <td>0.024572</td>\n",
       "      <td>0.685985</td>\n",
       "    </tr>\n",
       "    <tr>\n",
       "      <th>0</th>\n",
       "      <td>0.50</td>\n",
       "      <td>0.7</td>\n",
       "      <td>0.999996</td>\n",
       "      <td>1.0</td>\n",
       "      <td>0.999987</td>\n",
       "      <td>0.916952</td>\n",
       "      <td>0.316794</td>\n",
       "      <td>0.016717</td>\n",
       "      <td>0.683444</td>\n",
       "    </tr>\n",
       "    <tr>\n",
       "      <th>0</th>\n",
       "      <td>0.50</td>\n",
       "      <td>0.8</td>\n",
       "      <td>0.999996</td>\n",
       "      <td>1.0</td>\n",
       "      <td>0.999989</td>\n",
       "      <td>0.917346</td>\n",
       "      <td>0.302198</td>\n",
       "      <td>0.011078</td>\n",
       "      <td>0.682837</td>\n",
       "    </tr>\n",
       "    <tr>\n",
       "      <th>0</th>\n",
       "      <td>0.50</td>\n",
       "      <td>0.9</td>\n",
       "      <td>0.999997</td>\n",
       "      <td>1.0</td>\n",
       "      <td>0.999990</td>\n",
       "      <td>0.917904</td>\n",
       "      <td>0.364286</td>\n",
       "      <td>0.010272</td>\n",
       "      <td>0.681329</td>\n",
       "    </tr>\n",
       "    <tr>\n",
       "      <th>0</th>\n",
       "      <td>0.75</td>\n",
       "      <td>0.2</td>\n",
       "      <td>1.000000</td>\n",
       "      <td>1.0</td>\n",
       "      <td>1.000000</td>\n",
       "      <td>0.849264</td>\n",
       "      <td>0.206834</td>\n",
       "      <td>0.299899</td>\n",
       "      <td>0.693619</td>\n",
       "    </tr>\n",
       "    <tr>\n",
       "      <th>0</th>\n",
       "      <td>0.75</td>\n",
       "      <td>0.3</td>\n",
       "      <td>1.000000</td>\n",
       "      <td>1.0</td>\n",
       "      <td>1.000000</td>\n",
       "      <td>0.887727</td>\n",
       "      <td>0.232849</td>\n",
       "      <td>0.164753</td>\n",
       "      <td>0.691653</td>\n",
       "    </tr>\n",
       "    <tr>\n",
       "      <th>0</th>\n",
       "      <td>0.75</td>\n",
       "      <td>0.4</td>\n",
       "      <td>0.999994</td>\n",
       "      <td>1.0</td>\n",
       "      <td>0.999985</td>\n",
       "      <td>0.904284</td>\n",
       "      <td>0.265405</td>\n",
       "      <td>0.098892</td>\n",
       "      <td>0.687853</td>\n",
       "    </tr>\n",
       "    <tr>\n",
       "      <th>0</th>\n",
       "      <td>0.75</td>\n",
       "      <td>0.5</td>\n",
       "      <td>1.000000</td>\n",
       "      <td>1.0</td>\n",
       "      <td>1.000000</td>\n",
       "      <td>0.909207</td>\n",
       "      <td>0.259729</td>\n",
       "      <td>0.061833</td>\n",
       "      <td>0.683680</td>\n",
       "    </tr>\n",
       "    <tr>\n",
       "      <th>0</th>\n",
       "      <td>0.75</td>\n",
       "      <td>0.6</td>\n",
       "      <td>1.000000</td>\n",
       "      <td>1.0</td>\n",
       "      <td>1.000000</td>\n",
       "      <td>0.912440</td>\n",
       "      <td>0.269565</td>\n",
       "      <td>0.043706</td>\n",
       "      <td>0.688681</td>\n",
       "    </tr>\n",
       "    <tr>\n",
       "      <th>0</th>\n",
       "      <td>0.75</td>\n",
       "      <td>0.7</td>\n",
       "      <td>1.000000</td>\n",
       "      <td>1.0</td>\n",
       "      <td>1.000000</td>\n",
       "      <td>0.914097</td>\n",
       "      <td>0.263158</td>\n",
       "      <td>0.030211</td>\n",
       "      <td>0.681489</td>\n",
       "    </tr>\n",
       "    <tr>\n",
       "      <th>0</th>\n",
       "      <td>0.75</td>\n",
       "      <td>0.8</td>\n",
       "      <td>0.999997</td>\n",
       "      <td>1.0</td>\n",
       "      <td>0.999993</td>\n",
       "      <td>0.915476</td>\n",
       "      <td>0.263959</td>\n",
       "      <td>0.020947</td>\n",
       "      <td>0.679507</td>\n",
       "    </tr>\n",
       "    <tr>\n",
       "      <th>0</th>\n",
       "      <td>0.75</td>\n",
       "      <td>0.9</td>\n",
       "      <td>1.000000</td>\n",
       "      <td>1.0</td>\n",
       "      <td>1.000000</td>\n",
       "      <td>0.916280</td>\n",
       "      <td>0.282540</td>\n",
       "      <td>0.017925</td>\n",
       "      <td>0.678212</td>\n",
       "    </tr>\n",
       "    <tr>\n",
       "      <th>0</th>\n",
       "      <td>1.00</td>\n",
       "      <td>0.2</td>\n",
       "      <td>1.000000</td>\n",
       "      <td>1.0</td>\n",
       "      <td>1.000000</td>\n",
       "      <td>0.830344</td>\n",
       "      <td>0.193475</td>\n",
       "      <td>0.341591</td>\n",
       "      <td>0.693876</td>\n",
       "    </tr>\n",
       "    <tr>\n",
       "      <th>0</th>\n",
       "      <td>1.00</td>\n",
       "      <td>0.3</td>\n",
       "      <td>1.000000</td>\n",
       "      <td>1.0</td>\n",
       "      <td>1.000000</td>\n",
       "      <td>0.875010</td>\n",
       "      <td>0.213731</td>\n",
       "      <td>0.199396</td>\n",
       "      <td>0.689922</td>\n",
       "    </tr>\n",
       "    <tr>\n",
       "      <th>0</th>\n",
       "      <td>1.00</td>\n",
       "      <td>0.4</td>\n",
       "      <td>1.000000</td>\n",
       "      <td>1.0</td>\n",
       "      <td>1.000000</td>\n",
       "      <td>0.895916</td>\n",
       "      <td>0.233153</td>\n",
       "      <td>0.121249</td>\n",
       "      <td>0.688560</td>\n",
       "    </tr>\n",
       "    <tr>\n",
       "      <th>0</th>\n",
       "      <td>1.00</td>\n",
       "      <td>0.5</td>\n",
       "      <td>1.000000</td>\n",
       "      <td>1.0</td>\n",
       "      <td>1.000000</td>\n",
       "      <td>0.905860</td>\n",
       "      <td>0.257233</td>\n",
       "      <td>0.082377</td>\n",
       "      <td>0.685256</td>\n",
       "    </tr>\n",
       "    <tr>\n",
       "      <th>0</th>\n",
       "      <td>1.00</td>\n",
       "      <td>0.6</td>\n",
       "      <td>1.000000</td>\n",
       "      <td>1.0</td>\n",
       "      <td>1.000000</td>\n",
       "      <td>0.909191</td>\n",
       "      <td>0.245755</td>\n",
       "      <td>0.055388</td>\n",
       "      <td>0.681435</td>\n",
       "    </tr>\n",
       "    <tr>\n",
       "      <th>0</th>\n",
       "      <td>1.00</td>\n",
       "      <td>0.7</td>\n",
       "      <td>1.000000</td>\n",
       "      <td>1.0</td>\n",
       "      <td>1.000000</td>\n",
       "      <td>0.912702</td>\n",
       "      <td>0.259811</td>\n",
       "      <td>0.038671</td>\n",
       "      <td>0.680079</td>\n",
       "    </tr>\n",
       "    <tr>\n",
       "      <th>0</th>\n",
       "      <td>1.00</td>\n",
       "      <td>0.8</td>\n",
       "      <td>1.000000</td>\n",
       "      <td>1.0</td>\n",
       "      <td>1.000000</td>\n",
       "      <td>0.914032</td>\n",
       "      <td>0.261324</td>\n",
       "      <td>0.030211</td>\n",
       "      <td>0.677126</td>\n",
       "    </tr>\n",
       "    <tr>\n",
       "      <th>0</th>\n",
       "      <td>1.00</td>\n",
       "      <td>0.9</td>\n",
       "      <td>1.000000</td>\n",
       "      <td>1.0</td>\n",
       "      <td>1.000000</td>\n",
       "      <td>0.914376</td>\n",
       "      <td>0.232558</td>\n",
       "      <td>0.022155</td>\n",
       "      <td>0.677658</td>\n",
       "    </tr>\n",
       "  </tbody>\n",
       "</table>\n",
       "</div>"
      ],
      "text/plain": [
       "   mj_minor_ratio  mj_size_pct  ...  Recall test  AUC Score Test\n",
       "0            0.50          0.2  ...     0.241490        0.694157\n",
       "0            0.50          0.3  ...     0.126687        0.693768\n",
       "0            0.50          0.4  ...     0.069889        0.688340\n",
       "0            0.50          0.5  ...     0.048338        0.688802\n",
       "0            0.50          0.6  ...     0.024572        0.685985\n",
       "0            0.50          0.7  ...     0.016717        0.683444\n",
       "0            0.50          0.8  ...     0.011078        0.682837\n",
       "0            0.50          0.9  ...     0.010272        0.681329\n",
       "0            0.75          0.2  ...     0.299899        0.693619\n",
       "0            0.75          0.3  ...     0.164753        0.691653\n",
       "0            0.75          0.4  ...     0.098892        0.687853\n",
       "0            0.75          0.5  ...     0.061833        0.683680\n",
       "0            0.75          0.6  ...     0.043706        0.688681\n",
       "0            0.75          0.7  ...     0.030211        0.681489\n",
       "0            0.75          0.8  ...     0.020947        0.679507\n",
       "0            0.75          0.9  ...     0.017925        0.678212\n",
       "0            1.00          0.2  ...     0.341591        0.693876\n",
       "0            1.00          0.3  ...     0.199396        0.689922\n",
       "0            1.00          0.4  ...     0.121249        0.688560\n",
       "0            1.00          0.5  ...     0.082377        0.685256\n",
       "0            1.00          0.6  ...     0.055388        0.681435\n",
       "0            1.00          0.7  ...     0.038671        0.680079\n",
       "0            1.00          0.8  ...     0.030211        0.677126\n",
       "0            1.00          0.9  ...     0.022155        0.677658\n",
       "\n",
       "[24 rows x 9 columns]"
      ]
     },
     "execution_count": 264,
     "metadata": {
      "tags": []
     },
     "output_type": "execute_result"
    }
   ],
   "source": [
    "table"
   ]
  },
  {
   "cell_type": "code",
   "execution_count": null,
   "metadata": {
    "colab": {
     "base_uri": "https://localhost:8080/",
     "height": 295
    },
    "id": "m_ell5J3qNQb",
    "outputId": "8bab7fd6-a8b0-4e46-b86e-afe76efa4472"
   },
   "outputs": [
    {
     "data": {
      "image/png": "[encoded data removed]",
      "text/plain": [
       "<Figure size 1080x288 with 1 Axes>"
      ]
     },
     "metadata": {
      "tags": []
     },
     "output_type": "display_data"
    }
   ],
   "source": [
    "comb = ['C' + str(i) for i in np.arange(0, 24, 1)]\n",
    "table['Combination'] = comb\n",
    "\n",
    "fig = plt.figure(figsize = [15, 4])\n",
    "plt.bar(table['Combination'], table['AUC Score Test'], color = 'coral', width=0.4)\n",
    "plt.xlabel('Combination of under-sampling major class and oversampling minor class')\n",
    "plt.ylabel('AUC score for Test')\n",
    "plt.title('AUC scores on different re-sampling approaches')\n",
    "plt.yticks(np.arange(0, 0.95, 0.1))\n",
    "\n",
    "for i, v in enumerate(table['AUC Score Test']):\n",
    "  plt.text(i-0.45, v+0.02, str(round(v, 3)))\n",
    "\n",
    "plt.show()"
   ]
  },
  {
   "cell_type": "code",
   "execution_count": null,
   "metadata": {
    "colab": {
     "base_uri": "https://localhost:8080/",
     "height": 295
    },
    "id": "rzqvt0A1v1du",
    "outputId": "7ec46e05-4024-475a-caad-1002fcf7e7ac"
   },
   "outputs": [
    {
     "data": {
      "image/png": "[encoded data removed]",
      "text/plain": [
       "<Figure size 1152x288 with 1 Axes>"
      ]
     },
     "metadata": {
      "tags": []
     },
     "output_type": "display_data"
    }
   ],
   "source": [
    "comb = ['C' + str(i) for i in np.arange(0, 24, 1)]\n",
    "table['Combination'] = comb\n",
    "\n",
    "fig = plt.figure(figsize = [16, 4])\n",
    "plt.bar(table['Combination'], table['Recall test'], color = 'coral', width=0.4)\n",
    "plt.xlabel('Combination of under-sampling major class and oversampling minor class')\n",
    "plt.ylabel('Test recall score')\n",
    "plt.title('Test recall scores on different re-sampling approaches')\n",
    "plt.yticks(np.arange(0, 0.95, 0.1))\n",
    "\n",
    "for i, v in enumerate(table['Recall test']):\n",
    "  plt.text(i-0.45, v+0.02, str(round(v, 3)))\n",
    "\n",
    "plt.show()"
   ]
  },
  {
   "cell_type": "code",
   "execution_count": null,
   "metadata": {
    "colab": {
     "base_uri": "https://localhost:8080/"
    },
    "id": "wizYZpX8kRew",
    "outputId": "ed265234-c7cb-4488-ae83-01038dba315c"
   },
   "outputs": [
    {
     "name": "stdout",
     "output_type": "stream",
     "text": [
      "ss_usm 0.4435094865473255\n",
      "ss_smote 0.1\n"
     ]
    },
    {
     "name": "stderr",
     "output_type": "stream",
     "text": [
      "/usr/local/lib/python3.6/dist-packages/sklearn/utils/deprecation.py:87: FutureWarning: Function safe_indexing is deprecated; safe_indexing is deprecated in version 0.22 and will be removed in version 0.24.\n",
      "  warnings.warn(msg, category=FutureWarning)\n",
      "/usr/local/lib/python3.6/dist-packages/sklearn/utils/deprecation.py:87: FutureWarning: Function safe_indexing is deprecated; safe_indexing is deprecated in version 0.22 and will be removed in version 0.24.\n",
      "  warnings.warn(msg, category=FutureWarning)\n"
     ]
    },
    {
     "name": "stdout",
     "output_type": "stream",
     "text": [
      "After usm:  Counter({0: 44779, 1: 19860})\n",
      "After smote:  Counter({0: 223896, 1: 22389})\n"
     ]
    },
    {
     "name": "stderr",
     "output_type": "stream",
     "text": [
      "/usr/local/lib/python3.6/dist-packages/sklearn/linear_model/_logistic.py:940: ConvergenceWarning: lbfgs failed to converge (status=1):\n",
      "STOP: TOTAL NO. of ITERATIONS REACHED LIMIT.\n",
      "\n",
      "Increase the number of iterations (max_iter) or scale the data as shown in:\n",
      "    https://scikit-learn.org/stable/modules/preprocessing.html\n",
      "Please also refer to the documentation for alternative solver options:\n",
      "    https://scikit-learn.org/stable/modules/linear_model.html#logistic-regression\n",
      "  extra_warning_msg=_LOGISTIC_SOLVER_CONVERGENCE_MSG)\n"
     ]
    },
    {
     "name": "stdout",
     "output_type": "stream",
     "text": [
      "ss_usm 0.29567299103155037\n",
      "ss_smote 0.15\n"
     ]
    },
    {
     "name": "stderr",
     "output_type": "stream",
     "text": [
      "/usr/local/lib/python3.6/dist-packages/sklearn/utils/deprecation.py:87: FutureWarning: Function safe_indexing is deprecated; safe_indexing is deprecated in version 0.22 and will be removed in version 0.24.\n",
      "  warnings.warn(msg, category=FutureWarning)\n",
      "/usr/local/lib/python3.6/dist-packages/sklearn/utils/deprecation.py:87: FutureWarning: Function safe_indexing is deprecated; safe_indexing is deprecated in version 0.22 and will be removed in version 0.24.\n",
      "  warnings.warn(msg, category=FutureWarning)\n"
     ]
    },
    {
     "name": "stdout",
     "output_type": "stream",
     "text": [
      "After usm:  Counter({0: 67168, 1: 19860})\n",
      "After smote:  Counter({0: 223896, 1: 33584})\n"
     ]
    },
    {
     "name": "stderr",
     "output_type": "stream",
     "text": [
      "/usr/local/lib/python3.6/dist-packages/sklearn/linear_model/_logistic.py:940: ConvergenceWarning: lbfgs failed to converge (status=1):\n",
      "STOP: TOTAL NO. of ITERATIONS REACHED LIMIT.\n",
      "\n",
      "Increase the number of iterations (max_iter) or scale the data as shown in:\n",
      "    https://scikit-learn.org/stable/modules/preprocessing.html\n",
      "Please also refer to the documentation for alternative solver options:\n",
      "    https://scikit-learn.org/stable/modules/linear_model.html#logistic-regression\n",
      "  extra_warning_msg=_LOGISTIC_SOLVER_CONVERGENCE_MSG)\n"
     ]
    },
    {
     "name": "stdout",
     "output_type": "stream",
     "text": [
      "ss_usm 0.22175474327366276\n",
      "ss_smote 0.2\n"
     ]
    },
    {
     "name": "stderr",
     "output_type": "stream",
     "text": [
      "/usr/local/lib/python3.6/dist-packages/sklearn/utils/deprecation.py:87: FutureWarning: Function safe_indexing is deprecated; safe_indexing is deprecated in version 0.22 and will be removed in version 0.24.\n",
      "  warnings.warn(msg, category=FutureWarning)\n",
      "/usr/local/lib/python3.6/dist-packages/sklearn/utils/deprecation.py:87: FutureWarning: Function safe_indexing is deprecated; safe_indexing is deprecated in version 0.22 and will be removed in version 0.24.\n",
      "  warnings.warn(msg, category=FutureWarning)\n"
     ]
    },
    {
     "name": "stdout",
     "output_type": "stream",
     "text": [
      "After usm:  Counter({0: 89558, 1: 19860})\n",
      "After smote:  Counter({0: 223896, 1: 44779})\n"
     ]
    },
    {
     "name": "stderr",
     "output_type": "stream",
     "text": [
      "/usr/local/lib/python3.6/dist-packages/sklearn/linear_model/_logistic.py:940: ConvergenceWarning: lbfgs failed to converge (status=1):\n",
      "STOP: TOTAL NO. of ITERATIONS REACHED LIMIT.\n",
      "\n",
      "Increase the number of iterations (max_iter) or scale the data as shown in:\n",
      "    https://scikit-learn.org/stable/modules/preprocessing.html\n",
      "Please also refer to the documentation for alternative solver options:\n",
      "    https://scikit-learn.org/stable/modules/linear_model.html#logistic-regression\n",
      "  extra_warning_msg=_LOGISTIC_SOLVER_CONVERGENCE_MSG)\n"
     ]
    },
    {
     "name": "stdout",
     "output_type": "stream",
     "text": [
      "ss_usm 0.17740379461893022\n",
      "ss_smote 0.25\n"
     ]
    },
    {
     "name": "stderr",
     "output_type": "stream",
     "text": [
      "/usr/local/lib/python3.6/dist-packages/sklearn/utils/deprecation.py:87: FutureWarning: Function safe_indexing is deprecated; safe_indexing is deprecated in version 0.22 and will be removed in version 0.24.\n",
      "  warnings.warn(msg, category=FutureWarning)\n",
      "/usr/local/lib/python3.6/dist-packages/sklearn/utils/deprecation.py:87: FutureWarning: Function safe_indexing is deprecated; safe_indexing is deprecated in version 0.22 and will be removed in version 0.24.\n",
      "  warnings.warn(msg, category=FutureWarning)\n"
     ]
    },
    {
     "name": "stdout",
     "output_type": "stream",
     "text": [
      "After usm:  Counter({0: 111948, 1: 19860})\n",
      "After smote:  Counter({0: 223896, 1: 55974})\n"
     ]
    },
    {
     "name": "stderr",
     "output_type": "stream",
     "text": [
      "/usr/local/lib/python3.6/dist-packages/sklearn/linear_model/_logistic.py:940: ConvergenceWarning: lbfgs failed to converge (status=1):\n",
      "STOP: TOTAL NO. of ITERATIONS REACHED LIMIT.\n",
      "\n",
      "Increase the number of iterations (max_iter) or scale the data as shown in:\n",
      "    https://scikit-learn.org/stable/modules/preprocessing.html\n",
      "Please also refer to the documentation for alternative solver options:\n",
      "    https://scikit-learn.org/stable/modules/linear_model.html#logistic-regression\n",
      "  extra_warning_msg=_LOGISTIC_SOLVER_CONVERGENCE_MSG)\n"
     ]
    },
    {
     "name": "stdout",
     "output_type": "stream",
     "text": [
      "ss_usm 0.14783649551577518\n",
      "ss_smote 0.3\n"
     ]
    },
    {
     "name": "stderr",
     "output_type": "stream",
     "text": [
      "/usr/local/lib/python3.6/dist-packages/sklearn/utils/deprecation.py:87: FutureWarning: Function safe_indexing is deprecated; safe_indexing is deprecated in version 0.22 and will be removed in version 0.24.\n",
      "  warnings.warn(msg, category=FutureWarning)\n",
      "/usr/local/lib/python3.6/dist-packages/sklearn/utils/deprecation.py:87: FutureWarning: Function safe_indexing is deprecated; safe_indexing is deprecated in version 0.22 and will be removed in version 0.24.\n",
      "  warnings.warn(msg, category=FutureWarning)\n"
     ]
    },
    {
     "name": "stdout",
     "output_type": "stream",
     "text": [
      "After usm:  Counter({0: 134337, 1: 19860})\n",
      "After smote:  Counter({0: 223896, 1: 67168})\n"
     ]
    },
    {
     "name": "stderr",
     "output_type": "stream",
     "text": [
      "/usr/local/lib/python3.6/dist-packages/sklearn/linear_model/_logistic.py:940: ConvergenceWarning: lbfgs failed to converge (status=1):\n",
      "STOP: TOTAL NO. of ITERATIONS REACHED LIMIT.\n",
      "\n",
      "Increase the number of iterations (max_iter) or scale the data as shown in:\n",
      "    https://scikit-learn.org/stable/modules/preprocessing.html\n",
      "Please also refer to the documentation for alternative solver options:\n",
      "    https://scikit-learn.org/stable/modules/linear_model.html#logistic-regression\n",
      "  extra_warning_msg=_LOGISTIC_SOLVER_CONVERGENCE_MSG)\n"
     ]
    },
    {
     "name": "stdout",
     "output_type": "stream",
     "text": [
      "ss_usm 0.12671699615637874\n",
      "ss_smote 0.35\n"
     ]
    },
    {
     "name": "stderr",
     "output_type": "stream",
     "text": [
      "/usr/local/lib/python3.6/dist-packages/sklearn/utils/deprecation.py:87: FutureWarning: Function safe_indexing is deprecated; safe_indexing is deprecated in version 0.22 and will be removed in version 0.24.\n",
      "  warnings.warn(msg, category=FutureWarning)\n",
      "/usr/local/lib/python3.6/dist-packages/sklearn/utils/deprecation.py:87: FutureWarning: Function safe_indexing is deprecated; safe_indexing is deprecated in version 0.22 and will be removed in version 0.24.\n",
      "  warnings.warn(msg, category=FutureWarning)\n"
     ]
    },
    {
     "name": "stdout",
     "output_type": "stream",
     "text": [
      "After usm:  Counter({0: 156727, 1: 19860})\n",
      "After smote:  Counter({0: 223896, 1: 78363})\n",
      "ss_usm 0.11087737163683138\n",
      "ss_smote 0.4\n"
     ]
    },
    {
     "name": "stderr",
     "output_type": "stream",
     "text": [
      "/usr/local/lib/python3.6/dist-packages/sklearn/utils/deprecation.py:87: FutureWarning: Function safe_indexing is deprecated; safe_indexing is deprecated in version 0.22 and will be removed in version 0.24.\n",
      "  warnings.warn(msg, category=FutureWarning)\n",
      "/usr/local/lib/python3.6/dist-packages/sklearn/utils/deprecation.py:87: FutureWarning: Function safe_indexing is deprecated; safe_indexing is deprecated in version 0.22 and will be removed in version 0.24.\n",
      "  warnings.warn(msg, category=FutureWarning)\n"
     ]
    },
    {
     "name": "stdout",
     "output_type": "stream",
     "text": [
      "After usm:  Counter({0: 179116, 1: 19860})\n",
      "After smote:  Counter({0: 223896, 1: 89558})\n"
     ]
    },
    {
     "name": "stderr",
     "output_type": "stream",
     "text": [
      "/usr/local/lib/python3.6/dist-packages/sklearn/linear_model/_logistic.py:940: ConvergenceWarning: lbfgs failed to converge (status=1):\n",
      "STOP: TOTAL NO. of ITERATIONS REACHED LIMIT.\n",
      "\n",
      "Increase the number of iterations (max_iter) or scale the data as shown in:\n",
      "    https://scikit-learn.org/stable/modules/preprocessing.html\n",
      "Please also refer to the documentation for alternative solver options:\n",
      "    https://scikit-learn.org/stable/modules/linear_model.html#logistic-regression\n",
      "  extra_warning_msg=_LOGISTIC_SOLVER_CONVERGENCE_MSG)\n"
     ]
    },
    {
     "name": "stdout",
     "output_type": "stream",
     "text": [
      "ss_usm 0.09855766367718345\n",
      "ss_smote 0.45\n"
     ]
    },
    {
     "name": "stderr",
     "output_type": "stream",
     "text": [
      "/usr/local/lib/python3.6/dist-packages/sklearn/utils/deprecation.py:87: FutureWarning: Function safe_indexing is deprecated; safe_indexing is deprecated in version 0.22 and will be removed in version 0.24.\n",
      "  warnings.warn(msg, category=FutureWarning)\n",
      "/usr/local/lib/python3.6/dist-packages/sklearn/utils/deprecation.py:87: FutureWarning: Function safe_indexing is deprecated; safe_indexing is deprecated in version 0.22 and will be removed in version 0.24.\n",
      "  warnings.warn(msg, category=FutureWarning)\n"
     ]
    },
    {
     "name": "stdout",
     "output_type": "stream",
     "text": [
      "After usm:  Counter({0: 201506, 1: 19860})\n",
      "After smote:  Counter({0: 223896, 1: 100753})\n"
     ]
    },
    {
     "name": "stderr",
     "output_type": "stream",
     "text": [
      "/usr/local/lib/python3.6/dist-packages/sklearn/linear_model/_logistic.py:940: ConvergenceWarning: lbfgs failed to converge (status=1):\n",
      "STOP: TOTAL NO. of ITERATIONS REACHED LIMIT.\n",
      "\n",
      "Increase the number of iterations (max_iter) or scale the data as shown in:\n",
      "    https://scikit-learn.org/stable/modules/preprocessing.html\n",
      "Please also refer to the documentation for alternative solver options:\n",
      "    https://scikit-learn.org/stable/modules/linear_model.html#logistic-regression\n",
      "  extra_warning_msg=_LOGISTIC_SOLVER_CONVERGENCE_MSG)\n"
     ]
    },
    {
     "name": "stdout",
     "output_type": "stream",
     "text": [
      "ss_usm 0.4435094865473255\n",
      "ss_smote 0.15000000000000002\n"
     ]
    },
    {
     "name": "stderr",
     "output_type": "stream",
     "text": [
      "/usr/local/lib/python3.6/dist-packages/sklearn/utils/deprecation.py:87: FutureWarning: Function safe_indexing is deprecated; safe_indexing is deprecated in version 0.22 and will be removed in version 0.24.\n",
      "  warnings.warn(msg, category=FutureWarning)\n",
      "/usr/local/lib/python3.6/dist-packages/sklearn/utils/deprecation.py:87: FutureWarning: Function safe_indexing is deprecated; safe_indexing is deprecated in version 0.22 and will be removed in version 0.24.\n",
      "  warnings.warn(msg, category=FutureWarning)\n"
     ]
    },
    {
     "name": "stdout",
     "output_type": "stream",
     "text": [
      "After usm:  Counter({0: 44779, 1: 19860})\n",
      "After smote:  Counter({0: 223896, 1: 33584})\n"
     ]
    },
    {
     "name": "stderr",
     "output_type": "stream",
     "text": [
      "/usr/local/lib/python3.6/dist-packages/sklearn/linear_model/_logistic.py:940: ConvergenceWarning: lbfgs failed to converge (status=1):\n",
      "STOP: TOTAL NO. of ITERATIONS REACHED LIMIT.\n",
      "\n",
      "Increase the number of iterations (max_iter) or scale the data as shown in:\n",
      "    https://scikit-learn.org/stable/modules/preprocessing.html\n",
      "Please also refer to the documentation for alternative solver options:\n",
      "    https://scikit-learn.org/stable/modules/linear_model.html#logistic-regression\n",
      "  extra_warning_msg=_LOGISTIC_SOLVER_CONVERGENCE_MSG)\n"
     ]
    },
    {
     "name": "stdout",
     "output_type": "stream",
     "text": [
      "ss_usm 0.29567299103155037\n",
      "ss_smote 0.22499999999999998\n"
     ]
    },
    {
     "name": "stderr",
     "output_type": "stream",
     "text": [
      "/usr/local/lib/python3.6/dist-packages/sklearn/utils/deprecation.py:87: FutureWarning: Function safe_indexing is deprecated; safe_indexing is deprecated in version 0.22 and will be removed in version 0.24.\n",
      "  warnings.warn(msg, category=FutureWarning)\n",
      "/usr/local/lib/python3.6/dist-packages/sklearn/utils/deprecation.py:87: FutureWarning: Function safe_indexing is deprecated; safe_indexing is deprecated in version 0.22 and will be removed in version 0.24.\n",
      "  warnings.warn(msg, category=FutureWarning)\n"
     ]
    },
    {
     "name": "stdout",
     "output_type": "stream",
     "text": [
      "After usm:  Counter({0: 67168, 1: 19860})\n",
      "After smote:  Counter({0: 223896, 1: 50376})\n"
     ]
    },
    {
     "name": "stderr",
     "output_type": "stream",
     "text": [
      "/usr/local/lib/python3.6/dist-packages/sklearn/linear_model/_logistic.py:940: ConvergenceWarning: lbfgs failed to converge (status=1):\n",
      "STOP: TOTAL NO. of ITERATIONS REACHED LIMIT.\n",
      "\n",
      "Increase the number of iterations (max_iter) or scale the data as shown in:\n",
      "    https://scikit-learn.org/stable/modules/preprocessing.html\n",
      "Please also refer to the documentation for alternative solver options:\n",
      "    https://scikit-learn.org/stable/modules/linear_model.html#logistic-regression\n",
      "  extra_warning_msg=_LOGISTIC_SOLVER_CONVERGENCE_MSG)\n"
     ]
    },
    {
     "name": "stdout",
     "output_type": "stream",
     "text": [
      "ss_usm 0.22175474327366276\n",
      "ss_smote 0.30000000000000004\n"
     ]
    },
    {
     "name": "stderr",
     "output_type": "stream",
     "text": [
      "/usr/local/lib/python3.6/dist-packages/sklearn/utils/deprecation.py:87: FutureWarning: Function safe_indexing is deprecated; safe_indexing is deprecated in version 0.22 and will be removed in version 0.24.\n",
      "  warnings.warn(msg, category=FutureWarning)\n",
      "/usr/local/lib/python3.6/dist-packages/sklearn/utils/deprecation.py:87: FutureWarning: Function safe_indexing is deprecated; safe_indexing is deprecated in version 0.22 and will be removed in version 0.24.\n",
      "  warnings.warn(msg, category=FutureWarning)\n"
     ]
    },
    {
     "name": "stdout",
     "output_type": "stream",
     "text": [
      "After usm:  Counter({0: 89558, 1: 19860})\n",
      "After smote:  Counter({0: 223896, 1: 67168})\n"
     ]
    },
    {
     "name": "stderr",
     "output_type": "stream",
     "text": [
      "/usr/local/lib/python3.6/dist-packages/sklearn/linear_model/_logistic.py:940: ConvergenceWarning: lbfgs failed to converge (status=1):\n",
      "STOP: TOTAL NO. of ITERATIONS REACHED LIMIT.\n",
      "\n",
      "Increase the number of iterations (max_iter) or scale the data as shown in:\n",
      "    https://scikit-learn.org/stable/modules/preprocessing.html\n",
      "Please also refer to the documentation for alternative solver options:\n",
      "    https://scikit-learn.org/stable/modules/linear_model.html#logistic-regression\n",
      "  extra_warning_msg=_LOGISTIC_SOLVER_CONVERGENCE_MSG)\n"
     ]
    },
    {
     "name": "stdout",
     "output_type": "stream",
     "text": [
      "ss_usm 0.17740379461893022\n",
      "ss_smote 0.375\n"
     ]
    },
    {
     "name": "stderr",
     "output_type": "stream",
     "text": [
      "/usr/local/lib/python3.6/dist-packages/sklearn/utils/deprecation.py:87: FutureWarning: Function safe_indexing is deprecated; safe_indexing is deprecated in version 0.22 and will be removed in version 0.24.\n",
      "  warnings.warn(msg, category=FutureWarning)\n",
      "/usr/local/lib/python3.6/dist-packages/sklearn/utils/deprecation.py:87: FutureWarning: Function safe_indexing is deprecated; safe_indexing is deprecated in version 0.22 and will be removed in version 0.24.\n",
      "  warnings.warn(msg, category=FutureWarning)\n"
     ]
    },
    {
     "name": "stdout",
     "output_type": "stream",
     "text": [
      "After usm:  Counter({0: 111948, 1: 19860})\n",
      "After smote:  Counter({0: 223896, 1: 83961})\n",
      "ss_usm 0.14783649551577518\n",
      "ss_smote 0.44999999999999996\n"
     ]
    },
    {
     "name": "stderr",
     "output_type": "stream",
     "text": [
      "/usr/local/lib/python3.6/dist-packages/sklearn/utils/deprecation.py:87: FutureWarning: Function safe_indexing is deprecated; safe_indexing is deprecated in version 0.22 and will be removed in version 0.24.\n",
      "  warnings.warn(msg, category=FutureWarning)\n",
      "/usr/local/lib/python3.6/dist-packages/sklearn/utils/deprecation.py:87: FutureWarning: Function safe_indexing is deprecated; safe_indexing is deprecated in version 0.22 and will be removed in version 0.24.\n",
      "  warnings.warn(msg, category=FutureWarning)\n"
     ]
    },
    {
     "name": "stdout",
     "output_type": "stream",
     "text": [
      "After usm:  Counter({0: 134337, 1: 19860})\n",
      "After smote:  Counter({0: 223896, 1: 100753})\n"
     ]
    },
    {
     "name": "stderr",
     "output_type": "stream",
     "text": [
      "/usr/local/lib/python3.6/dist-packages/sklearn/linear_model/_logistic.py:940: ConvergenceWarning: lbfgs failed to converge (status=1):\n",
      "STOP: TOTAL NO. of ITERATIONS REACHED LIMIT.\n",
      "\n",
      "Increase the number of iterations (max_iter) or scale the data as shown in:\n",
      "    https://scikit-learn.org/stable/modules/preprocessing.html\n",
      "Please also refer to the documentation for alternative solver options:\n",
      "    https://scikit-learn.org/stable/modules/linear_model.html#logistic-regression\n",
      "  extra_warning_msg=_LOGISTIC_SOLVER_CONVERGENCE_MSG)\n"
     ]
    },
    {
     "name": "stdout",
     "output_type": "stream",
     "text": [
      "ss_usm 0.12671699615637874\n",
      "ss_smote 0.5249999999999999\n"
     ]
    },
    {
     "name": "stderr",
     "output_type": "stream",
     "text": [
      "/usr/local/lib/python3.6/dist-packages/sklearn/utils/deprecation.py:87: FutureWarning: Function safe_indexing is deprecated; safe_indexing is deprecated in version 0.22 and will be removed in version 0.24.\n",
      "  warnings.warn(msg, category=FutureWarning)\n",
      "/usr/local/lib/python3.6/dist-packages/sklearn/utils/deprecation.py:87: FutureWarning: Function safe_indexing is deprecated; safe_indexing is deprecated in version 0.22 and will be removed in version 0.24.\n",
      "  warnings.warn(msg, category=FutureWarning)\n"
     ]
    },
    {
     "name": "stdout",
     "output_type": "stream",
     "text": [
      "After usm:  Counter({0: 156727, 1: 19860})\n",
      "After smote:  Counter({0: 223896, 1: 117545})\n",
      "ss_usm 0.11087737163683138\n",
      "ss_smote 0.6000000000000001\n"
     ]
    },
    {
     "name": "stderr",
     "output_type": "stream",
     "text": [
      "/usr/local/lib/python3.6/dist-packages/sklearn/utils/deprecation.py:87: FutureWarning: Function safe_indexing is deprecated; safe_indexing is deprecated in version 0.22 and will be removed in version 0.24.\n",
      "  warnings.warn(msg, category=FutureWarning)\n",
      "/usr/local/lib/python3.6/dist-packages/sklearn/utils/deprecation.py:87: FutureWarning: Function safe_indexing is deprecated; safe_indexing is deprecated in version 0.22 and will be removed in version 0.24.\n",
      "  warnings.warn(msg, category=FutureWarning)\n"
     ]
    },
    {
     "name": "stdout",
     "output_type": "stream",
     "text": [
      "After usm:  Counter({0: 179116, 1: 19860})\n",
      "After smote:  Counter({0: 223896, 1: 134337})\n"
     ]
    },
    {
     "name": "stderr",
     "output_type": "stream",
     "text": [
      "/usr/local/lib/python3.6/dist-packages/sklearn/linear_model/_logistic.py:940: ConvergenceWarning: lbfgs failed to converge (status=1):\n",
      "STOP: TOTAL NO. of ITERATIONS REACHED LIMIT.\n",
      "\n",
      "Increase the number of iterations (max_iter) or scale the data as shown in:\n",
      "    https://scikit-learn.org/stable/modules/preprocessing.html\n",
      "Please also refer to the documentation for alternative solver options:\n",
      "    https://scikit-learn.org/stable/modules/linear_model.html#logistic-regression\n",
      "  extra_warning_msg=_LOGISTIC_SOLVER_CONVERGENCE_MSG)\n"
     ]
    },
    {
     "name": "stdout",
     "output_type": "stream",
     "text": [
      "ss_usm 0.09855766367718345\n",
      "ss_smote 0.675\n"
     ]
    },
    {
     "name": "stderr",
     "output_type": "stream",
     "text": [
      "/usr/local/lib/python3.6/dist-packages/sklearn/utils/deprecation.py:87: FutureWarning: Function safe_indexing is deprecated; safe_indexing is deprecated in version 0.22 and will be removed in version 0.24.\n",
      "  warnings.warn(msg, category=FutureWarning)\n",
      "/usr/local/lib/python3.6/dist-packages/sklearn/utils/deprecation.py:87: FutureWarning: Function safe_indexing is deprecated; safe_indexing is deprecated in version 0.22 and will be removed in version 0.24.\n",
      "  warnings.warn(msg, category=FutureWarning)\n"
     ]
    },
    {
     "name": "stdout",
     "output_type": "stream",
     "text": [
      "After usm:  Counter({0: 201506, 1: 19860})\n",
      "After smote:  Counter({0: 223896, 1: 151129})\n"
     ]
    },
    {
     "name": "stderr",
     "output_type": "stream",
     "text": [
      "/usr/local/lib/python3.6/dist-packages/sklearn/linear_model/_logistic.py:940: ConvergenceWarning: lbfgs failed to converge (status=1):\n",
      "STOP: TOTAL NO. of ITERATIONS REACHED LIMIT.\n",
      "\n",
      "Increase the number of iterations (max_iter) or scale the data as shown in:\n",
      "    https://scikit-learn.org/stable/modules/preprocessing.html\n",
      "Please also refer to the documentation for alternative solver options:\n",
      "    https://scikit-learn.org/stable/modules/linear_model.html#logistic-regression\n",
      "  extra_warning_msg=_LOGISTIC_SOLVER_CONVERGENCE_MSG)\n"
     ]
    },
    {
     "name": "stdout",
     "output_type": "stream",
     "text": [
      "ss_usm 0.4435094865473255\n",
      "ss_smote 0.2\n"
     ]
    },
    {
     "name": "stderr",
     "output_type": "stream",
     "text": [
      "/usr/local/lib/python3.6/dist-packages/sklearn/utils/deprecation.py:87: FutureWarning: Function safe_indexing is deprecated; safe_indexing is deprecated in version 0.22 and will be removed in version 0.24.\n",
      "  warnings.warn(msg, category=FutureWarning)\n",
      "/usr/local/lib/python3.6/dist-packages/sklearn/utils/deprecation.py:87: FutureWarning: Function safe_indexing is deprecated; safe_indexing is deprecated in version 0.22 and will be removed in version 0.24.\n",
      "  warnings.warn(msg, category=FutureWarning)\n"
     ]
    },
    {
     "name": "stdout",
     "output_type": "stream",
     "text": [
      "After usm:  Counter({0: 44779, 1: 19860})\n",
      "After smote:  Counter({0: 223896, 1: 44779})\n",
      "ss_usm 0.29567299103155037\n",
      "ss_smote 0.3\n"
     ]
    },
    {
     "name": "stderr",
     "output_type": "stream",
     "text": [
      "/usr/local/lib/python3.6/dist-packages/sklearn/utils/deprecation.py:87: FutureWarning: Function safe_indexing is deprecated; safe_indexing is deprecated in version 0.22 and will be removed in version 0.24.\n",
      "  warnings.warn(msg, category=FutureWarning)\n",
      "/usr/local/lib/python3.6/dist-packages/sklearn/utils/deprecation.py:87: FutureWarning: Function safe_indexing is deprecated; safe_indexing is deprecated in version 0.22 and will be removed in version 0.24.\n",
      "  warnings.warn(msg, category=FutureWarning)\n"
     ]
    },
    {
     "name": "stdout",
     "output_type": "stream",
     "text": [
      "After usm:  Counter({0: 67168, 1: 19860})\n",
      "After smote:  Counter({0: 223896, 1: 67168})\n"
     ]
    },
    {
     "name": "stderr",
     "output_type": "stream",
     "text": [
      "/usr/local/lib/python3.6/dist-packages/sklearn/linear_model/_logistic.py:940: ConvergenceWarning: lbfgs failed to converge (status=1):\n",
      "STOP: TOTAL NO. of ITERATIONS REACHED LIMIT.\n",
      "\n",
      "Increase the number of iterations (max_iter) or scale the data as shown in:\n",
      "    https://scikit-learn.org/stable/modules/preprocessing.html\n",
      "Please also refer to the documentation for alternative solver options:\n",
      "    https://scikit-learn.org/stable/modules/linear_model.html#logistic-regression\n",
      "  extra_warning_msg=_LOGISTIC_SOLVER_CONVERGENCE_MSG)\n"
     ]
    },
    {
     "name": "stdout",
     "output_type": "stream",
     "text": [
      "ss_usm 0.22175474327366276\n",
      "ss_smote 0.4\n"
     ]
    },
    {
     "name": "stderr",
     "output_type": "stream",
     "text": [
      "/usr/local/lib/python3.6/dist-packages/sklearn/utils/deprecation.py:87: FutureWarning: Function safe_indexing is deprecated; safe_indexing is deprecated in version 0.22 and will be removed in version 0.24.\n",
      "  warnings.warn(msg, category=FutureWarning)\n",
      "/usr/local/lib/python3.6/dist-packages/sklearn/utils/deprecation.py:87: FutureWarning: Function safe_indexing is deprecated; safe_indexing is deprecated in version 0.22 and will be removed in version 0.24.\n",
      "  warnings.warn(msg, category=FutureWarning)\n"
     ]
    },
    {
     "name": "stdout",
     "output_type": "stream",
     "text": [
      "After usm:  Counter({0: 89558, 1: 19860})\n",
      "After smote:  Counter({0: 223896, 1: 89558})\n"
     ]
    },
    {
     "name": "stderr",
     "output_type": "stream",
     "text": [
      "/usr/local/lib/python3.6/dist-packages/sklearn/linear_model/_logistic.py:940: ConvergenceWarning: lbfgs failed to converge (status=1):\n",
      "STOP: TOTAL NO. of ITERATIONS REACHED LIMIT.\n",
      "\n",
      "Increase the number of iterations (max_iter) or scale the data as shown in:\n",
      "    https://scikit-learn.org/stable/modules/preprocessing.html\n",
      "Please also refer to the documentation for alternative solver options:\n",
      "    https://scikit-learn.org/stable/modules/linear_model.html#logistic-regression\n",
      "  extra_warning_msg=_LOGISTIC_SOLVER_CONVERGENCE_MSG)\n"
     ]
    },
    {
     "name": "stdout",
     "output_type": "stream",
     "text": [
      "ss_usm 0.17740379461893022\n",
      "ss_smote 0.5\n"
     ]
    },
    {
     "name": "stderr",
     "output_type": "stream",
     "text": [
      "/usr/local/lib/python3.6/dist-packages/sklearn/utils/deprecation.py:87: FutureWarning: Function safe_indexing is deprecated; safe_indexing is deprecated in version 0.22 and will be removed in version 0.24.\n",
      "  warnings.warn(msg, category=FutureWarning)\n",
      "/usr/local/lib/python3.6/dist-packages/sklearn/utils/deprecation.py:87: FutureWarning: Function safe_indexing is deprecated; safe_indexing is deprecated in version 0.22 and will be removed in version 0.24.\n",
      "  warnings.warn(msg, category=FutureWarning)\n"
     ]
    },
    {
     "name": "stdout",
     "output_type": "stream",
     "text": [
      "After usm:  Counter({0: 111948, 1: 19860})\n",
      "After smote:  Counter({0: 223896, 1: 111948})\n"
     ]
    },
    {
     "name": "stderr",
     "output_type": "stream",
     "text": [
      "/usr/local/lib/python3.6/dist-packages/sklearn/linear_model/_logistic.py:940: ConvergenceWarning: lbfgs failed to converge (status=1):\n",
      "STOP: TOTAL NO. of ITERATIONS REACHED LIMIT.\n",
      "\n",
      "Increase the number of iterations (max_iter) or scale the data as shown in:\n",
      "    https://scikit-learn.org/stable/modules/preprocessing.html\n",
      "Please also refer to the documentation for alternative solver options:\n",
      "    https://scikit-learn.org/stable/modules/linear_model.html#logistic-regression\n",
      "  extra_warning_msg=_LOGISTIC_SOLVER_CONVERGENCE_MSG)\n"
     ]
    },
    {
     "name": "stdout",
     "output_type": "stream",
     "text": [
      "ss_usm 0.14783649551577518\n",
      "ss_smote 0.6\n"
     ]
    },
    {
     "name": "stderr",
     "output_type": "stream",
     "text": [
      "/usr/local/lib/python3.6/dist-packages/sklearn/utils/deprecation.py:87: FutureWarning: Function safe_indexing is deprecated; safe_indexing is deprecated in version 0.22 and will be removed in version 0.24.\n",
      "  warnings.warn(msg, category=FutureWarning)\n",
      "/usr/local/lib/python3.6/dist-packages/sklearn/utils/deprecation.py:87: FutureWarning: Function safe_indexing is deprecated; safe_indexing is deprecated in version 0.22 and will be removed in version 0.24.\n",
      "  warnings.warn(msg, category=FutureWarning)\n"
     ]
    },
    {
     "name": "stdout",
     "output_type": "stream",
     "text": [
      "After usm:  Counter({0: 134337, 1: 19860})\n",
      "After smote:  Counter({0: 223896, 1: 134337})\n"
     ]
    },
    {
     "name": "stderr",
     "output_type": "stream",
     "text": [
      "/usr/local/lib/python3.6/dist-packages/sklearn/linear_model/_logistic.py:940: ConvergenceWarning: lbfgs failed to converge (status=1):\n",
      "STOP: TOTAL NO. of ITERATIONS REACHED LIMIT.\n",
      "\n",
      "Increase the number of iterations (max_iter) or scale the data as shown in:\n",
      "    https://scikit-learn.org/stable/modules/preprocessing.html\n",
      "Please also refer to the documentation for alternative solver options:\n",
      "    https://scikit-learn.org/stable/modules/linear_model.html#logistic-regression\n",
      "  extra_warning_msg=_LOGISTIC_SOLVER_CONVERGENCE_MSG)\n"
     ]
    },
    {
     "name": "stdout",
     "output_type": "stream",
     "text": [
      "ss_usm 0.12671699615637874\n",
      "ss_smote 0.7\n"
     ]
    },
    {
     "name": "stderr",
     "output_type": "stream",
     "text": [
      "/usr/local/lib/python3.6/dist-packages/sklearn/utils/deprecation.py:87: FutureWarning: Function safe_indexing is deprecated; safe_indexing is deprecated in version 0.22 and will be removed in version 0.24.\n",
      "  warnings.warn(msg, category=FutureWarning)\n",
      "/usr/local/lib/python3.6/dist-packages/sklearn/utils/deprecation.py:87: FutureWarning: Function safe_indexing is deprecated; safe_indexing is deprecated in version 0.22 and will be removed in version 0.24.\n",
      "  warnings.warn(msg, category=FutureWarning)\n"
     ]
    },
    {
     "name": "stdout",
     "output_type": "stream",
     "text": [
      "After usm:  Counter({0: 156727, 1: 19860})\n",
      "After smote:  Counter({0: 223896, 1: 156727})\n"
     ]
    },
    {
     "name": "stderr",
     "output_type": "stream",
     "text": [
      "/usr/local/lib/python3.6/dist-packages/sklearn/linear_model/_logistic.py:940: ConvergenceWarning: lbfgs failed to converge (status=1):\n",
      "STOP: TOTAL NO. of ITERATIONS REACHED LIMIT.\n",
      "\n",
      "Increase the number of iterations (max_iter) or scale the data as shown in:\n",
      "    https://scikit-learn.org/stable/modules/preprocessing.html\n",
      "Please also refer to the documentation for alternative solver options:\n",
      "    https://scikit-learn.org/stable/modules/linear_model.html#logistic-regression\n",
      "  extra_warning_msg=_LOGISTIC_SOLVER_CONVERGENCE_MSG)\n"
     ]
    },
    {
     "name": "stdout",
     "output_type": "stream",
     "text": [
      "ss_usm 0.11087737163683138\n",
      "ss_smote 0.8\n"
     ]
    },
    {
     "name": "stderr",
     "output_type": "stream",
     "text": [
      "/usr/local/lib/python3.6/dist-packages/sklearn/utils/deprecation.py:87: FutureWarning: Function safe_indexing is deprecated; safe_indexing is deprecated in version 0.22 and will be removed in version 0.24.\n",
      "  warnings.warn(msg, category=FutureWarning)\n",
      "/usr/local/lib/python3.6/dist-packages/sklearn/utils/deprecation.py:87: FutureWarning: Function safe_indexing is deprecated; safe_indexing is deprecated in version 0.22 and will be removed in version 0.24.\n",
      "  warnings.warn(msg, category=FutureWarning)\n"
     ]
    },
    {
     "name": "stdout",
     "output_type": "stream",
     "text": [
      "After usm:  Counter({0: 179116, 1: 19860})\n",
      "After smote:  Counter({0: 223896, 1: 179116})\n"
     ]
    },
    {
     "name": "stderr",
     "output_type": "stream",
     "text": [
      "/usr/local/lib/python3.6/dist-packages/sklearn/linear_model/_logistic.py:940: ConvergenceWarning: lbfgs failed to converge (status=1):\n",
      "STOP: TOTAL NO. of ITERATIONS REACHED LIMIT.\n",
      "\n",
      "Increase the number of iterations (max_iter) or scale the data as shown in:\n",
      "    https://scikit-learn.org/stable/modules/preprocessing.html\n",
      "Please also refer to the documentation for alternative solver options:\n",
      "    https://scikit-learn.org/stable/modules/linear_model.html#logistic-regression\n",
      "  extra_warning_msg=_LOGISTIC_SOLVER_CONVERGENCE_MSG)\n"
     ]
    },
    {
     "name": "stdout",
     "output_type": "stream",
     "text": [
      "ss_usm 0.09855766367718345\n",
      "ss_smote 0.9\n"
     ]
    },
    {
     "name": "stderr",
     "output_type": "stream",
     "text": [
      "/usr/local/lib/python3.6/dist-packages/sklearn/utils/deprecation.py:87: FutureWarning: Function safe_indexing is deprecated; safe_indexing is deprecated in version 0.22 and will be removed in version 0.24.\n",
      "  warnings.warn(msg, category=FutureWarning)\n",
      "/usr/local/lib/python3.6/dist-packages/sklearn/utils/deprecation.py:87: FutureWarning: Function safe_indexing is deprecated; safe_indexing is deprecated in version 0.22 and will be removed in version 0.24.\n",
      "  warnings.warn(msg, category=FutureWarning)\n"
     ]
    },
    {
     "name": "stdout",
     "output_type": "stream",
     "text": [
      "After usm:  Counter({0: 201506, 1: 19860})\n",
      "After smote:  Counter({0: 223896, 1: 201506})\n"
     ]
    },
    {
     "name": "stderr",
     "output_type": "stream",
     "text": [
      "/usr/local/lib/python3.6/dist-packages/sklearn/linear_model/_logistic.py:940: ConvergenceWarning: lbfgs failed to converge (status=1):\n",
      "STOP: TOTAL NO. of ITERATIONS REACHED LIMIT.\n",
      "\n",
      "Increase the number of iterations (max_iter) or scale the data as shown in:\n",
      "    https://scikit-learn.org/stable/modules/preprocessing.html\n",
      "Please also refer to the documentation for alternative solver options:\n",
      "    https://scikit-learn.org/stable/modules/linear_model.html#logistic-regression\n",
      "  extra_warning_msg=_LOGISTIC_SOLVER_CONVERGENCE_MSG)\n"
     ]
    }
   ],
   "source": [
    "lrr = LogisticRegression()\n",
    "# define different parameters\n",
    "mj_minor_ratio = [0.5,0.75,1.0] # This is a parameter which defines what is the ratio between majority and minority class size in the combined data. 1 means they are equal\n",
    "# What is the size of the majority that we undersample to? 0.2 means we undersample the majority class to 20% of its original size   \n",
    "mj_size_pct=np.round(np.arange(0.2, 1.0, 0.1),2) \n",
    "omj_size = 223896 # the original majority size\n",
    "omn_size = 19860  # the original minority size\n",
    "table1 = pd.DataFrame(columns =['mj_minor_ratio','mj_size_pct', 'Accuracy train', 'Precision train','Recall train',\n",
    "                               'Accuracy test', 'Precision test','Recall test','AUC Score Test'])\n",
    "\n",
    "for j in mj_minor_ratio:\n",
    "    for i in mj_size_pct:\n",
    "      X_combine, y_combine =combine_smote_usm(X_train.astype('float'),y_train,i,j,omj_size,omn_size)\n",
    "      lrr.fit(X_combine, y_combine)\n",
    "      y_train_pred_lr_combine = lrr.predict(X_combine)\n",
    "      y_test_pred_lr_combine = lrr.predict(X_test)\n",
    "      y_test_proba_lr_combine = lrr.predict_proba(X_test)\n",
    "      accu_tr=skm.accuracy_score(y_combine, y_train_pred_lr_combine)\n",
    "      preci_tr=skm.precision_score(y_combine, y_train_pred_lr_combine)\n",
    "      recall_tr=skm.recall_score(y_combine, y_train_pred_lr_combine)\n",
    "      accu_te=skm.accuracy_score(y_test, y_test_pred_lr_combine)\n",
    "      preci_te=skm.precision_score(y_test, y_test_pred_lr_combine)\n",
    "      recall_te=skm.recall_score(y_test, y_test_pred_lr_combine)\n",
    "      auc_te=skm.roc_auc_score(y_test, y_test_proba_lr_combine[:,1])\n",
    "      row=pd.DataFrame([[j,i,accu_tr,preci_tr,recall_tr,accu_te,preci_te,recall_te,auc_te]],\n",
    "      columns =['mj_minor_ratio','mj_size_pct', 'Accuracy train', 'Precision train','Recall train',\n",
    "                'Accuracy test', 'Precision test','Recall test','AUC Score Test'])\n",
    "      table1=table1.append(row)"
   ]
  },
  {
   "cell_type": "code",
   "execution_count": null,
   "metadata": {
    "colab": {
     "base_uri": "https://localhost:8080/",
     "height": 790
    },
    "id": "fEiNtCULYrvp",
    "outputId": "19634113-ce40-4859-bb09-2898ec7288b3"
   },
   "outputs": [
    {
     "data": {
      "text/html": [
       "<div>\n",
       "<style scoped>\n",
       "    .dataframe tbody tr th:only-of-type {\n",
       "        vertical-align: middle;\n",
       "    }\n",
       "\n",
       "    .dataframe tbody tr th {\n",
       "        vertical-align: top;\n",
       "    }\n",
       "\n",
       "    .dataframe thead th {\n",
       "        text-align: right;\n",
       "    }\n",
       "</style>\n",
       "<table border=\"1\" class=\"dataframe\">\n",
       "  <thead>\n",
       "    <tr style=\"text-align: right;\">\n",
       "      <th></th>\n",
       "      <th>mj_minor_ratio</th>\n",
       "      <th>mj_size_pct</th>\n",
       "      <th>Accuracy train</th>\n",
       "      <th>Precision train</th>\n",
       "      <th>Recall train</th>\n",
       "      <th>Accuracy test</th>\n",
       "      <th>Precision test</th>\n",
       "      <th>Recall test</th>\n",
       "      <th>AUC Score Test</th>\n",
       "    </tr>\n",
       "  </thead>\n",
       "  <tbody>\n",
       "    <tr>\n",
       "      <th>0</th>\n",
       "      <td>0.50</td>\n",
       "      <td>0.2</td>\n",
       "      <td>0.698994</td>\n",
       "      <td>0.598565</td>\n",
       "      <td>0.294430</td>\n",
       "      <td>0.854663</td>\n",
       "      <td>0.217644</td>\n",
       "      <td>0.302115</td>\n",
       "      <td>0.703994</td>\n",
       "    </tr>\n",
       "    <tr>\n",
       "      <th>0</th>\n",
       "      <td>0.50</td>\n",
       "      <td>0.3</td>\n",
       "      <td>0.698517</td>\n",
       "      <td>0.594432</td>\n",
       "      <td>0.300738</td>\n",
       "      <td>0.850593</td>\n",
       "      <td>0.214167</td>\n",
       "      <td>0.312387</td>\n",
       "      <td>0.702555</td>\n",
       "    </tr>\n",
       "    <tr>\n",
       "      <th>0</th>\n",
       "      <td>0.50</td>\n",
       "      <td>0.4</td>\n",
       "      <td>0.696644</td>\n",
       "      <td>0.587738</td>\n",
       "      <td>0.301213</td>\n",
       "      <td>0.850249</td>\n",
       "      <td>0.213627</td>\n",
       "      <td>0.312588</td>\n",
       "      <td>0.701335</td>\n",
       "    </tr>\n",
       "    <tr>\n",
       "      <th>0</th>\n",
       "      <td>0.50</td>\n",
       "      <td>0.5</td>\n",
       "      <td>0.697818</td>\n",
       "      <td>0.589870</td>\n",
       "      <td>0.306696</td>\n",
       "      <td>0.848805</td>\n",
       "      <td>0.212478</td>\n",
       "      <td>0.316213</td>\n",
       "      <td>0.700374</td>\n",
       "    </tr>\n",
       "    <tr>\n",
       "      <th>0</th>\n",
       "      <td>0.50</td>\n",
       "      <td>0.6</td>\n",
       "      <td>0.699025</td>\n",
       "      <td>0.592835</td>\n",
       "      <td>0.309939</td>\n",
       "      <td>0.848033</td>\n",
       "      <td>0.210590</td>\n",
       "      <td>0.314804</td>\n",
       "      <td>0.699888</td>\n",
       "    </tr>\n",
       "    <tr>\n",
       "      <th>0</th>\n",
       "      <td>0.50</td>\n",
       "      <td>0.7</td>\n",
       "      <td>0.698907</td>\n",
       "      <td>0.592070</td>\n",
       "      <td>0.310976</td>\n",
       "      <td>0.847361</td>\n",
       "      <td>0.210287</td>\n",
       "      <td>0.317019</td>\n",
       "      <td>0.699376</td>\n",
       "    </tr>\n",
       "    <tr>\n",
       "      <th>0</th>\n",
       "      <td>0.50</td>\n",
       "      <td>0.8</td>\n",
       "      <td>0.698229</td>\n",
       "      <td>0.590159</td>\n",
       "      <td>0.309900</td>\n",
       "      <td>0.847574</td>\n",
       "      <td>0.210343</td>\n",
       "      <td>0.316213</td>\n",
       "      <td>0.698875</td>\n",
       "    </tr>\n",
       "    <tr>\n",
       "      <th>0</th>\n",
       "      <td>0.50</td>\n",
       "      <td>0.9</td>\n",
       "      <td>0.698530</td>\n",
       "      <td>0.590980</td>\n",
       "      <td>0.310462</td>\n",
       "      <td>0.847065</td>\n",
       "      <td>0.208540</td>\n",
       "      <td>0.313797</td>\n",
       "      <td>0.697734</td>\n",
       "    </tr>\n",
       "    <tr>\n",
       "      <th>0</th>\n",
       "      <td>0.75</td>\n",
       "      <td>0.2</td>\n",
       "      <td>0.659712</td>\n",
       "      <td>0.630597</td>\n",
       "      <td>0.497320</td>\n",
       "      <td>0.759800</td>\n",
       "      <td>0.170246</td>\n",
       "      <td>0.502920</td>\n",
       "      <td>0.702380</td>\n",
       "    </tr>\n",
       "    <tr>\n",
       "      <th>0</th>\n",
       "      <td>0.75</td>\n",
       "      <td>0.3</td>\n",
       "      <td>0.661080</td>\n",
       "      <td>0.631102</td>\n",
       "      <td>0.503494</td>\n",
       "      <td>0.757979</td>\n",
       "      <td>0.168429</td>\n",
       "      <td>0.500504</td>\n",
       "      <td>0.700567</td>\n",
       "    </tr>\n",
       "    <tr>\n",
       "      <th>0</th>\n",
       "      <td>0.75</td>\n",
       "      <td>0.4</td>\n",
       "      <td>0.661320</td>\n",
       "      <td>0.630401</td>\n",
       "      <td>0.506982</td>\n",
       "      <td>0.756519</td>\n",
       "      <td>0.167374</td>\n",
       "      <td>0.500302</td>\n",
       "      <td>0.699595</td>\n",
       "    </tr>\n",
       "    <tr>\n",
       "      <th>0</th>\n",
       "      <td>0.75</td>\n",
       "      <td>0.5</td>\n",
       "      <td>0.660664</td>\n",
       "      <td>0.629057</td>\n",
       "      <td>0.507450</td>\n",
       "      <td>0.756863</td>\n",
       "      <td>0.167522</td>\n",
       "      <td>0.499899</td>\n",
       "      <td>0.698463</td>\n",
       "    </tr>\n",
       "    <tr>\n",
       "      <th>0</th>\n",
       "      <td>0.75</td>\n",
       "      <td>0.6</td>\n",
       "      <td>0.661874</td>\n",
       "      <td>0.630277</td>\n",
       "      <td>0.510506</td>\n",
       "      <td>0.756765</td>\n",
       "      <td>0.167409</td>\n",
       "      <td>0.499698</td>\n",
       "      <td>0.698492</td>\n",
       "    </tr>\n",
       "    <tr>\n",
       "      <th>0</th>\n",
       "      <td>0.75</td>\n",
       "      <td>0.7</td>\n",
       "      <td>0.662926</td>\n",
       "      <td>0.631532</td>\n",
       "      <td>0.512527</td>\n",
       "      <td>0.755911</td>\n",
       "      <td>0.167047</td>\n",
       "      <td>0.500705</td>\n",
       "      <td>0.698363</td>\n",
       "    </tr>\n",
       "    <tr>\n",
       "      <th>0</th>\n",
       "      <td>0.75</td>\n",
       "      <td>0.8</td>\n",
       "      <td>0.662600</td>\n",
       "      <td>0.631217</td>\n",
       "      <td>0.511676</td>\n",
       "      <td>0.755994</td>\n",
       "      <td>0.166251</td>\n",
       "      <td>0.496878</td>\n",
       "      <td>0.697555</td>\n",
       "    </tr>\n",
       "    <tr>\n",
       "      <th>0</th>\n",
       "      <td>0.75</td>\n",
       "      <td>0.9</td>\n",
       "      <td>0.662444</td>\n",
       "      <td>0.630869</td>\n",
       "      <td>0.511874</td>\n",
       "      <td>0.756059</td>\n",
       "      <td>0.166835</td>\n",
       "      <td>0.499295</td>\n",
       "      <td>0.697746</td>\n",
       "    </tr>\n",
       "    <tr>\n",
       "      <th>0</th>\n",
       "      <td>1.00</td>\n",
       "      <td>0.2</td>\n",
       "      <td>0.654179</td>\n",
       "      <td>0.657762</td>\n",
       "      <td>0.642824</td>\n",
       "      <td>0.660770</td>\n",
       "      <td>0.142545</td>\n",
       "      <td>0.630816</td>\n",
       "      <td>0.701281</td>\n",
       "    </tr>\n",
       "    <tr>\n",
       "      <th>0</th>\n",
       "      <td>1.00</td>\n",
       "      <td>0.3</td>\n",
       "      <td>0.656838</td>\n",
       "      <td>0.658875</td>\n",
       "      <td>0.650429</td>\n",
       "      <td>0.661345</td>\n",
       "      <td>0.142316</td>\n",
       "      <td>0.627996</td>\n",
       "      <td>0.700037</td>\n",
       "    </tr>\n",
       "    <tr>\n",
       "      <th>0</th>\n",
       "      <td>1.00</td>\n",
       "      <td>0.4</td>\n",
       "      <td>0.658713</td>\n",
       "      <td>0.660107</td>\n",
       "      <td>0.654358</td>\n",
       "      <td>0.662362</td>\n",
       "      <td>0.142294</td>\n",
       "      <td>0.625378</td>\n",
       "      <td>0.698630</td>\n",
       "    </tr>\n",
       "    <tr>\n",
       "      <th>0</th>\n",
       "      <td>1.00</td>\n",
       "      <td>0.5</td>\n",
       "      <td>0.658717</td>\n",
       "      <td>0.660439</td>\n",
       "      <td>0.653348</td>\n",
       "      <td>0.661706</td>\n",
       "      <td>0.141837</td>\n",
       "      <td>0.624169</td>\n",
       "      <td>0.698076</td>\n",
       "    </tr>\n",
       "    <tr>\n",
       "      <th>0</th>\n",
       "      <td>1.00</td>\n",
       "      <td>0.6</td>\n",
       "      <td>0.659855</td>\n",
       "      <td>0.661362</td>\n",
       "      <td>0.655188</td>\n",
       "      <td>0.661541</td>\n",
       "      <td>0.141477</td>\n",
       "      <td>0.622356</td>\n",
       "      <td>0.697937</td>\n",
       "    </tr>\n",
       "    <tr>\n",
       "      <th>0</th>\n",
       "      <td>1.00</td>\n",
       "      <td>0.7</td>\n",
       "      <td>0.659510</td>\n",
       "      <td>0.660648</td>\n",
       "      <td>0.655969</td>\n",
       "      <td>0.661164</td>\n",
       "      <td>0.141623</td>\n",
       "      <td>0.624169</td>\n",
       "      <td>0.697703</td>\n",
       "    </tr>\n",
       "    <tr>\n",
       "      <th>0</th>\n",
       "      <td>1.00</td>\n",
       "      <td>0.8</td>\n",
       "      <td>0.660120</td>\n",
       "      <td>0.661265</td>\n",
       "      <td>0.656569</td>\n",
       "      <td>0.661919</td>\n",
       "      <td>0.141593</td>\n",
       "      <td>0.622155</td>\n",
       "      <td>0.697308</td>\n",
       "    </tr>\n",
       "    <tr>\n",
       "      <th>0</th>\n",
       "      <td>1.00</td>\n",
       "      <td>0.9</td>\n",
       "      <td>0.659618</td>\n",
       "      <td>0.660733</td>\n",
       "      <td>0.656149</td>\n",
       "      <td>0.661689</td>\n",
       "      <td>0.141305</td>\n",
       "      <td>0.620947</td>\n",
       "      <td>0.697290</td>\n",
       "    </tr>\n",
       "  </tbody>\n",
       "</table>\n",
       "</div>"
      ],
      "text/plain": [
       "   mj_minor_ratio  mj_size_pct  ...  Recall test  AUC Score Test\n",
       "0            0.50          0.2  ...     0.302115        0.703994\n",
       "0            0.50          0.3  ...     0.312387        0.702555\n",
       "0            0.50          0.4  ...     0.312588        0.701335\n",
       "0            0.50          0.5  ...     0.316213        0.700374\n",
       "0            0.50          0.6  ...     0.314804        0.699888\n",
       "0            0.50          0.7  ...     0.317019        0.699376\n",
       "0            0.50          0.8  ...     0.316213        0.698875\n",
       "0            0.50          0.9  ...     0.313797        0.697734\n",
       "0            0.75          0.2  ...     0.502920        0.702380\n",
       "0            0.75          0.3  ...     0.500504        0.700567\n",
       "0            0.75          0.4  ...     0.500302        0.699595\n",
       "0            0.75          0.5  ...     0.499899        0.698463\n",
       "0            0.75          0.6  ...     0.499698        0.698492\n",
       "0            0.75          0.7  ...     0.500705        0.698363\n",
       "0            0.75          0.8  ...     0.496878        0.697555\n",
       "0            0.75          0.9  ...     0.499295        0.697746\n",
       "0            1.00          0.2  ...     0.630816        0.701281\n",
       "0            1.00          0.3  ...     0.627996        0.700037\n",
       "0            1.00          0.4  ...     0.625378        0.698630\n",
       "0            1.00          0.5  ...     0.624169        0.698076\n",
       "0            1.00          0.6  ...     0.622356        0.697937\n",
       "0            1.00          0.7  ...     0.624169        0.697703\n",
       "0            1.00          0.8  ...     0.622155        0.697308\n",
       "0            1.00          0.9  ...     0.620947        0.697290\n",
       "\n",
       "[24 rows x 9 columns]"
      ]
     },
     "execution_count": 161,
     "metadata": {
      "tags": []
     },
     "output_type": "execute_result"
    }
   ],
   "source": [
    "table1"
   ]
  },
  {
   "cell_type": "code",
   "execution_count": null,
   "metadata": {
    "colab": {
     "base_uri": "https://localhost:8080/",
     "height": 295
    },
    "id": "yTXBrdhpsaSh",
    "outputId": "bcefdf7d-d51c-4460-ff9b-8397e5ee765c"
   },
   "outputs": [
    {
     "data": {
      "image/png": "[encoded data removed]",
      "text/plain": [
       "<Figure size 1152x288 with 1 Axes>"
      ]
     },
     "metadata": {
      "tags": []
     },
     "output_type": "display_data"
    }
   ],
   "source": [
    "comb = ['C' + str(i) for i in np.arange(0, 24, 1)]\n",
    "table1['Combination'] = comb\n",
    "\n",
    "fig = plt.figure(figsize = [10, 4])\n",
    "plt.bar(table1['Combination'], table1['AUC Score Test'], color = 'coral', width=0.4)\n",
    "plt.xlabel('Combination of under-sampling major class and oversampling minor class')\n",
    "plt.ylabel('AUC score')\n",
    "plt.title('AUC scores on different re-sampling approaches')\n",
    "plt.yticks(np.arange(0, 0.95, 0.1))\n",
    "\n",
    "for i, v in enumerate(table1['AUC Score Test']):\n",
    "  plt.text(i-0.25, v+0.02, str(round(v, 3)))\n",
    "\n",
    "plt.show()"
   ]
  },
  {
   "cell_type": "code",
   "execution_count": null,
   "metadata": {
    "colab": {
     "base_uri": "https://localhost:8080/",
     "height": 295
    },
    "id": "AxIl1lT_uL-n",
    "outputId": "9104296a-63f1-4703-9c43-a91f78350f2c"
   },
   "outputs": [
    {
     "data": {
      "image/png": "[encoded data removed]",
      "text/plain": [
       "<Figure size 1152x288 with 1 Axes>"
      ]
     },
     "metadata": {
      "tags": []
     },
     "output_type": "display_data"
    }
   ],
   "source": [
    "comb = ['C' + str(i) for i in np.arange(0, 24, 1)]\n",
    "table1['Combination'] = comb\n",
    "\n",
    "fig = plt.figure(figsize = [10, 4])\n",
    "plt.bar(table1['Combination'], table1['Recall test'], color = 'coral')\n",
    "plt.xlabel('Combination of under-sampling major class and oversampling minor class')\n",
    "plt.ylabel('Test recall score')\n",
    "plt.title('Test recall scores on different re-sampling approaches')\n",
    "plt.yticks(np.arange(0, 0.95, 0.1))\n",
    "\n",
    "for i, v in enumerate(table1['Recall test']):\n",
    "  plt.text(i-0.45, v+0.02, str(round(v, 3)))\n",
    "\n",
    "plt.show()"
   ]
  },
  {
   "cell_type": "markdown",
   "metadata": {
    "id": "8DomETAdgDS9"
   },
   "source": [
    "### Cost-sensitive learning"
   ]
  },
  {
   "cell_type": "code",
   "execution_count": null,
   "metadata": {
    "id": "sKKUC0zhY7tv"
   },
   "outputs": [],
   "source": [
    "from sklearn.model_selection import GridSearchCV\n",
    "from sklearn.svm import SVC"
   ]
  },
  {
   "cell_type": "code",
   "execution_count": null,
   "metadata": {
    "colab": {
     "base_uri": "https://localhost:8080/"
    },
    "id": "2HPBF8xGHUuV",
    "outputId": "78213485-cc25-4c22-f04d-2b35c9b3ed50"
   },
   "outputs": [
    {
     "name": "stdout",
     "output_type": "stream",
     "text": [
      "11.273716012084591\n",
      "Weight for TARGET 0: 1.0\n",
      "Weight for TARGET 1: 11.273716012084591\n"
     ]
    }
   ],
   "source": [
    "# Calculate the weights for TARGET 0 and TARGET 1\n",
    "num_0 = train[train[\"TARGET\"] == 0].shape[0]\n",
    "num_1 = train[train[\"TARGET\"] == 1].shape[0]\n",
    "\n",
    "print(num_0/num_1)\n",
    "\n",
    "# The inverse ratio of data distribution for TARGET 1\n",
    "weight_0 = 1.0\n",
    "weight_1 = 1/(num_1/num_0)\n",
    "\n",
    "print(\"Weight for TARGET 0:\", weight_0)\n",
    "print(\"Weight for TARGET 1:\", weight_1)"
   ]
  },
  {
   "cell_type": "code",
   "execution_count": null,
   "metadata": {
    "id": "CdzZEEV7RauV"
   },
   "outputs": [],
   "source": [
    "# Prepare weights for algorithms\n",
    "weights = {0:weight_0, 1:weight_1}"
   ]
  },
  {
   "cell_type": "markdown",
   "metadata": {
    "id": "TIYH1Un0HLTt"
   },
   "source": [
    "#### Cost-Sensitive Logistic Regression"
   ]
  },
  {
   "cell_type": "code",
   "execution_count": null,
   "metadata": {
    "id": "KpyDLBpzYzsk"
   },
   "outputs": [],
   "source": [
    "# Conduct Grid Search for weights\n",
    "balance = [{0:1, 1:6}, {0:1, 1:8}, {0:1, 1:10}, {0:1, 1:12}, {0:1, 1:14}]\n",
    "params = dict(class_weight = balance)\n",
    "\n",
    "grid_lr = LogisticRegression(max_iter = 500)\n",
    "grid = GridSearchCV(grid_lr, param_grid=params, cv = 5, verbose = 0, scoring= 'roc_auc')\n",
    "grid_result = grid.fit(X_train, y_train)"
   ]
  },
  {
   "cell_type": "code",
   "execution_count": null,
   "metadata": {
    "colab": {
     "base_uri": "https://localhost:8080/"
    },
    "id": "qP8l4WDJab7M",
    "outputId": "fb185f48-66f2-4fa6-b013-bd47e61433ae"
   },
   "outputs": [
    {
     "name": "stdout",
     "output_type": "stream",
     "text": [
      "Best score: 0.6985564521526829\n",
      "Best parameter: {'class_weight': {0: 1, 1: 8}}\n"
     ]
    }
   ],
   "source": [
    "print(\"Best score:\", grid_result.best_score_)\n",
    "print(\"Best parameter:\", grid_result.best_params_)"
   ]
  },
  {
   "cell_type": "markdown",
   "metadata": {
    "id": "qxMikBDOdq0Y"
   },
   "source": [
    "The best parameter: {'class_weight': {0: 1, 1: 8}}\n",
    "<br>The AUC score for best parameter is not as good as the AUC score for {'class_weight': {0: 1, 1: 11.273716012084591}}\n",
    "\n",
    "balance = [{0:1, 1:10}, {0:1, 1:50}, {0:1, 1:100}, {0:1, 1:150}, {0:1, 1:200}] has been used to do gridsearch, the best parameter is still: {'class_weight': {0: 1, 1: 10}}"
   ]
  },
  {
   "cell_type": "code",
   "execution_count": null,
   "metadata": {
    "id": "zzUOYqZkVWSF"
   },
   "outputs": [],
   "source": [
    "# Weighted Logistic Regression\n",
    "wlr = LogisticRegression(random_state = 23, class_weight=weights, max_iter = 500)\n",
    "\n",
    "wlr.fit(X_train, y_train)\n",
    "\n",
    "y_train_pred_wlr = wlr.predict(X_train)\n",
    "y_test_pred_wlr = wlr.predict(X_test)\n",
    "\n",
    "y_train_proba_wlr = wlr.predict_proba(X_train)\n",
    "y_test_proba_wlr = wlr.predict_proba(X_test)"
   ]
  },
  {
   "cell_type": "code",
   "execution_count": null,
   "metadata": {
    "colab": {
     "base_uri": "https://localhost:8080/"
    },
    "id": "Xah3U0G6WmuO",
    "outputId": "8e2a784a-f935-4d2e-ecb8-a5301ab0c1ec"
   },
   "outputs": [
    {
     "name": "stdout",
     "output_type": "stream",
     "text": [
      "Train Confusion Matrix: \n",
      " [[148276  75620]\n",
      " [  7359  12501]]\n",
      "Accuracy Train: 0.6595817128604013\n",
      "Precision Train: 0.1418617582642049\n",
      "Recall Train: 0.6294561933534744\n",
      "AUC score 0.7000718881457371\n",
      "\n",
      " Test Confusion Matrix: \n",
      " [[37274 18702]\n",
      " [ 1818  3147]]\n",
      "Accuracy Test: 0.6632808782264813\n",
      "Precision Test: 0.14403405190168886\n",
      "Recall Test: 0.6338368580060423\n",
      "AUC score 0.7044255803199213\n"
     ]
    }
   ],
   "source": [
    "print(\"Train Confusion Matrix: \\n\", skm.confusion_matrix(y_train, y_train_pred_wlr))\n",
    "print(\"Accuracy Train:\", skm.accuracy_score(y_train, y_train_pred_wlr))\n",
    "print(\"Precision Train:\", skm.precision_score(y_train, y_train_pred_wlr))\n",
    "print(\"Recall Train:\", skm.recall_score(y_train, y_train_pred_wlr))\n",
    "print(\"AUC score\", skm.roc_auc_score(y_train, y_train_proba_wlr[:,1]))\n",
    "\n",
    "print(\"\\n Test Confusion Matrix: \\n\", skm.confusion_matrix(y_test, y_test_pred_wlr))\n",
    "print(\"Accuracy Test:\", skm.accuracy_score(y_test, y_test_pred_wlr))\n",
    "print(\"Precision Test:\", skm.precision_score(y_test, y_test_pred_wlr))\n",
    "print(\"Recall Test:\", skm.recall_score(y_test, y_test_pred_wlr))\n",
    "print(\"AUC score\", skm.roc_auc_score(y_test, y_test_proba_wlr[:,1]))"
   ]
  },
  {
   "cell_type": "markdown",
   "metadata": {
    "id": "2DOApvg0G53g"
   },
   "source": [
    "#### Cost-Sensitive Random Forest"
   ]
  },
  {
   "cell_type": "code",
   "execution_count": null,
   "metadata": {
    "id": "RI1q_M39eFTH"
   },
   "outputs": [],
   "source": [
    "# Conduct Grid Search for weights\n",
    "balance = [{0:1, 1:10}, {0:1, 1:50}, {0:1, 1:100}, {0:1, 1:150}, {0:1, 1:200}]\n",
    "params = dict(class_weight = balance)\n",
    "\n",
    "grid_rf = RandomForestClassifier(random_state = 23)\n",
    "grid1 = GridSearchCV(grid_rf, param_grid=params, cv = 5, verbose = 0, scoring= 'roc_auc')\n",
    "grid_result1 = grid1.fit(X_train, y_train)"
   ]
  },
  {
   "cell_type": "code",
   "execution_count": null,
   "metadata": {
    "colab": {
     "base_uri": "https://localhost:8080/"
    },
    "id": "1NRvw5vHeUwg",
    "outputId": "0c86fd48-8b79-42f2-e1d8-37c8422acc16"
   },
   "outputs": [
    {
     "name": "stdout",
     "output_type": "stream",
     "text": [
      "Best score: 0.6758618296385793\n",
      "Best parameter: {'class_weight': {0: 1, 1: 10}}\n"
     ]
    }
   ],
   "source": [
    "print(\"Best score:\", grid_result1.best_score_)\n",
    "print(\"Best parameter:\", grid_result1.best_params_)"
   ]
  },
  {
   "cell_type": "code",
   "execution_count": null,
   "metadata": {
    "id": "V7KJekwCcKJ1"
   },
   "outputs": [],
   "source": [
    "# Conduct Grid Search for weights\n",
    "balance2 = [{0:1, 1:4}, {0:1, 1:6}, {0:1, 1:8}, {0:1, 1:10}, {0:1, 1:12}, {0:1, 1:14}]\n",
    "params2 = dict(class_weight = balance2)\n",
    "\n",
    "grid_rf2 = RandomForestClassifier(random_state = 23)\n",
    "grid2 = GridSearchCV(grid_rf2, param_grid=params2, cv = 5, verbose = 0, scoring= 'roc_auc')\n",
    "grid_result2 = grid2.fit(X_train, y_train)"
   ]
  },
  {
   "cell_type": "code",
   "execution_count": null,
   "metadata": {
    "colab": {
     "base_uri": "https://localhost:8080/"
    },
    "id": "LMxD9d5BcJyb",
    "outputId": "10f016c5-ada7-41da-f50e-4f79a7380442"
   },
   "outputs": [
    {
     "name": "stdout",
     "output_type": "stream",
     "text": [
      "Best score: 0.6782121650932318\n",
      "Best parameter: {'class_weight': {0: 1, 1: 12}}\n"
     ]
    }
   ],
   "source": [
    "print(\"Best score:\", grid_result2.best_score_)\n",
    "print(\"Best parameter:\", grid_result2.best_params_)"
   ]
  },
  {
   "cell_type": "code",
   "execution_count": null,
   "metadata": {
    "id": "_BN2R8DIdZUP"
   },
   "outputs": [],
   "source": [
    "wrf2 = grid_result2.best_estimator_"
   ]
  },
  {
   "cell_type": "code",
   "execution_count": null,
   "metadata": {
    "id": "ufs9F5dTdaIq"
   },
   "outputs": [],
   "source": [
    "y_train_pred_wrf2 = wrf2.predict(X_train)\n",
    "y_test_pred_wrf2 = wrf2.predict(X_test)\n",
    "\n",
    "y_train_proba_wrf2 = wrf2.predict_proba(X_train)\n",
    "y_test_proba_wrf2 = wrf2.predict_proba(X_test)"
   ]
  },
  {
   "cell_type": "code",
   "execution_count": null,
   "metadata": {
    "colab": {
     "base_uri": "https://localhost:8080/"
    },
    "id": "ZYkwoEVmdUpJ",
    "outputId": "c15dd50a-b6a6-4e13-d7ba-4ce81adc6418"
   },
   "outputs": [
    {
     "name": "stdout",
     "output_type": "stream",
     "text": [
      "Train Confusion Matrix: \n",
      " [[223896      0]\n",
      " [    13  19847]]\n",
      "Accuracy Train: 0.9999466679794549\n",
      "Precision Train: 1.0\n",
      "Recall Train: 0.9993454179254784\n",
      "AUC score 1.0\n",
      "\n",
      " Test Confusion Matrix: \n",
      " [[55976     0]\n",
      " [ 4964     1]]\n",
      "Accuracy Test: 0.9185441656684334\n",
      "Precision Test: 1.0\n",
      "Recall Test: 0.0002014098690835851\n",
      "AUC score 0.6830268054025743\n"
     ]
    }
   ],
   "source": [
    "print(\"Train Confusion Matrix: \\n\", skm.confusion_matrix(y_train, y_train_pred_wrf2))\n",
    "print(\"Accuracy Train:\", skm.accuracy_score(y_train, y_train_pred_wrf2))\n",
    "print(\"Precision Train:\", skm.precision_score(y_train, y_train_pred_wrf2))\n",
    "print(\"Recall Train:\", skm.recall_score(y_train, y_train_pred_wrf2))\n",
    "print(\"AUC score\", skm.roc_auc_score(y_train, y_train_proba_wrf2[:,1]))\n",
    "print(\"\\n Test Confusion Matrix: \\n\", skm.confusion_matrix(y_test, y_test_pred_wrf2))\n",
    "print(\"Accuracy Test:\", skm.accuracy_score(y_test, y_test_pred_wrf2))\n",
    "print(\"Precision Test:\", skm.precision_score(y_test, y_test_pred_wrf2))\n",
    "print(\"Recall Test:\", skm.recall_score(y_test, y_test_pred_wrf2))\n",
    "print(\"AUC score\", skm.roc_auc_score(y_test, y_test_proba_wrf2[:,1]))"
   ]
  },
  {
   "cell_type": "code",
   "execution_count": null,
   "metadata": {
    "id": "5sRvujW7G5N_"
   },
   "outputs": [],
   "source": [
    "# Weighted Random Forest\n",
    "wrf = RandomForestClassifier(random_state = 23, class_weight=weights)\n",
    "\n",
    "wrf.fit(X_train, y_train)\n",
    "\n",
    "y_train_pred_wrf = wrf.predict(X_train)\n",
    "y_test_pred_wrf = wrf.predict(X_test)\n",
    "y_test_proba_wrf= wrf.predict_proba(X_test)"
   ]
  },
  {
   "cell_type": "code",
   "execution_count": null,
   "metadata": {
    "colab": {
     "base_uri": "https://localhost:8080/"
    },
    "id": "xLuqmtSmgCVS",
    "outputId": "2512d444-8779-44e1-e823-17451c9cb916"
   },
   "outputs": [
    {
     "name": "stdout",
     "output_type": "stream",
     "text": [
      "Train Confusion Matrix: \n",
      " [[223896      0]\n",
      " [     6  19854]]\n",
      "Accuracy Train: 0.9999753852212868\n",
      "Precision Train: 1.0\n",
      "Recall Train: 0.9996978851963746\n",
      "\n",
      " Test Confusion Matrix: \n",
      " [[55975     1]\n",
      " [ 4961     4]]\n",
      "Accuracy Test: 0.9185769842962865\n",
      "Precision Test: 0.8\n",
      "Recall Test: 0.0008056394763343404\n",
      "AUC score 0.6826846414252346\n"
     ]
    }
   ],
   "source": [
    "print(\"Train Confusion Matrix: \\n\", skm.confusion_matrix(y_train, y_train_pred_wrf))\n",
    "print(\"Accuracy Train:\", skm.accuracy_score(y_train, y_train_pred_wrf))\n",
    "print(\"Precision Train:\", skm.precision_score(y_train, y_train_pred_wrf))\n",
    "print(\"Recall Train:\", skm.recall_score(y_train, y_train_pred_wrf))\n",
    "print(\"\\n Test Confusion Matrix: \\n\", skm.confusion_matrix(y_test, y_test_pred_wrf))\n",
    "print(\"Accuracy Test:\", skm.accuracy_score(y_test, y_test_pred_wrf))\n",
    "print(\"Precision Test:\", skm.precision_score(y_test, y_test_pred_wrf))\n",
    "print(\"Recall Test:\", skm.recall_score(y_test, y_test_pred_wrf))\n",
    "print(\"AUC score\", skm.roc_auc_score(y_test, y_test_proba_wrf[:,1]))"
   ]
  }
 ],
 "metadata": {
  "colab": {
   "collapsed_sections": [
    "vhuCB-MZZOdM",
    "AdWyZZ13m1U3",
    "PKwCvmvOnE0Q",
    "Ox8ecO6ynLrO",
    "5rfCaRrL9DqO",
    "1Umb9Y73yFiy",
    "0mjIaTxbBDER",
    "mo5F69_qo0zt",
    "c_H2_anIJd9Z",
    "5G35u9QNXSJy",
    "E6Hx3_1Ms_il",
    "BbeOgWrfs7E_",
    "fsmVIShsuwHA",
    "BjR6GEy6u0Uo",
    "e7kaDbcPzG1g",
    "88T0jjxRzJ7v",
    "TIYH1Un0HLTt",
    "2DOApvg0G53g",
    "64iE7RY3HBN4"
   ],
   "name": "EDA_Feature_Engineering_XGBoost_final.ipynb",
   "provenance": []
  },
  "kernelspec": {
   "display_name": "Python 3",
   "language": "python",
   "name": "python3"
  },
  "language_info": {
   "codemirror_mode": {
    "name": "ipython",
    "version": 3
   },
   "file_extension": ".py",
   "mimetype": "text/x-python",
   "name": "python",
   "nbconvert_exporter": "python",
   "pygments_lexer": "ipython3",
   "version": "3.7.4"
  }
 },
 "nbformat": 4,
 "nbformat_minor": 1
}
