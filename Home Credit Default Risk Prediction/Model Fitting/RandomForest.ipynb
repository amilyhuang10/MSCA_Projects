{
 "cells": [
  {
   "cell_type": "code",
   "execution_count": 4,
   "metadata": {
    "executionInfo": {
     "elapsed": 2028,
     "status": "ok",
     "timestamp": 1607712640747,
     "user": {
      "displayName": "Bharadwaj Kacharla",
      "photoUrl": "",
      "userId": "00504989742471762931"
     },
     "user_tz": 360
    },
    "id": "NXkdf1nIYimV"
   },
   "outputs": [],
   "source": [
    "import pandas as pd\n",
    "import numpy as np\n",
    "import matplotlib.pyplot as plt\n",
    "import seaborn as sns\n",
    "from sklearn.metrics import confusion_matrix\n",
    "from sklearn.metrics import classification_report\n",
    "from sklearn.metrics import roc_auc_score\n",
    "from sklearn.metrics import roc_curve\n",
    "from sklearn.ensemble import RandomForestClassifier\n",
    "from sklearn.model_selection import GridSearchCV\n",
    "from sklearn.model_selection import RandomizedSearchCV\n",
    "from imblearn.under_sampling import RandomUnderSampler\n",
    "from collections import Counter\n",
    "from imblearn.over_sampling import SMOTE\n",
    "from sklearn import metrics as skm\n",
    "from sklearn.linear_model import SGDClassifier"
   ]
  },
  {
   "cell_type": "markdown",
   "metadata": {
    "id": "2bE9nPnhgWHc"
   },
   "source": [
    "### RandomForest Modelling"
   ]
  },
  {
   "cell_type": "markdown",
   "metadata": {
    "id": "rlSH5DoqhgUN"
   },
   "source": [
    "##### Basic random forest"
   ]
  },
  {
   "cell_type": "code",
   "execution_count": null,
   "metadata": {
    "colab": {
     "base_uri": "https://localhost:8080/"
    },
    "executionInfo": {
     "elapsed": 78381,
     "status": "ok",
     "timestamp": 1607106953329,
     "user": {
      "displayName": "Bharadwaj Kacharla",
      "photoUrl": "",
      "userId": "00504989742471762931"
     },
     "user_tz": 360
    },
    "id": "xgPGRGtcgZyZ",
    "outputId": "cb79d8bb-2500-4b4f-a2a3-527f1b368adb"
   },
   "outputs": [
    {
     "data": {
      "text/plain": [
       "RandomForestClassifier(bootstrap=True, ccp_alpha=0.0, class_weight=None,\n",
       "                       criterion='gini', max_depth=None, max_features='auto',\n",
       "                       max_leaf_nodes=None, max_samples=None,\n",
       "                       min_impurity_decrease=0.0, min_impurity_split=None,\n",
       "                       min_samples_leaf=1, min_samples_split=2,\n",
       "                       min_weight_fraction_leaf=0.0, n_estimators=100,\n",
       "                       n_jobs=None, oob_score=False, random_state=20, verbose=0,\n",
       "                       warm_start=False)"
      ]
     },
     "execution_count": 132,
     "metadata": {
      "tags": []
     },
     "output_type": "execute_result"
    }
   ],
   "source": [
    "# Instantiate a random forests classifer\n",
    "rf = RandomForestClassifier(random_state=20)\n",
    "# Fitting the data to the data\n",
    "rf.fit(X_train, y_train)"
   ]
  },
  {
   "cell_type": "code",
   "execution_count": null,
   "metadata": {
    "id": "cFJlTSLJhYeU"
   },
   "outputs": [],
   "source": [
    "# predicted probabilities using .predict_proba()\n",
    "y_pred_prob = rf.predict_proba(X_validation)\n",
    "# predicted classes using .predict()\n",
    "y_pred = rf.predict(X_validation)"
   ]
  },
  {
   "cell_type": "markdown",
   "metadata": {
    "id": "MUb1b3UBiWTH"
   },
   "source": [
    "#### Confusion_matrix"
   ]
  },
  {
   "cell_type": "code",
   "execution_count": null,
   "metadata": {
    "colab": {
     "base_uri": "https://localhost:8080/"
    },
    "executionInfo": {
     "elapsed": 81285,
     "status": "ok",
     "timestamp": 1607106958929,
     "user": {
      "displayName": "Bharadwaj Kacharla",
      "photoUrl": "",
      "userId": "00504989742471762931"
     },
     "user_tz": 360
    },
    "id": "QudUB6kPh-oN",
    "outputId": "074f6ea9-bb29-43a0-a309-491319e9bbf9"
   },
   "outputs": [
    {
     "data": {
      "text/plain": [
       "array([[55974,     2],\n",
       "       [ 4960,     5]])"
      ]
     },
     "execution_count": 134,
     "metadata": {
      "tags": []
     },
     "output_type": "execute_result"
    }
   ],
   "source": [
    "#Confusion matrix\n",
    "confusion_matrix(y_validation, y_pred)"
   ]
  },
  {
   "cell_type": "code",
   "execution_count": null,
   "metadata": {
    "colab": {
     "base_uri": "https://localhost:8080/"
    },
    "executionInfo": {
     "elapsed": 81168,
     "status": "ok",
     "timestamp": 1607106959256,
     "user": {
      "displayName": "Bharadwaj Kacharla",
      "photoUrl": "",
      "userId": "00504989742471762931"
     },
     "user_tz": 360
    },
    "id": "vYwK_C8NiVUH",
    "outputId": "d837ef1f-0ee2-470b-f4aa-8e86b7a12c1f"
   },
   "outputs": [
    {
     "name": "stdout",
     "output_type": "stream",
     "text": [
      "              precision    recall  f1-score   support\n",
      "\n",
      "           0       0.92      1.00      0.96     55976\n",
      "           1       0.71      0.00      0.00      4965\n",
      "\n",
      "    accuracy                           0.92     60941\n",
      "   macro avg       0.82      0.50      0.48     60941\n",
      "weighted avg       0.90      0.92      0.88     60941\n",
      "\n"
     ]
    }
   ],
   "source": [
    "#Classification report\n",
    "print(classification_report(y_validation, y_pred))"
   ]
  },
  {
   "cell_type": "code",
   "execution_count": null,
   "metadata": {
    "colab": {
     "base_uri": "https://localhost:8080/"
    },
    "executionInfo": {
     "elapsed": 80886,
     "status": "ok",
     "timestamp": 1607106959256,
     "user": {
      "displayName": "Bharadwaj Kacharla",
      "photoUrl": "",
      "userId": "00504989742471762931"
     },
     "user_tz": 360
    },
    "id": "tDIr2xiuifIn",
    "outputId": "c399d390-7b1e-40d3-8aff-983a5d681b94"
   },
   "outputs": [
    {
     "name": "stdout",
     "output_type": "stream",
     "text": [
      "0.3237936996736193\n"
     ]
    }
   ],
   "source": [
    "# calculating roc_auc_score for our target class = 1\n",
    "print(roc_auc_score(y_validation, y_pred_prob[:,0]))"
   ]
  },
  {
   "cell_type": "code",
   "execution_count": null,
   "metadata": {
    "colab": {
     "base_uri": "https://localhost:8080/"
    },
    "executionInfo": {
     "elapsed": 79633,
     "status": "ok",
     "timestamp": 1607106959257,
     "user": {
      "displayName": "Bharadwaj Kacharla",
      "photoUrl": "",
      "userId": "00504989742471762931"
     },
     "user_tz": 360
    },
    "id": "V9dovCj7ihw7",
    "outputId": "11de4e94-0196-409d-988e-744cc0214738"
   },
   "outputs": [
    {
     "name": "stdout",
     "output_type": "stream",
     "text": [
      "0.6762063003263807\n"
     ]
    }
   ],
   "source": [
    "# calculating roc_auc_score for our target class = 0\n",
    "print(roc_auc_score(y_validation, y_pred_prob[:,1]))"
   ]
  },
  {
   "cell_type": "code",
   "execution_count": null,
   "metadata": {
    "colab": {
     "base_uri": "https://localhost:8080/"
    },
    "executionInfo": {
     "elapsed": 363,
     "status": "ok",
     "timestamp": 1607107578062,
     "user": {
      "displayName": "Bharadwaj Kacharla",
      "photoUrl": "",
      "userId": "00504989742471762931"
     },
     "user_tz": 360
    },
    "id": "OlQObgI-E3SQ",
    "outputId": "9a466fdb-da35-426b-f0cd-c28fc77fcaa2"
   },
   "outputs": [
    {
     "data": {
      "text/plain": [
       "array([0, 0, 0, ..., 0, 0, 0])"
      ]
     },
     "execution_count": 146,
     "metadata": {
      "tags": []
     },
     "output_type": "execute_result"
    }
   ],
   "source": [
    "y_train_pred"
   ]
  },
  {
   "cell_type": "code",
   "execution_count": null,
   "metadata": {
    "id": "6I7emOrWEOSD"
   },
   "outputs": [],
   "source": [
    "y_train_pred = rf.predict(X_train)\n",
    "y_test_pred = rf.predict(X_validation)\n",
    "\n",
    "y_train_proba = rf.predict_proba(X_train)\n",
    "y_test_proba = rf.predict_proba(X_validation)"
   ]
  },
  {
   "cell_type": "code",
   "execution_count": null,
   "metadata": {
    "colab": {
     "base_uri": "https://localhost:8080/"
    },
    "executionInfo": {
     "elapsed": 961,
     "status": "ok",
     "timestamp": 1607107613792,
     "user": {
      "displayName": "Bharadwaj Kacharla",
      "photoUrl": "",
      "userId": "00504989742471762931"
     },
     "user_tz": 360
    },
    "id": "QsI3zzvYEIGE",
    "outputId": "d3ec542c-858b-4d88-aa95-369e9b34b150"
   },
   "outputs": [
    {
     "name": "stdout",
     "output_type": "stream",
     "text": [
      "Train Confusion Matrix: \n",
      " [[223896      0]\n",
      " [    15  19845]]\n",
      "Accuracy Train: 0.9999384630532171\n",
      "Precision Train: 1.0\n",
      "Recall Train: 0.9992447129909365\n",
      "AUC score 1.0\n",
      "\n",
      " Test Confusion Matrix: \n",
      " [[55974     2]\n",
      " [ 4960     5]]\n",
      "Accuracy Test: 0.9185769842962865\n",
      "Precision Test: 0.7142857142857143\n",
      "Recall Test: 0.0010070493454179255\n",
      "AUC score 0.6762063003263807\n"
     ]
    }
   ],
   "source": [
    "print(\"Train Confusion Matrix: \\n\", skm.confusion_matrix(y_train, y_train_pred))\n",
    "print(\"Accuracy Train:\", skm.accuracy_score(y_train, y_train_pred))\n",
    "print(\"Precision Train:\", skm.precision_score(y_train, y_train_pred))\n",
    "print(\"Recall Train:\", skm.recall_score(y_train, y_train_pred))\n",
    "print(\"AUC score\", skm.roc_auc_score(y_train, y_train_proba[:,1]))\n",
    "print(\"\\n Test Confusion Matrix: \\n\", skm.confusion_matrix(y_validation, y_test_pred))\n",
    "print(\"Accuracy Test:\", skm.accuracy_score(y_validation, y_test_pred))\n",
    "print(\"Precision Test:\", skm.precision_score(y_validation, y_test_pred))\n",
    "print(\"Recall Test:\", skm.recall_score(y_validation, y_test_pred))\n",
    "print(\"AUC score\", skm.roc_auc_score(y_validation, y_test_proba[:,1]))"
   ]
  },
  {
   "cell_type": "markdown",
   "metadata": {
    "id": "13GRu7hRizMP"
   },
   "source": [
    "#### RandomForest with GridSearchCV"
   ]
  },
  {
   "cell_type": "code",
   "execution_count": null,
   "metadata": {
    "id": "IF6xmV7kimlL"
   },
   "outputs": [],
   "source": [
    "param_grid = {'n_estimators': [50, 100, 150, 200],\n",
    "'max_features': [2,4,6,8],\n",
    "'max_depth':[6,8,10,12]}\n",
    "\n",
    "# create Random Forest model \n",
    "rf=RandomForestClassifier()\n",
    "\n",
    "# Use 5 cross-fold and for scoring use \"roc_auc\" \n",
    "rf_Grid = GridSearchCV(rf, param_grid, cv = 5, scoring = 'roc_auc')"
   ]
  },
  {
   "cell_type": "code",
   "execution_count": null,
   "metadata": {
    "colab": {
     "base_uri": "https://localhost:8080/"
    },
    "executionInfo": {
     "elapsed": 870102,
     "status": "ok",
     "timestamp": 1606971634237,
     "user": {
      "displayName": "Bharadwaj Kacharla",
      "photoUrl": "",
      "userId": "00504989742471762931"
     },
     "user_tz": 360
    },
    "id": "XZ5wj13WjN07",
    "outputId": "6831e57b-e7e4-4a5f-ec1f-6a82da241ad8"
   },
   "outputs": [
    {
     "data": {
      "text/plain": [
       "GridSearchCV(cv=5, error_score=nan,\n",
       "             estimator=RandomForestClassifier(bootstrap=True, ccp_alpha=0.0,\n",
       "                                              class_weight=None,\n",
       "                                              criterion='gini', max_depth=None,\n",
       "                                              max_features='auto',\n",
       "                                              max_leaf_nodes=None,\n",
       "                                              max_samples=None,\n",
       "                                              min_impurity_decrease=0.0,\n",
       "                                              min_impurity_split=None,\n",
       "                                              min_samples_leaf=1,\n",
       "                                              min_samples_split=2,\n",
       "                                              min_weight_fraction_leaf=0.0,\n",
       "                                              n_estimators=100, n_jobs=None,\n",
       "                                              oob_score=False,\n",
       "                                              random_state=None, verbose=0,\n",
       "                                              warm_start=False),\n",
       "             iid='deprecated', n_jobs=None,\n",
       "             param_grid={'max_depth': [6, 8, 10, 12],\n",
       "                         'max_features': [2, 4, 6, 8],\n",
       "                         'n_estimators': [50, 100, 150, 200]},\n",
       "             pre_dispatch='2*n_jobs', refit=True, return_train_score=False,\n",
       "             scoring='roc_auc', verbose=0)"
      ]
     },
     "execution_count": 125,
     "metadata": {
      "tags": []
     },
     "output_type": "execute_result"
    }
   ],
   "source": [
    "#fit our model to our train data\n",
    "rf_Grid.fit(X_train,y_train)"
   ]
  },
  {
   "cell_type": "code",
   "execution_count": null,
   "metadata": {
    "colab": {
     "base_uri": "https://localhost:8080/"
    },
    "executionInfo": {
     "elapsed": 387,
     "status": "ok",
     "timestamp": 1606972591751,
     "user": {
      "displayName": "Bharadwaj Kacharla",
      "photoUrl": "",
      "userId": "00504989742471762931"
     },
     "user_tz": 360
    },
    "id": "dMBIbZLyjQeH",
    "outputId": "5ba9bdf5-ecc7-4b56-ac6e-382a9b35fefd"
   },
   "outputs": [
    {
     "data": {
      "text/plain": [
       "RandomForestClassifier(bootstrap=True, ccp_alpha=0.0, class_weight=None,\n",
       "                       criterion='gini', max_depth=12, max_features=8,\n",
       "                       max_leaf_nodes=None, max_samples=None,\n",
       "                       min_impurity_decrease=0.0, min_impurity_split=None,\n",
       "                       min_samples_leaf=1, min_samples_split=2,\n",
       "                       min_weight_fraction_leaf=0.0, n_estimators=200,\n",
       "                       n_jobs=None, oob_score=False, random_state=None,\n",
       "                       verbose=0, warm_start=False)"
      ]
     },
     "execution_count": 127,
     "metadata": {
      "tags": []
     },
     "output_type": "execute_result"
    }
   ],
   "source": [
    "#To identify the best performing model\n",
    "rf_Grid.best_estimator_"
   ]
  },
  {
   "cell_type": "code",
   "execution_count": null,
   "metadata": {
    "colab": {
     "base_uri": "https://localhost:8080/"
    },
    "executionInfo": {
     "elapsed": 88602,
     "status": "ok",
     "timestamp": 1607110342302,
     "user": {
      "displayName": "Bharadwaj Kacharla",
      "photoUrl": "",
      "userId": "00504989742471762931"
     },
     "user_tz": 360
    },
    "id": "Uwj38tM8FkkY",
    "outputId": "ce9bd52d-4c60-4bc6-bc87-cea206dfaf83"
   },
   "outputs": [
    {
     "data": {
      "text/plain": [
       "RandomForestClassifier(bootstrap=True, ccp_alpha=0.0, class_weight=None,\n",
       "                       criterion='gini', max_depth=12, max_features=8,\n",
       "                       max_leaf_nodes=None, max_samples=None,\n",
       "                       min_impurity_decrease=0.0, min_impurity_split=None,\n",
       "                       min_samples_leaf=1, min_samples_split=2,\n",
       "                       min_weight_fraction_leaf=0.0, n_estimators=200,\n",
       "                       n_jobs=None, oob_score=False, random_state=None,\n",
       "                       verbose=0, warm_start=False)"
      ]
     },
     "execution_count": 151,
     "metadata": {
      "tags": []
     },
     "output_type": "execute_result"
    }
   ],
   "source": [
    "#Re-running the model with the best estimators\n",
    "\n",
    "rf_Grid = RandomForestClassifier(bootstrap=True, ccp_alpha=0.0, class_weight=None,\n",
    "                       criterion='gini', max_depth=12, max_features=8,\n",
    "                       max_leaf_nodes=None, max_samples=None,\n",
    "                       min_impurity_decrease=0.0, min_impurity_split=None,\n",
    "                       min_samples_leaf=1, min_samples_split=2,\n",
    "                       min_weight_fraction_leaf=0.0, n_estimators=200,\n",
    "                       n_jobs=None, oob_score=False, random_state=None,\n",
    "                       verbose=0, warm_start=False)\n",
    "\n",
    "rf_Grid.fit(X_train,y_train)"
   ]
  },
  {
   "cell_type": "code",
   "execution_count": null,
   "metadata": {
    "colab": {
     "base_uri": "https://localhost:8080/"
    },
    "executionInfo": {
     "elapsed": 86980,
     "status": "ok",
     "timestamp": 1607110344871,
     "user": {
      "displayName": "Bharadwaj Kacharla",
      "photoUrl": "",
      "userId": "00504989742471762931"
     },
     "user_tz": 360
    },
    "id": "BpxDGWxXB1iw",
    "outputId": "3b578349-f3b5-4f8e-e130-f37568bc29c2"
   },
   "outputs": [
    {
     "data": {
      "text/plain": [
       "array([0, 0, 0, ..., 0, 0, 0])"
      ]
     },
     "execution_count": 152,
     "metadata": {
      "tags": []
     },
     "output_type": "execute_result"
    }
   ],
   "source": [
    "#  .predict() to get predicted classes.\n",
    "y_pred_grid = rf_Grid.predict(X_validation)\n",
    "y_pred_grid"
   ]
  },
  {
   "cell_type": "code",
   "execution_count": null,
   "metadata": {
    "colab": {
     "base_uri": "https://localhost:8080/"
    },
    "executionInfo": {
     "elapsed": 2784,
     "status": "ok",
     "timestamp": 1606972624893,
     "user": {
      "displayName": "Bharadwaj Kacharla",
      "photoUrl": "",
      "userId": "00504989742471762931"
     },
     "user_tz": 360
    },
    "id": "moEGlPYbB_Sb",
    "outputId": "21f98049-eb16-4c38-9c09-15951a534f66"
   },
   "outputs": [
    {
     "data": {
      "text/plain": [
       "array([[0.9295983 , 0.0704017 ],\n",
       "       [0.89855257, 0.10144743],\n",
       "       [0.95239512, 0.04760488],\n",
       "       ...,\n",
       "       [0.92848624, 0.07151376],\n",
       "       [0.92516974, 0.07483026],\n",
       "       [0.92696601, 0.07303399]])"
      ]
     },
     "execution_count": 130,
     "metadata": {
      "tags": []
     },
     "output_type": "execute_result"
    }
   ],
   "source": [
    "# .predict_proba() to get predicted probabilities.\n",
    "y_predprob_grid = rf_Grid.predict_proba(X_validation)\n",
    "y_predprob_grid"
   ]
  },
  {
   "cell_type": "code",
   "execution_count": null,
   "metadata": {
    "colab": {
     "base_uri": "https://localhost:8080/"
    },
    "executionInfo": {
     "elapsed": 455,
     "status": "ok",
     "timestamp": 1606972636213,
     "user": {
      "displayName": "Bharadwaj Kacharla",
      "photoUrl": "",
      "userId": "00504989742471762931"
     },
     "user_tz": 360
    },
    "id": "f7yd6jEMCETZ",
    "outputId": "94c87c38-5021-401d-f100-b17d04b58aa8"
   },
   "outputs": [
    {
     "name": "stdout",
     "output_type": "stream",
     "text": [
      "              precision    recall  f1-score   support\n",
      "\n",
      "           0       0.92      1.00      0.96     55976\n",
      "           1       0.00      0.00      0.00      4965\n",
      "\n",
      "    accuracy                           0.92     60941\n",
      "   macro avg       0.46      0.50      0.48     60941\n",
      "weighted avg       0.84      0.92      0.88     60941\n",
      "\n"
     ]
    },
    {
     "name": "stderr",
     "output_type": "stream",
     "text": [
      "/usr/local/lib/python3.6/dist-packages/sklearn/metrics/_classification.py:1272: UndefinedMetricWarning: Precision and F-score are ill-defined and being set to 0.0 in labels with no predicted samples. Use `zero_division` parameter to control this behavior.\n",
      "  _warn_prf(average, modifier, msg_start, len(result))\n"
     ]
    }
   ],
   "source": [
    "print(classification_report(y_validation, y_pred_grid))"
   ]
  },
  {
   "cell_type": "code",
   "execution_count": null,
   "metadata": {
    "colab": {
     "base_uri": "https://localhost:8080/"
    },
    "executionInfo": {
     "elapsed": 424,
     "status": "ok",
     "timestamp": 1606972649572,
     "user": {
      "displayName": "Bharadwaj Kacharla",
      "photoUrl": "",
      "userId": "00504989742471762931"
     },
     "user_tz": 360
    },
    "id": "IG5CZrDSCGOD",
    "outputId": "8979d6db-a082-42df-9d45-25348fa83044"
   },
   "outputs": [
    {
     "data": {
      "text/plain": [
       "array([[55976,     0],\n",
       "       [ 4965,     0]])"
      ]
     },
     "execution_count": 133,
     "metadata": {
      "tags": []
     },
     "output_type": "execute_result"
    }
   ],
   "source": [
    "# confusion_matrix\n",
    "confusion_matrix(y_validation, y_pred_grid)"
   ]
  },
  {
   "cell_type": "code",
   "execution_count": null,
   "metadata": {
    "colab": {
     "base_uri": "https://localhost:8080/"
    },
    "executionInfo": {
     "elapsed": 399,
     "status": "ok",
     "timestamp": 1606972731311,
     "user": {
      "displayName": "Bharadwaj Kacharla",
      "photoUrl": "",
      "userId": "00504989742471762931"
     },
     "user_tz": 360
    },
    "id": "wc00mra8CK52",
    "outputId": "39861b3c-4a33-4555-de6c-e68458fc40f8"
   },
   "outputs": [
    {
     "name": "stdout",
     "output_type": "stream",
     "text": [
      "0.5\n"
     ]
    }
   ],
   "source": [
    "# roc_auc_score for model with GridSearch\n",
    "print(roc_auc_score(y_validation, y_pred_grid))"
   ]
  },
  {
   "cell_type": "code",
   "execution_count": null,
   "metadata": {
    "id": "mruNtq6bCQb1"
   },
   "outputs": [],
   "source": [
    "#predicting the train error score\n",
    "y_pred_train_grid = rf_Grid.predict(X_train)"
   ]
  },
  {
   "cell_type": "code",
   "execution_count": null,
   "metadata": {
    "colab": {
     "base_uri": "https://localhost:8080/"
    },
    "executionInfo": {
     "elapsed": 2997,
     "status": "ok",
     "timestamp": 1606972750446,
     "user": {
      "displayName": "Bharadwaj Kacharla",
      "photoUrl": "",
      "userId": "00504989742471762931"
     },
     "user_tz": 360
    },
    "id": "fFCjJ_8oChK_",
    "outputId": "ce31899c-8244-40ab-8f4b-846a61f85452"
   },
   "outputs": [
    {
     "name": "stderr",
     "output_type": "stream",
     "text": [
      "/usr/local/lib/python3.6/dist-packages/sklearn/metrics/_classification.py:1272: UndefinedMetricWarning: Precision and F-score are ill-defined and being set to 0.0 in labels with no predicted samples. Use `zero_division` parameter to control this behavior.\n",
      "  _warn_prf(average, modifier, msg_start, len(result))\n"
     ]
    },
    {
     "name": "stdout",
     "output_type": "stream",
     "text": [
      "              precision    recall  f1-score   support\n",
      "\n",
      "           0       0.92      1.00      0.96    223896\n",
      "           1       0.00      0.00      0.00     19860\n",
      "\n",
      "    accuracy                           0.92    243756\n",
      "   macro avg       0.46      0.50      0.48    243756\n",
      "weighted avg       0.84      0.92      0.88    243756\n",
      "\n"
     ]
    }
   ],
   "source": [
    "#Classification report\n",
    "print(classification_report(y_train, y_pred_train_grid))"
   ]
  },
  {
   "cell_type": "code",
   "execution_count": null,
   "metadata": {
    "colab": {
     "base_uri": "https://localhost:8080/"
    },
    "executionInfo": {
     "elapsed": 518,
     "status": "ok",
     "timestamp": 1606972755733,
     "user": {
      "displayName": "Bharadwaj Kacharla",
      "photoUrl": "",
      "userId": "00504989742471762931"
     },
     "user_tz": 360
    },
    "id": "wN5r24bJCi5b",
    "outputId": "81cd6fb0-3fcf-42af-cc2d-953a0d51c9ae"
   },
   "outputs": [
    {
     "data": {
      "text/plain": [
       "array([[223896,      0],\n",
       "       [ 19860,      0]])"
      ]
     },
     "execution_count": 144,
     "metadata": {
      "tags": []
     },
     "output_type": "execute_result"
    }
   ],
   "source": [
    "# confusion_matrix for our predicted and actual train target class\n",
    "confusion_matrix(y_train, y_pred_train_grid)"
   ]
  },
  {
   "cell_type": "code",
   "execution_count": null,
   "metadata": {
    "colab": {
     "base_uri": "https://localhost:8080/"
    },
    "executionInfo": {
     "elapsed": 429,
     "status": "ok",
     "timestamp": 1606978318587,
     "user": {
      "displayName": "Bharadwaj Kacharla",
      "photoUrl": "",
      "userId": "00504989742471762931"
     },
     "user_tz": 360
    },
    "id": "xnhglu74CkzN",
    "outputId": "a2747f05-31e4-4c9c-daa6-c9701aff730e"
   },
   "outputs": [
    {
     "name": "stdout",
     "output_type": "stream",
     "text": [
      "0.5\n"
     ]
    }
   ],
   "source": [
    "# roc_auc_score for predicted and actual train target class\n",
    "print(roc_auc_score(y_train, y_pred_train_grid))"
   ]
  },
  {
   "cell_type": "code",
   "execution_count": null,
   "metadata": {
    "id": "DSGUBzOPPOyc"
   },
   "outputs": [],
   "source": [
    "y_train_gridpred_df = rf.predict(X_train)\n",
    "y_test_gridpred_df = rf.predict(X_validation)\n",
    "\n",
    "y_train_gridproba_df = rf.predict_proba(X_train)\n",
    "y_test_gridproba_df = rf.predict_proba(X_validation)"
   ]
  },
  {
   "cell_type": "code",
   "execution_count": null,
   "metadata": {
    "colab": {
     "base_uri": "https://localhost:8080/"
    },
    "executionInfo": {
     "elapsed": 1012,
     "status": "ok",
     "timestamp": 1607110484497,
     "user": {
      "displayName": "Bharadwaj Kacharla",
      "photoUrl": "",
      "userId": "00504989742471762931"
     },
     "user_tz": 360
    },
    "id": "F8TV2bllFf4w",
    "outputId": "07913d9a-9f4f-421d-8d8b-07cddc6b2a0f"
   },
   "outputs": [
    {
     "name": "stdout",
     "output_type": "stream",
     "text": [
      "Train Confusion Matrix: \n",
      " [[223896      0]\n",
      " [    15  19845]]\n",
      "Accuracy Train: 0.9999384630532171\n",
      "Precision Train: 1.0\n",
      "Recall Train: 0.9992447129909365\n",
      "AUC score 1.0\n",
      "\n",
      " Test Confusion Matrix: \n",
      " [[55974     2]\n",
      " [ 4960     5]]\n",
      "Accuracy Test: 0.9185769842962865\n",
      "Precision Test: 0.7142857142857143\n",
      "Recall Test: 0.0010070493454179255\n",
      "AUC score 0.6762063003263807\n"
     ]
    }
   ],
   "source": [
    "print(\"Train Confusion Matrix: \\n\", skm.confusion_matrix(y_train, y_train_gridpred_df))\n",
    "print(\"Accuracy Train:\", skm.accuracy_score(y_train, y_train_gridpred_df))\n",
    "print(\"Precision Train:\", skm.precision_score(y_train, y_train_gridpred_df))\n",
    "print(\"Recall Train:\", skm.recall_score(y_train, y_train_gridpred_df))\n",
    "print(\"AUC score\", skm.roc_auc_score(y_train, y_train_gridproba_df[:,1]))\n",
    "print(\"\\n Test Confusion Matrix: \\n\", skm.confusion_matrix(y_validation, y_test_gridpred_df))\n",
    "print(\"Accuracy Test:\", skm.accuracy_score(y_validation, y_test_gridpred_df))\n",
    "print(\"Precision Test:\", skm.precision_score(y_validation, y_test_gridpred_df))\n",
    "print(\"Recall Test:\", skm.recall_score(y_validation, y_test_gridpred_df))\n",
    "print(\"AUC score\", skm.roc_auc_score(y_validation, y_test_gridproba_df[:,1]))"
   ]
  },
  {
   "cell_type": "markdown",
   "metadata": {
    "id": "NM206QaEX34G"
   },
   "source": [
    "### Undersampling the majority class"
   ]
  },
  {
   "cell_type": "code",
   "execution_count": 115,
   "metadata": {
    "colab": {
     "base_uri": "https://localhost:8080/"
    },
    "executionInfo": {
     "elapsed": 736,
     "status": "ok",
     "timestamp": 1607712708846,
     "user": {
      "displayName": "Bharadwaj Kacharla",
      "photoUrl": "",
      "userId": "00504989742471762931"
     },
     "user_tz": 360
    },
    "id": "eubtMVqdCmqh",
    "outputId": "58385650-dd8e-4b85-c803-c43e9126bde3"
   },
   "outputs": [
    {
     "name": "stdout",
     "output_type": "stream",
     "text": [
      "Before usm:  Counter({0: 223896, 1: 19860})\n",
      "After usm:  Counter({0: 19860, 1: 19860})\n"
     ]
    },
    {
     "name": "stderr",
     "output_type": "stream",
     "text": [
      "/usr/local/lib/python3.6/dist-packages/sklearn/utils/deprecation.py:87: FutureWarning: Function safe_indexing is deprecated; safe_indexing is deprecated in version 0.22 and will be removed in version 0.24.\n",
      "  warnings.warn(msg, category=FutureWarning)\n"
     ]
    }
   ],
   "source": [
    "# extreme undersampling major class \n",
    "under = RandomUnderSampler(sampling_strategy=1)\n",
    "X_train_usm, y_train_usm = under.fit_sample(X_train.astype('float'), y_train)\n",
    "print(\"Before usm: \", Counter(y_train))\n",
    "print(\"After usm: \", Counter(y_train_usm))"
   ]
  },
  {
   "cell_type": "code",
   "execution_count": 116,
   "metadata": {
    "executionInfo": {
     "elapsed": 1628,
     "status": "ok",
     "timestamp": 1607712709741,
     "user": {
      "displayName": "Bharadwaj Kacharla",
      "photoUrl": "",
      "userId": "00504989742471762931"
     },
     "user_tz": 360
    },
    "id": "Jom4Mx8qYWeu"
   },
   "outputs": [],
   "source": [
    "param_grid = {'n_estimators': [50, 100, 150, 200],\n",
    "'max_features': [2,4,6,8],\n",
    "'max_depth':[6,8,10,12]}\n",
    "\n",
    "# create Random Forest model \n",
    "rf=RandomForestClassifier(random_state=20)\n",
    "\n",
    "# Use 5 cross-fold and for scoring use \"roc_auc\" \n",
    "rf_Grid_2 = GridSearchCV(rf, param_grid, cv = 5, scoring = 'roc_auc')"
   ]
  },
  {
   "cell_type": "code",
   "execution_count": null,
   "metadata": {
    "colab": {
     "base_uri": "https://localhost:8080/"
    },
    "executionInfo": {
     "elapsed": 1067526,
     "status": "ok",
     "timestamp": 1607029966716,
     "user": {
      "displayName": "Bharadwaj Kacharla",
      "photoUrl": "",
      "userId": "00504989742471762931"
     },
     "user_tz": 360
    },
    "id": "n8n6z20UY3Db",
    "outputId": "ca668433-075a-4b04-9e37-f4a275bca66c"
   },
   "outputs": [
    {
     "data": {
      "text/plain": [
       "GridSearchCV(cv=5, error_score=nan,\n",
       "             estimator=RandomForestClassifier(bootstrap=True, ccp_alpha=0.0,\n",
       "                                              class_weight=None,\n",
       "                                              criterion='gini', max_depth=None,\n",
       "                                              max_features='auto',\n",
       "                                              max_leaf_nodes=None,\n",
       "                                              max_samples=None,\n",
       "                                              min_impurity_decrease=0.0,\n",
       "                                              min_impurity_split=None,\n",
       "                                              min_samples_leaf=1,\n",
       "                                              min_samples_split=2,\n",
       "                                              min_weight_fraction_leaf=0.0,\n",
       "                                              n_estimators=100, n_jobs=None,\n",
       "                                              oob_score=False, random_state=20,\n",
       "                                              verbose=0, warm_start=False),\n",
       "             iid='deprecated', n_jobs=None,\n",
       "             param_grid={'max_depth': [6, 8, 10, 12],\n",
       "                         'max_features': [2, 4, 6, 8],\n",
       "                         'n_estimators': [50, 100, 150, 200]},\n",
       "             pre_dispatch='2*n_jobs', refit=True, return_train_score=False,\n",
       "             scoring='roc_auc', verbose=0)"
      ]
     },
     "execution_count": 241,
     "metadata": {
      "tags": []
     },
     "output_type": "execute_result"
    }
   ],
   "source": [
    "#fit our model to our train data\n",
    "rf_Grid_2.fit(X_train_usm,y_train_usm)"
   ]
  },
  {
   "cell_type": "code",
   "execution_count": null,
   "metadata": {
    "colab": {
     "base_uri": "https://localhost:8080/"
    },
    "executionInfo": {
     "elapsed": 1062460,
     "status": "ok",
     "timestamp": 1607029966716,
     "user": {
      "displayName": "Bharadwaj Kacharla",
      "photoUrl": "",
      "userId": "00504989742471762931"
     },
     "user_tz": 360
    },
    "id": "tqtIEvxxY8Sr",
    "outputId": "0998846d-1de7-4d7b-86aa-6d4d0332e71e"
   },
   "outputs": [
    {
     "data": {
      "text/plain": [
       "{'max_depth': 12, 'max_features': 8, 'n_estimators': 200}"
      ]
     },
     "execution_count": 242,
     "metadata": {
      "tags": []
     },
     "output_type": "execute_result"
    }
   ],
   "source": [
    "#To identify the best performing parameters\n",
    "rf_Grid_2.best_params_"
   ]
  },
  {
   "cell_type": "code",
   "execution_count": null,
   "metadata": {
    "colab": {
     "base_uri": "https://localhost:8080/"
    },
    "executionInfo": {
     "elapsed": 1061950,
     "status": "ok",
     "timestamp": 1607029966717,
     "user": {
      "displayName": "Bharadwaj Kacharla",
      "photoUrl": "",
      "userId": "00504989742471762931"
     },
     "user_tz": 360
    },
    "id": "-b7CjrQkZsSn",
    "outputId": "727fad4f-a5f2-4b45-bbec-c35667fcfe03"
   },
   "outputs": [
    {
     "data": {
      "text/plain": [
       "RandomForestClassifier(bootstrap=True, ccp_alpha=0.0, class_weight=None,\n",
       "                       criterion='gini', max_depth=12, max_features=8,\n",
       "                       max_leaf_nodes=None, max_samples=None,\n",
       "                       min_impurity_decrease=0.0, min_impurity_split=None,\n",
       "                       min_samples_leaf=1, min_samples_split=2,\n",
       "                       min_weight_fraction_leaf=0.0, n_estimators=200,\n",
       "                       n_jobs=None, oob_score=False, random_state=20, verbose=0,\n",
       "                       warm_start=False)"
      ]
     },
     "execution_count": 243,
     "metadata": {
      "tags": []
     },
     "output_type": "execute_result"
    }
   ],
   "source": [
    "#To identify the best performing model\n",
    "rf_Grid_2.best_estimator_"
   ]
  },
  {
   "cell_type": "code",
   "execution_count": 117,
   "metadata": {
    "colab": {
     "base_uri": "https://localhost:8080/"
    },
    "executionInfo": {
     "elapsed": 12694,
     "status": "ok",
     "timestamp": 1607712738858,
     "user": {
      "displayName": "Bharadwaj Kacharla",
      "photoUrl": "",
      "userId": "00504989742471762931"
     },
     "user_tz": 360
    },
    "id": "jDxxpPcuQHyD",
    "outputId": "681a8a20-d09e-41f8-f031-530a657a4c75"
   },
   "outputs": [
    {
     "data": {
      "text/plain": [
       "RandomForestClassifier(bootstrap=True, ccp_alpha=0.0, class_weight=None,\n",
       "                       criterion='gini', max_depth=12, max_features=8,\n",
       "                       max_leaf_nodes=None, max_samples=None,\n",
       "                       min_impurity_decrease=0.0, min_impurity_split=None,\n",
       "                       min_samples_leaf=1, min_samples_split=2,\n",
       "                       min_weight_fraction_leaf=0.0, n_estimators=200,\n",
       "                       n_jobs=None, oob_score=False, random_state=20, verbose=0,\n",
       "                       warm_start=False)"
      ]
     },
     "execution_count": 117,
     "metadata": {
      "tags": []
     },
     "output_type": "execute_result"
    }
   ],
   "source": [
    "#Re-running the model with the best estimators\n",
    "\n",
    "rf_Grid_2 = RandomForestClassifier(bootstrap=True, ccp_alpha=0.0, class_weight=None,\n",
    "                       criterion='gini', max_depth=12, max_features=8,\n",
    "                       max_leaf_nodes=None, max_samples=None,\n",
    "                       min_impurity_decrease=0.0, min_impurity_split=None,\n",
    "                       min_samples_leaf=1, min_samples_split=2,\n",
    "                       min_weight_fraction_leaf=0.0, n_estimators=200,\n",
    "                       n_jobs=None, oob_score=False, random_state=20, verbose=0,\n",
    "                       warm_start=False)\n",
    "\n",
    "rf_Grid_2.fit(X_train_usm,y_train_usm)"
   ]
  },
  {
   "cell_type": "code",
   "execution_count": 118,
   "metadata": {
    "colab": {
     "base_uri": "https://localhost:8080/"
    },
    "executionInfo": {
     "elapsed": 2939,
     "status": "ok",
     "timestamp": 1607712746610,
     "user": {
      "displayName": "Bharadwaj Kacharla",
      "photoUrl": "",
      "userId": "00504989742471762931"
     },
     "user_tz": 360
    },
    "id": "5bCEuopSZuc3",
    "outputId": "4235be70-923a-4aa1-88bd-f43be661c7f4"
   },
   "outputs": [
    {
     "data": {
      "text/plain": [
       "array([0, 1, 0, ..., 0, 0, 1])"
      ]
     },
     "execution_count": 118,
     "metadata": {
      "tags": []
     },
     "output_type": "execute_result"
    }
   ],
   "source": [
    "#  .predict() to get predicted classes.\n",
    "y_pred_grid_2 = rf_Grid_2.predict(X_validation)\n",
    "y_pred_grid_2"
   ]
  },
  {
   "cell_type": "code",
   "execution_count": 119,
   "metadata": {
    "colab": {
     "base_uri": "https://localhost:8080/"
    },
    "executionInfo": {
     "elapsed": 2874,
     "status": "ok",
     "timestamp": 1607712750809,
     "user": {
      "displayName": "Bharadwaj Kacharla",
      "photoUrl": "",
      "userId": "00504989742471762931"
     },
     "user_tz": 360
    },
    "id": "3wDLzQOaZxNI",
    "outputId": "315b2634-df95-4759-dd66-9e888d28286e"
   },
   "outputs": [
    {
     "data": {
      "text/plain": [
       "array([[0.59182448, 0.40817552],\n",
       "       [0.47274374, 0.52725626],\n",
       "       [0.65525788, 0.34474212],\n",
       "       ...,\n",
       "       [0.5382035 , 0.4617965 ],\n",
       "       [0.54216172, 0.45783828],\n",
       "       [0.48426918, 0.51573082]])"
      ]
     },
     "execution_count": 119,
     "metadata": {
      "tags": []
     },
     "output_type": "execute_result"
    }
   ],
   "source": [
    "# .predict_proba() to get predicted probabilities.\n",
    "y_predprob_grid_2 = rf_Grid_2.predict_proba(X_validation)\n",
    "y_predprob_grid_2"
   ]
  },
  {
   "cell_type": "code",
   "execution_count": 120,
   "metadata": {
    "colab": {
     "base_uri": "https://localhost:8080/"
    },
    "executionInfo": {
     "elapsed": 2301,
     "status": "ok",
     "timestamp": 1607712750810,
     "user": {
      "displayName": "Bharadwaj Kacharla",
      "photoUrl": "",
      "userId": "00504989742471762931"
     },
     "user_tz": 360
    },
    "id": "tBC6uyrGCh2K",
    "outputId": "2222bf1c-52c7-4d0c-de3d-eb90e86f7517"
   },
   "outputs": [
    {
     "name": "stdout",
     "output_type": "stream",
     "text": [
      "              precision    recall  f1-score   support\n",
      "\n",
      "           0       0.95      0.65      0.77     55976\n",
      "           1       0.14      0.64      0.23      4965\n",
      "\n",
      "    accuracy                           0.65     60941\n",
      "   macro avg       0.55      0.65      0.50     60941\n",
      "weighted avg       0.89      0.65      0.73     60941\n",
      "\n"
     ]
    }
   ],
   "source": [
    "print(classification_report(y_validation, y_pred_grid_2))"
   ]
  },
  {
   "cell_type": "code",
   "execution_count": 121,
   "metadata": {
    "colab": {
     "base_uri": "https://localhost:8080/"
    },
    "executionInfo": {
     "elapsed": 464,
     "status": "ok",
     "timestamp": 1607712753674,
     "user": {
      "displayName": "Bharadwaj Kacharla",
      "photoUrl": "",
      "userId": "00504989742471762931"
     },
     "user_tz": 360
    },
    "id": "p7MYyhRSCnOe",
    "outputId": "a7057391-205e-4f56-ab5e-7f4db80aeb82"
   },
   "outputs": [
    {
     "data": {
      "text/plain": [
       "array([[36497, 19479],\n",
       "       [ 1778,  3187]])"
      ]
     },
     "execution_count": 121,
     "metadata": {
      "tags": []
     },
     "output_type": "execute_result"
    }
   ],
   "source": [
    "# confusion_matrix\n",
    "confusion_matrix(y_validation, y_pred_grid_2)"
   ]
  },
  {
   "cell_type": "code",
   "execution_count": 122,
   "metadata": {
    "colab": {
     "base_uri": "https://localhost:8080/"
    },
    "executionInfo": {
     "elapsed": 739,
     "status": "ok",
     "timestamp": 1607712754510,
     "user": {
      "displayName": "Bharadwaj Kacharla",
      "photoUrl": "",
      "userId": "00504989742471762931"
     },
     "user_tz": 360
    },
    "id": "r9K3qZ1jiZfv",
    "outputId": "029340db-440f-4bf8-eaf6-b86b8fcccf0d"
   },
   "outputs": [
    {
     "name": "stdout",
     "output_type": "stream",
     "text": [
      "0.6469524145796336\n"
     ]
    }
   ],
   "source": [
    "# roc_auc_score for model with GridSearch\n",
    "print(roc_auc_score(y_validation, y_pred_grid_2))"
   ]
  },
  {
   "cell_type": "code",
   "execution_count": 123,
   "metadata": {
    "executionInfo": {
     "elapsed": 1983,
     "status": "ok",
     "timestamp": 1607712757057,
     "user": {
      "displayName": "Bharadwaj Kacharla",
      "photoUrl": "",
      "userId": "00504989742471762931"
     },
     "user_tz": 360
    },
    "id": "R9YcRoZ0ie6H"
   },
   "outputs": [],
   "source": [
    "#predicting the train error score\n",
    "y_pred_train_grid2 = rf_Grid_2.predict(X_train_usm)"
   ]
  },
  {
   "cell_type": "code",
   "execution_count": 124,
   "metadata": {
    "colab": {
     "base_uri": "https://localhost:8080/"
    },
    "executionInfo": {
     "elapsed": 893,
     "status": "ok",
     "timestamp": 1607712757058,
     "user": {
      "displayName": "Bharadwaj Kacharla",
      "photoUrl": "",
      "userId": "00504989742471762931"
     },
     "user_tz": 360
    },
    "id": "GpJJArT5ilC7",
    "outputId": "cb7962aa-3df9-4fab-aba5-35b4e7de5ba7"
   },
   "outputs": [
    {
     "name": "stdout",
     "output_type": "stream",
     "text": [
      "              precision    recall  f1-score   support\n",
      "\n",
      "           0       0.77      0.76      0.77     19860\n",
      "           1       0.76      0.78      0.77     19860\n",
      "\n",
      "    accuracy                           0.77     39720\n",
      "   macro avg       0.77      0.77      0.77     39720\n",
      "weighted avg       0.77      0.77      0.77     39720\n",
      "\n"
     ]
    }
   ],
   "source": [
    "#Classification report\n",
    "print(classification_report(y_train_usm, y_pred_train_grid2))"
   ]
  },
  {
   "cell_type": "code",
   "execution_count": null,
   "metadata": {
    "colab": {
     "base_uri": "https://localhost:8080/"
    },
    "executionInfo": {
     "elapsed": 11342,
     "status": "ok",
     "timestamp": 1607111735083,
     "user": {
      "displayName": "Bharadwaj Kacharla",
      "photoUrl": "",
      "userId": "00504989742471762931"
     },
     "user_tz": 360
    },
    "id": "zjQqkf3ritWC",
    "outputId": "597e35ac-40f5-412a-abfd-55109995d537"
   },
   "outputs": [
    {
     "data": {
      "text/plain": [
       "array([[15142,  4718],\n",
       "       [ 4499, 15361]])"
      ]
     },
     "execution_count": 169,
     "metadata": {
      "tags": []
     },
     "output_type": "execute_result"
    }
   ],
   "source": [
    "# confusion_matrix for our predicted and actual train target class\n",
    "confusion_matrix(y_train_usm, y_pred_train_grid2)"
   ]
  },
  {
   "cell_type": "code",
   "execution_count": null,
   "metadata": {
    "colab": {
     "base_uri": "https://localhost:8080/"
    },
    "executionInfo": {
     "elapsed": 9778,
     "status": "ok",
     "timestamp": 1607111735083,
     "user": {
      "displayName": "Bharadwaj Kacharla",
      "photoUrl": "",
      "userId": "00504989742471762931"
     },
     "user_tz": 360
    },
    "id": "NmSLX0COi2DT",
    "outputId": "8d5f6265-a713-4629-92cd-7b7df63e5959"
   },
   "outputs": [
    {
     "name": "stdout",
     "output_type": "stream",
     "text": [
      "0.7679506545820746\n"
     ]
    }
   ],
   "source": [
    "# roc_auc_score for predicted and actual train target class\n",
    "print(roc_auc_score(y_train_usm, y_pred_train_grid2))"
   ]
  },
  {
   "cell_type": "code",
   "execution_count": 125,
   "metadata": {
    "executionInfo": {
     "elapsed": 7906,
     "status": "ok",
     "timestamp": 1607712767732,
     "user": {
      "displayName": "Bharadwaj Kacharla",
      "photoUrl": "",
      "userId": "00504989742471762931"
     },
     "user_tz": 360
    },
    "id": "cenD6kr4QFbe"
   },
   "outputs": [],
   "source": [
    "y_train_gridpred_usm = rf_Grid_2.predict(X_train_usm)\n",
    "y_test_gridpred_usm = rf_Grid_2.predict(X_validation)\n",
    "\n",
    "y_train_gridproba_usm = rf_Grid_2.predict_proba(X_train_usm)\n",
    "y_test_gridproba_usm = rf_Grid_2.predict_proba(X_validation)"
   ]
  },
  {
   "cell_type": "code",
   "execution_count": 126,
   "metadata": {
    "colab": {
     "base_uri": "https://localhost:8080/"
    },
    "executionInfo": {
     "elapsed": 765,
     "status": "ok",
     "timestamp": 1607712770488,
     "user": {
      "displayName": "Bharadwaj Kacharla",
      "photoUrl": "",
      "userId": "00504989742471762931"
     },
     "user_tz": 360
    },
    "id": "z72txI5oQiIX",
    "outputId": "874af4fb-3194-46af-c66b-be16b1d1b679"
   },
   "outputs": [
    {
     "name": "stdout",
     "output_type": "stream",
     "text": [
      "Train Confusion Matrix: \n",
      " [[15105  4755]\n",
      " [ 4463 15397]]\n",
      "Accuracy Train: 0.767925478348439\n",
      "Precision Train: 0.764043271139341\n",
      "Recall Train: 0.7752769385699899\n",
      "AUC score 0.8554365401719386\n",
      "\n",
      " Test Confusion Matrix: \n",
      " [[36497 19479]\n",
      " [ 1778  3187]]\n",
      "Accuracy Test: 0.6511872138625884\n",
      "Precision Test: 0.14060707667872585\n",
      "Recall Test: 0.6418932527693857\n",
      "AUC score 0.7019666103484719\n"
     ]
    }
   ],
   "source": [
    "print(\"Train Confusion Matrix: \\n\", skm.confusion_matrix(y_train_usm, y_train_gridpred_usm))\n",
    "print(\"Accuracy Train:\", skm.accuracy_score(y_train_usm, y_train_gridpred_usm))\n",
    "print(\"Precision Train:\", skm.precision_score(y_train_usm, y_train_gridpred_usm))\n",
    "print(\"Recall Train:\", skm.recall_score(y_train_usm, y_train_gridpred_usm))\n",
    "print(\"AUC score\", skm.roc_auc_score(y_train_usm, y_train_gridproba_usm[:,1]))\n",
    "print(\"\\n Test Confusion Matrix: \\n\", skm.confusion_matrix(y_validation, y_test_gridpred_usm))\n",
    "print(\"Accuracy Test:\", skm.accuracy_score(y_validation, y_test_gridpred_usm))\n",
    "print(\"Precision Test:\", skm.precision_score(y_validation, y_test_gridpred_usm))\n",
    "print(\"Recall Test:\", skm.recall_score(y_validation, y_test_gridpred_usm))\n",
    "print(\"AUC score\", skm.roc_auc_score(y_validation, y_test_gridproba_usm[:,1]))"
   ]
  },
  {
   "cell_type": "markdown",
   "metadata": {
    "id": "Ud5ZU1LQyqBs"
   },
   "source": [
    "### Cost sensitive learning"
   ]
  },
  {
   "cell_type": "markdown",
   "metadata": {
    "id": "7-Zn05k_y9Ne"
   },
   "source": [
    "#### Cost Sensitive GridSearchCV RandomForest"
   ]
  },
  {
   "cell_type": "code",
   "execution_count": null,
   "metadata": {
    "id": "duqI1WG9zQRd"
   },
   "outputs": [],
   "source": [
    "# Conduct Grid Search for weights\n",
    "balance = [{0:1, 1:10}, {0:1, 1:50}, {0:1, 1:100}]\n",
    "params = dict(class_weight = balance)\n",
    "\n",
    "param_grid = {'n_estimators': [50, 100, 150, 200],\n",
    "'max_features': [2,4,6,8],\n",
    "'max_depth':[6,8,10,12],\n",
    "'class_weight': [{0: 1, 1: 10},{0: 1, 1: 100}]}\n",
    "\n",
    "grid_rf = RandomForestClassifier(random_state = 23)\n",
    "grid1 = GridSearchCV(grid_rf, param_grid, cv = 5, verbose = 0, scoring= 'roc_auc')\n",
    "grid_result1 = grid1.fit(X_train, y_train)"
   ]
  },
  {
   "cell_type": "code",
   "execution_count": null,
   "metadata": {
    "colab": {
     "base_uri": "https://localhost:8080/"
    },
    "executionInfo": {
     "elapsed": 1625172,
     "status": "ok",
     "timestamp": 1607071087784,
     "user": {
      "displayName": "Bharadwaj Kacharla",
      "photoUrl": "",
      "userId": "00504989742471762931"
     },
     "user_tz": 360
    },
    "id": "_6rXbOhvzZbk",
    "outputId": "d17e0455-f93c-401d-bb1c-8fff72e3b0e9"
   },
   "outputs": [
    {
     "name": "stdout",
     "output_type": "stream",
     "text": [
      "Best score: 0.6950548140198838\n",
      "Best parameter: {'class_weight': {0: 1, 1: 10}, 'max_depth': 10, 'max_features': 8, 'n_estimators': 200}\n"
     ]
    }
   ],
   "source": [
    "print(\"Best score:\", grid_result1.best_score_)\n",
    "print(\"Best parameter:\", grid_result1.best_params_)"
   ]
  },
  {
   "cell_type": "code",
   "execution_count": null,
   "metadata": {
    "id": "ei149IHutEcP"
   },
   "outputs": [],
   "source": [
    "#fitting the randomforest\n",
    "grid_rf_impl = RandomForestClassifier(random_state=23,class_weight= {0: 1, 1: 10}, max_depth= 10, max_features= 8, n_estimators= 200)\n",
    "grid_rf_impl_result = grid_rf_impl.fit(X_train,y_train)"
   ]
  },
  {
   "cell_type": "code",
   "execution_count": null,
   "metadata": {
    "id": "OdRG71-KteKi"
   },
   "outputs": [],
   "source": [
    "y_train_pred_gridrf = grid_rf_impl_result.predict(X_train)\n",
    "y_test_pred_gridrf = grid_rf_impl_result.predict(X_validation)\n",
    "\n",
    "y_train_proba_gridrf = grid_rf_impl_result.predict_proba(X_train)\n",
    "y_test_proba_gridrf = grid_rf_impl_result.predict_proba(X_validation)"
   ]
  },
  {
   "cell_type": "code",
   "execution_count": null,
   "metadata": {
    "colab": {
     "base_uri": "https://localhost:8080/"
    },
    "executionInfo": {
     "elapsed": 19132,
     "status": "ok",
     "timestamp": 1607103242150,
     "user": {
      "displayName": "Bharadwaj Kacharla",
      "photoUrl": "",
      "userId": "00504989742471762931"
     },
     "user_tz": 360
    },
    "id": "i5BPJv2MttXc",
    "outputId": "32550bad-0275-4916-bf5c-085e19b9afea"
   },
   "outputs": [
    {
     "name": "stdout",
     "output_type": "stream",
     "text": [
      "Results for gridsearchCV\n",
      "Train Confusion Matrix: \n",
      " [[175486  48410]\n",
      " [  8537  11323]]\n",
      "Accuracy Train: 0.7663770327704754\n",
      "Precision Train: 0.18956020959938394\n",
      "Recall Train: 0.5701409869083585\n",
      "AUC score 0.7567963704627501\n",
      "\n",
      " Test Confusion Matrix: \n",
      " [[43678 12298]\n",
      " [ 2485  2480]]\n",
      "Accuracy Test: 0.757421112223298\n",
      "Precision Test: 0.1678170253078901\n",
      "Recall Test: 0.499496475327291\n",
      "AUC score 0.6986872053207669\n"
     ]
    }
   ],
   "source": [
    "print(\"Results for gridsearchCV\")\n",
    "print(\"Train Confusion Matrix: \\n\", skm.confusion_matrix(y_train, y_train_pred_gridrf))\n",
    "print(\"Accuracy Train:\", skm.accuracy_score(y_train, y_train_pred_gridrf))\n",
    "print(\"Precision Train:\", skm.precision_score(y_train, y_train_pred_gridrf))\n",
    "print(\"Recall Train:\", skm.recall_score(y_train, y_train_pred_gridrf))\n",
    "print(\"AUC score\", skm.roc_auc_score(y_train, y_train_proba_gridrf[:,1]))\n",
    "print(\"\\n Test Confusion Matrix: \\n\", skm.confusion_matrix(y_validation, y_test_pred_gridrf))\n",
    "print(\"Accuracy Test:\", skm.accuracy_score(y_validation, y_test_pred_gridrf))\n",
    "print(\"Precision Test:\", skm.precision_score(y_validation, y_test_pred_gridrf))\n",
    "print(\"Recall Test:\", skm.recall_score(y_validation, y_test_pred_gridrf))\n",
    "print(\"AUC score\", skm.roc_auc_score(y_validation, y_test_proba_gridrf[:,1]))"
   ]
  },
  {
   "cell_type": "markdown",
   "metadata": {
    "id": "pN9TvqcOyziZ"
   },
   "source": [
    "#### Cost Sensitive Randomized Search CV random forest"
   ]
  },
  {
   "cell_type": "code",
   "execution_count": null,
   "metadata": {
    "id": "tTXB7mXXvNIZ"
   },
   "outputs": [],
   "source": [
    "#randomized search cv\n",
    "\n",
    "from sklearn.model_selection import RepeatedStratifiedKFold\n",
    "\n",
    "# Conduct Grid Search for weights\n",
    "balance = [{0:1, 1:10}, {0:1, 1:50}, {0:1, 1:100}]\n",
    "params = dict(class_weight = balance)\n",
    "\n",
    "param_grid = {'n_estimators': [50, 100, 150, 200],\n",
    "'max_features': [2,4,6,8],\n",
    "'max_depth':[6,8,10,12],\n",
    "'class_weight': [{0:1, 1:10}, {0:1, 1:50}, {0:1, 1:100}, {0:1, 1:150}, {0:1, 1:200}]\n",
    "}\n",
    "\n",
    "# define evaluation procedure\n",
    "cv = RepeatedStratifiedKFold(n_splits=10, n_repeats=3, random_state=1)\n",
    "\n",
    "grid_rf_random = RandomForestClassifier(random_state = 23)\n",
    "grid1_random = RandomizedSearchCV(grid_rf_random, param_grid, cv = 5, verbose = 0, scoring= 'roc_auc')\n",
    "grid_result1_random = grid1_random.fit(X_train, y_train)"
   ]
  },
  {
   "cell_type": "code",
   "execution_count": null,
   "metadata": {
    "colab": {
     "base_uri": "https://localhost:8080/"
    },
    "executionInfo": {
     "elapsed": 1366326,
     "status": "ok",
     "timestamp": 1607070965402,
     "user": {
      "displayName": "Bharadwaj Kacharla",
      "photoUrl": "",
      "userId": "00504989742471762931"
     },
     "user_tz": 360
    },
    "id": "y9RXUil1vuUm",
    "outputId": "79641678-049e-4b90-bb40-cf9e2af3bc3f"
   },
   "outputs": [
    {
     "name": "stdout",
     "output_type": "stream",
     "text": [
      "Best score: 0.6882527105888796\n",
      "Best parameter: {'n_estimators': 200, 'max_features': 8, 'max_depth': 6, 'class_weight': {0: 1, 1: 10}}\n"
     ]
    }
   ],
   "source": [
    "print(\"Best score:\", grid_result1_random.best_score_)\n",
    "print(\"Best parameter:\", grid_result1_random.best_params_)"
   ]
  },
  {
   "cell_type": "code",
   "execution_count": null,
   "metadata": {
    "id": "3LiiUXJRu_hX"
   },
   "outputs": [],
   "source": [
    "#fitting the randomforest\n",
    "grid_rf_rnd_impl = RandomForestClassifier(random_state=23,class_weight= {0: 1, 1: 10}, max_depth= 6, max_features= 8, n_estimators= 200)\n",
    "grid_rf_rnd_impl = grid_rf_impl.fit(X_train,y_train)"
   ]
  },
  {
   "cell_type": "code",
   "execution_count": null,
   "metadata": {
    "id": "FTj6Sn6dvSZb"
   },
   "outputs": [],
   "source": [
    "y_train_pred_rndrf = grid_rf_rnd_impl.predict(X_train)\n",
    "y_test_pred_rndrf = grid_rf_rnd_impl.predict(X_validation)\n",
    "\n",
    "y_train_proba_rndrf = grid_rf_rnd_impl.predict_proba(X_train)\n",
    "y_test_proba_rndrf = grid_rf_rnd_impl.predict_proba(X_validation)"
   ]
  },
  {
   "cell_type": "code",
   "execution_count": null,
   "metadata": {
    "colab": {
     "base_uri": "https://localhost:8080/"
    },
    "executionInfo": {
     "elapsed": 19445,
     "status": "ok",
     "timestamp": 1607103287779,
     "user": {
      "displayName": "Bharadwaj Kacharla",
      "photoUrl": "",
      "userId": "00504989742471762931"
     },
     "user_tz": 360
    },
    "id": "yXNAjdUBvScs",
    "outputId": "c120be37-2e74-45b8-ad87-01ed960a92ae"
   },
   "outputs": [
    {
     "name": "stdout",
     "output_type": "stream",
     "text": [
      "Results for RandomizedSearchCV\n",
      "Train Confusion Matrix: \n",
      " [[175486  48410]\n",
      " [  8537  11323]]\n",
      "Accuracy Train: 0.7663770327704754\n",
      "Precision Train: 0.18956020959938394\n",
      "Recall Train: 0.5701409869083585\n",
      "AUC score 0.7567963704627501\n",
      "\n",
      " Test Confusion Matrix: \n",
      " [[43678 12298]\n",
      " [ 2485  2480]]\n",
      "Accuracy Test: 0.757421112223298\n",
      "Precision Test: 0.1678170253078901\n",
      "Recall Test: 0.499496475327291\n",
      "AUC score 0.6986872053207669\n"
     ]
    }
   ],
   "source": [
    "print(\"Results for RandomizedSearchCV\")\n",
    "print(\"Train Confusion Matrix: \\n\", skm.confusion_matrix(y_train, y_train_pred_rndrf))\n",
    "print(\"Accuracy Train:\", skm.accuracy_score(y_train, y_train_pred_rndrf))\n",
    "print(\"Precision Train:\", skm.precision_score(y_train, y_train_pred_rndrf))\n",
    "print(\"Recall Train:\", skm.recall_score(y_train, y_train_pred_rndrf))\n",
    "print(\"AUC score\", skm.roc_auc_score(y_train, y_train_proba_rndrf[:,1]))\n",
    "print(\"\\n Test Confusion Matrix: \\n\", skm.confusion_matrix(y_validation, y_test_pred_rndrf))\n",
    "print(\"Accuracy Test:\", skm.accuracy_score(y_validation, y_test_pred_rndrf))\n",
    "print(\"Precision Test:\", skm.precision_score(y_validation, y_test_pred_rndrf))\n",
    "print(\"Recall Test:\", skm.recall_score(y_validation, y_test_pred_rndrf))\n",
    "print(\"AUC score\", skm.roc_auc_score(y_validation, y_test_proba_rndrf[:,1]))"
   ]
  },
  {
   "cell_type": "markdown",
   "metadata": {
    "id": "vvV7sIn8zFYB"
   },
   "source": [
    "#### Weighted Random Forest"
   ]
  },
  {
   "cell_type": "code",
   "execution_count": null,
   "metadata": {
    "id": "r4_7wKm90x6s"
   },
   "outputs": [],
   "source": [
    "# Calculate the weights for TARGET 0 and TARGET 1\n",
    "num_0 = train[train[\"TARGET\"] == 0].shape[0]\n",
    "num_1 = train[train[\"TARGET\"] == 1].shape[0]\n",
    "\n",
    "print(num_0/num_1)\n",
    "\n",
    "# The inverse ratio of data distribution for TARGET 1\n",
    "weight_0 = 1.0\n",
    "weight_1 = 1/(num_1/num_0)\n",
    "\n",
    "print(\"Weight for TARGET 0:\", weight_0)\n",
    "print(\"Weight for TARGET 1:\", weight_1)\n",
    "# Prepare weights for algorithms\n",
    "weights = {0:weight_0, 1:weight_1}"
   ]
  },
  {
   "cell_type": "code",
   "execution_count": null,
   "metadata": {
    "id": "XnwCkMKdxR9d"
   },
   "outputs": [],
   "source": [
    "# Weighted Random Forest\n",
    "wrf = RandomForestClassifier(random_state = 23, class_weight=weights,max_depth = 12, max_features = 8, n_estimators = 200)\n",
    "\n",
    "wrf.fit(X_train, y_train)\n",
    "\n",
    "y_train_pred_wrf = wrf.predict(X_train)\n",
    "y_test_pred_wrf = wrf.predict(X_validation)\n",
    "y_test_proba_wrf= wrf.predict_proba(X_validation)"
   ]
  },
  {
   "cell_type": "code",
   "execution_count": null,
   "metadata": {
    "colab": {
     "base_uri": "https://localhost:8080/"
    },
    "executionInfo": {
     "elapsed": 899,
     "status": "ok",
     "timestamp": 1607106417848,
     "user": {
      "displayName": "Bharadwaj Kacharla",
      "photoUrl": "",
      "userId": "00504989742471762931"
     },
     "user_tz": 360
    },
    "id": "Zf_U5trpxR9d",
    "outputId": "3e5e28d6-2170-4d28-a355-32d1952b8b23"
   },
   "outputs": [
    {
     "name": "stdout",
     "output_type": "stream",
     "text": [
      "Results for weighted Random Forest\n",
      "Train Confusion Matrix: \n",
      " [[171027  52869]\n",
      " [  6225  13635]]\n",
      "Accuracy Train: 0.7575690444542904\n",
      "Precision Train: 0.20502526163839768\n",
      "Recall Train: 0.6865558912386707\n",
      "\n",
      " Test Confusion Matrix: \n",
      " [[42313 13663]\n",
      " [ 2341  2624]]\n",
      "Accuracy Test: 0.737385339918938\n",
      "Precision Test: 0.16111008780008595\n",
      "Recall Test: 0.5284994964753273\n",
      "AUC score 0.6984622095989634\n"
     ]
    }
   ],
   "source": [
    "print(\"Results for weighted Random Forest\")\n",
    "print(\"Train Confusion Matrix: \\n\", skm.confusion_matrix(y_train, y_train_pred_wrf))\n",
    "print(\"Accuracy Train:\", skm.accuracy_score(y_train, y_train_pred_wrf))\n",
    "print(\"Precision Train:\", skm.precision_score(y_train, y_train_pred_wrf))\n",
    "print(\"Recall Train:\", skm.recall_score(y_train, y_train_pred_wrf))\n",
    "print(\"\\n Test Confusion Matrix: \\n\", skm.confusion_matrix(y_validation, y_test_pred_wrf))\n",
    "print(\"Accuracy Test:\", skm.accuracy_score(y_validation, y_test_pred_wrf))\n",
    "print(\"Precision Test:\", skm.precision_score(y_validation, y_test_pred_wrf))\n",
    "print(\"Recall Test:\", skm.recall_score(y_validation, y_test_pred_wrf))\n",
    "print(\"AUC score\", skm.roc_auc_score(y_validation, y_test_proba_wrf[:,1]))"
   ]
  },
  {
   "cell_type": "code",
   "execution_count": null,
   "metadata": {
    "id": "YHA8nq55zbNd"
   },
   "outputs": [],
   "source": [
    "# Conduct Grid Search for weights\n",
    "\n",
    "param_grid = {'n_estimators': [50, 100, 150, 200],\n",
    "'max_features': [2,4,6,8],\n",
    "'max_depth':[6,8,10,12],\n",
    "'class_weight': [{0:1, 1:4}, {0:1, 1:6}, {0:1, 1:8}, {0:1, 1:10}, {0:1, 1:12}, {0:1, 1:14}]\n",
    "}\n",
    "\n",
    "grid_rf2 = RandomForestClassifier(random_state = 23)\n",
    "grid2 = RandomizedSearchCV(grid_rf2, param_grid, cv = 5, verbose = 0, scoring= 'roc_auc')\n",
    "grid_result2 = grid2.fit(X_train, y_train)"
   ]
  },
  {
   "cell_type": "code",
   "execution_count": null,
   "metadata": {
    "colab": {
     "base_uri": "https://localhost:8080/"
    },
    "executionInfo": {
     "elapsed": 347,
     "status": "ok",
     "timestamp": 1607114480485,
     "user": {
      "displayName": "Bharadwaj Kacharla",
      "photoUrl": "",
      "userId": "00504989742471762931"
     },
     "user_tz": 360
    },
    "id": "yBkRA1MkzdR4",
    "outputId": "25b41e23-b3f9-4dd4-8ca1-076f025f00c9"
   },
   "outputs": [
    {
     "name": "stdout",
     "output_type": "stream",
     "text": [
      "Best score: 0.6938971852963735\n",
      "Best parameter: {'n_estimators': 150, 'max_features': 8, 'max_depth': 10, 'class_weight': {0: 1, 1: 12}}\n"
     ]
    }
   ],
   "source": [
    "print(\"Best score:\", grid_result2.best_score_)\n",
    "print(\"Best parameter:\", grid_result2.best_params_)"
   ]
  },
  {
   "cell_type": "code",
   "execution_count": null,
   "metadata": {
    "id": "HnD3WZxfzfHF"
   },
   "outputs": [],
   "source": [
    "wrf_2 = grid_result2.best_estimator_"
   ]
  },
  {
   "cell_type": "code",
   "execution_count": null,
   "metadata": {
    "id": "X1xGHD_ozgt6"
   },
   "outputs": [],
   "source": [
    "y_train_pred_wrf_2 = wrf_2.predict(X_train)\n",
    "y_test_pred_wrf_2 = wrf_2.predict(X_validation)\n",
    "\n",
    "y_train_proba_wrf_2 = wrf_2.predict_proba(X_train)\n",
    "y_test_proba_wrf_2 = wrf_2.predict_proba(X_validation)"
   ]
  },
  {
   "cell_type": "code",
   "execution_count": null,
   "metadata": {
    "colab": {
     "base_uri": "https://localhost:8080/"
    },
    "executionInfo": {
     "elapsed": 986,
     "status": "ok",
     "timestamp": 1607114587776,
     "user": {
      "displayName": "Bharadwaj Kacharla",
      "photoUrl": "",
      "userId": "00504989742471762931"
     },
     "user_tz": 360
    },
    "id": "F2Zw76Sszi6q",
    "outputId": "700d0561-ee0f-445d-c0de-20b36b5299b0"
   },
   "outputs": [
    {
     "name": "stdout",
     "output_type": "stream",
     "text": [
      "Train Confusion Matrix: \n",
      " [[150840  73056]\n",
      " [  5944  13916]]\n",
      "Accuracy Train: 0.6759054136103316\n",
      "Precision Train: 0.16000551901761487\n",
      "Recall Train: 0.7007049345417925\n",
      "AUC score 0.7563718855082012\n",
      "\n",
      " Test Confusion Matrix: \n",
      " [[37535 18441]\n",
      " [ 1876  3089]]\n",
      "Accuracy Test: 0.6666119689535781\n",
      "Precision Test: 0.1434742220157919\n",
      "Recall Test: 0.6221550855991944\n",
      "AUC score 0.6975990969227065\n"
     ]
    }
   ],
   "source": [
    "print(\"Train Confusion Matrix: \\n\", skm.confusion_matrix(y_train, y_train_pred_wrf_2))\n",
    "print(\"Accuracy Train:\", skm.accuracy_score(y_train, y_train_pred_wrf_2))\n",
    "print(\"Precision Train:\", skm.precision_score(y_train, y_train_pred_wrf_2))\n",
    "print(\"Recall Train:\", skm.recall_score(y_train, y_train_pred_wrf_2))\n",
    "print(\"AUC score\", skm.roc_auc_score(y_train, y_train_proba_wrf_2[:,1]))\n",
    "print(\"\\n Test Confusion Matrix: \\n\", skm.confusion_matrix(y_validation, y_test_pred_wrf_2))\n",
    "print(\"Accuracy Test:\", skm.accuracy_score(y_validation, y_test_pred_wrf_2))\n",
    "print(\"Precision Test:\", skm.precision_score(y_validation, y_test_pred_wrf_2))\n",
    "print(\"Recall Test:\", skm.recall_score(y_validation, y_test_pred_wrf_2))\n",
    "print(\"AUC score\", skm.roc_auc_score(y_validation, y_test_proba_wrf_2[:,1]))"
   ]
  },
  {
   "cell_type": "markdown",
   "metadata": {
    "id": "AuCGNdra-ZNd"
   },
   "source": [
    "### Testing Metrics"
   ]
  },
  {
   "cell_type": "code",
   "execution_count": null,
   "metadata": {
    "colab": {
     "base_uri": "https://localhost:8080/",
     "height": 248
    },
    "executionInfo": {
     "elapsed": 374,
     "status": "ok",
     "timestamp": 1607114687312,
     "user": {
      "displayName": "Bharadwaj Kacharla",
      "photoUrl": "",
      "userId": "00504989742471762931"
     },
     "user_tz": 360
    },
    "id": "vTtGDI8dyf0F",
    "outputId": "d7c35904-62e1-48ba-fdf7-b51c51743f86"
   },
   "outputs": [
    {
     "data": {
      "text/html": [
       "<div>\n",
       "<style scoped>\n",
       "    .dataframe tbody tr th:only-of-type {\n",
       "        vertical-align: middle;\n",
       "    }\n",
       "\n",
       "    .dataframe tbody tr th {\n",
       "        vertical-align: top;\n",
       "    }\n",
       "\n",
       "    .dataframe thead th {\n",
       "        text-align: right;\n",
       "    }\n",
       "</style>\n",
       "<table border=\"1\" class=\"dataframe\">\n",
       "  <thead>\n",
       "    <tr style=\"text-align: right;\">\n",
       "      <th></th>\n",
       "      <th>Model</th>\n",
       "      <th>Test_Accuracy</th>\n",
       "      <th>Test_Precision</th>\n",
       "      <th>Test_Recall</th>\n",
       "      <th>Test_AUC</th>\n",
       "    </tr>\n",
       "  </thead>\n",
       "  <tbody>\n",
       "    <tr>\n",
       "      <th>0</th>\n",
       "      <td>Random_Forest_Default_OD</td>\n",
       "      <td>0.918577</td>\n",
       "      <td>0.714286</td>\n",
       "      <td>0.00100705</td>\n",
       "      <td>0.676206</td>\n",
       "    </tr>\n",
       "    <tr>\n",
       "      <th>1</th>\n",
       "      <td>Random_Forest_GridCV_OD</td>\n",
       "      <td>0.918577</td>\n",
       "      <td>0.714286</td>\n",
       "      <td>0.00100705</td>\n",
       "      <td>0.676206</td>\n",
       "    </tr>\n",
       "    <tr>\n",
       "      <th>2</th>\n",
       "      <td>Random_Forest_GridCV_USM</td>\n",
       "      <td>0.918577</td>\n",
       "      <td>0.714286</td>\n",
       "      <td>0.00100705</td>\n",
       "      <td>0.676206</td>\n",
       "    </tr>\n",
       "    <tr>\n",
       "      <th>3</th>\n",
       "      <td>Random_Forest_GridCV_CSL</td>\n",
       "      <td>0.757421</td>\n",
       "      <td>0.167817</td>\n",
       "      <td>0.499496</td>\n",
       "      <td>0.698687</td>\n",
       "    </tr>\n",
       "    <tr>\n",
       "      <th>4</th>\n",
       "      <td>Random_Forest_RandomCV_CSL</td>\n",
       "      <td>0.757421</td>\n",
       "      <td>0.167817</td>\n",
       "      <td>0.499496</td>\n",
       "      <td>0.698687</td>\n",
       "    </tr>\n",
       "    <tr>\n",
       "      <th>5</th>\n",
       "      <td>Random_Forest_Weighted</td>\n",
       "      <td>0.737385</td>\n",
       "      <td>0.16111</td>\n",
       "      <td>0.528499</td>\n",
       "      <td>0.698462</td>\n",
       "    </tr>\n",
       "    <tr>\n",
       "      <th>6</th>\n",
       "      <td>Random_Forest_Weighted2</td>\n",
       "      <td>0.666612</td>\n",
       "      <td>0.143474</td>\n",
       "      <td>0.622155</td>\n",
       "      <td>0.697599</td>\n",
       "    </tr>\n",
       "  </tbody>\n",
       "</table>\n",
       "</div>"
      ],
      "text/plain": [
       "                        Model Test_Accuracy  ... Test_Recall  Test_AUC\n",
       "0    Random_Forest_Default_OD      0.918577  ...  0.00100705  0.676206\n",
       "1     Random_Forest_GridCV_OD      0.918577  ...  0.00100705  0.676206\n",
       "2    Random_Forest_GridCV_USM      0.918577  ...  0.00100705  0.676206\n",
       "3    Random_Forest_GridCV_CSL      0.757421  ...    0.499496  0.698687\n",
       "4  Random_Forest_RandomCV_CSL      0.757421  ...    0.499496  0.698687\n",
       "5      Random_Forest_Weighted      0.737385  ...    0.528499  0.698462\n",
       "6     Random_Forest_Weighted2      0.666612  ...    0.622155  0.697599\n",
       "\n",
       "[7 rows x 5 columns]"
      ]
     },
     "execution_count": 197,
     "metadata": {
      "tags": []
     },
     "output_type": "execute_result"
    }
   ],
   "source": [
    "##Creating a dataframe to store the accuracy, precision, recall values\n",
    "#ROC, precision, recall, acccuracy\n",
    "\n",
    "#Accuracy Test\n",
    "#Precision Test: \n",
    "#Recall Test:\n",
    "#AUC score \n",
    "\n",
    "Comparison_dict = {'Random_Forest_Default_OD':[0.9185769842962865,0.7142857142857143,0.0010070493454179255,0.6762063003263807],\n",
    "                       'Random_Forest_GridCV_OD':[0.9185769842962865,0.7142857142857143,0.0010070493454179255,0.6762063003263807],\n",
    "                       'Random_Forest_GridCV_USM':[0.9185769842962865,0.7142857142857143,0.0010070493454179255,0.6762063003263807],\n",
    "                       'Random_Forest_GridCV_CSL':[0.757421112223298,0.1678170253078901,0.499496475327291,0.6986872053207669],\n",
    "                       'Random_Forest_RandomCV_CSL':[0.757421112223298,0.1678170253078901,0.499496475327291,0.6986872053207669],\n",
    "                       'Random_Forest_Weighted':[0.737385339918938,0.16111008780008595, 0.5284994964753273,0.6984622095989634],\n",
    "                      'Random_Forest_Weighted2':[0.6666119689535781,0.1434742220157919,0.6221550855991944,0.6975990969227065]}\n",
    "\n",
    "model_comparison = pd.DataFrame(Comparison_dict)\n",
    "model_comparison['Metrics'] = ['Test_Accuracy','Test_Precision','Test_Recall','Test_AUC']\n",
    "#re-arranging the column order\n",
    "cols = model_comparison.columns.tolist()\n",
    "cols = cols[-1:] + cols[:-1]\n",
    "model_comparison = model_comparison[cols]\n",
    "\n",
    "#pivot\n",
    "model_comparison = model_comparison.transpose()\n",
    "model_comparison = model_comparison[1:].reset_index(drop=False)\n",
    "model_comparison.columns = ['Model','Test_Accuracy','Test_Precision','Test_Recall','Test_AUC']\n",
    "model_comparison"
   ]
  },
  {
   "cell_type": "code",
   "execution_count": null,
   "metadata": {
    "colab": {
     "base_uri": "https://localhost:8080/",
     "height": 383
    },
    "executionInfo": {
     "elapsed": 756,
     "status": "ok",
     "timestamp": 1607114875919,
     "user": {
      "displayName": "Bharadwaj Kacharla",
      "photoUrl": "",
      "userId": "00504989742471762931"
     },
     "user_tz": 360
    },
    "id": "6n2nxcgOvcfO",
    "outputId": "4979898f-2c4d-41cb-9b49-771f2cd8bb4f"
   },
   "outputs": [
    {
     "data": {
      "image/png": "[encoded data removed]",
      "text/plain": [
       "<Figure size 1152x288 with 1 Axes>"
      ]
     },
     "metadata": {
      "needs_background": "light",
      "tags": []
     },
     "output_type": "display_data"
    }
   ],
   "source": [
    "fig = plt.figure(figsize = [16, 4])\n",
    "plt.bar(model_comparison['Model'], model_comparison['Test_Recall'], color = 'coral', width=0.3)\n",
    "plt.xlabel('Different sampling combinations fitted with RandomForest')\n",
    "plt.ylabel('Test recall score')\n",
    "plt.title('Test recall scores on different re-sampling approaches')\n",
    "plt.xticks( rotation = 45, fontsize=8, horizontalalignment=\"center\")\n",
    "plt.yticks(np.arange(0, 0.95, 0.1))\n",
    "\n",
    "for i, v in enumerate(model_comparison['Test_Recall']):\n",
    "  plt.text(i-0.45, v+0.02, str(round(v, 3)))\n",
    "\n",
    "plt.show()"
   ]
  },
  {
   "cell_type": "markdown",
   "metadata": {
    "id": "ievQKzj_ErN4"
   },
   "source": [
    "GRID_CV_OD, GRID_CV_USM, GRID_CV_CSL, Weighted2"
   ]
  },
  {
   "cell_type": "code",
   "execution_count": null,
   "metadata": {
    "colab": {
     "base_uri": "https://localhost:8080/",
     "height": 383
    },
    "executionInfo": {
     "elapsed": 486,
     "status": "ok",
     "timestamp": 1607114894473,
     "user": {
      "displayName": "Bharadwaj Kacharla",
      "photoUrl": "",
      "userId": "00504989742471762931"
     },
     "user_tz": 360
    },
    "id": "tE5Kjo3LZg7d",
    "outputId": "9c1ad8fd-d150-4987-99f1-68f3ae4500af"
   },
   "outputs": [
    {
     "data": {
      "image/png": "[encoded data removed]",
      "text/plain": [
       "<Figure size 1152x288 with 1 Axes>"
      ]
     },
     "metadata": {
      "needs_background": "light",
      "tags": []
     },
     "output_type": "display_data"
    }
   ],
   "source": [
    "fig = plt.figure(figsize = [16, 4])\n",
    "plt.bar(model_comparison['Model'], model_comparison['Test_AUC'], color = 'coral', width=0.4)\n",
    "plt.xlabel('Different sampling combinations fitted with RandomForest')\n",
    "plt.ylabel('Test AUC')\n",
    "plt.title('Test AUC on different re-sampling approaches')\n",
    "plt.xticks( rotation = 45, fontsize=8, horizontalalignment=\"center\")\n",
    "plt.yticks(np.arange(0, 0.95, 0.1))\n",
    "\n",
    "for i, v in enumerate(model_comparison['Test_AUC']):\n",
    "  plt.text(i-0.45, v+0.02, str(round(v, 3)))\n",
    "\n",
    "plt.show()"
   ]
  },
  {
   "cell_type": "markdown",
   "metadata": {
    "id": "nbHz3r0xEQS9"
   },
   "source": [
    "### Train Metrics"
   ]
  },
  {
   "cell_type": "code",
   "execution_count": null,
   "metadata": {
    "colab": {
     "base_uri": "https://localhost:8080/",
     "height": 220
    },
    "executionInfo": {
     "elapsed": 777,
     "status": "ok",
     "timestamp": 1607577396524,
     "user": {
      "displayName": "Bharadwaj Kacharla",
      "photoUrl": "",
      "userId": "00504989742471762931"
     },
     "user_tz": 360
    },
    "id": "DqLf3EdmgBzl",
    "outputId": "4e5f6e90-9590-4f9a-c77c-cdfecb660962"
   },
   "outputs": [
    {
     "data": {
      "text/html": [
       "<div>\n",
       "<style scoped>\n",
       "    .dataframe tbody tr th:only-of-type {\n",
       "        vertical-align: middle;\n",
       "    }\n",
       "\n",
       "    .dataframe tbody tr th {\n",
       "        vertical-align: top;\n",
       "    }\n",
       "\n",
       "    .dataframe thead th {\n",
       "        text-align: right;\n",
       "    }\n",
       "</style>\n",
       "<table border=\"1\" class=\"dataframe\">\n",
       "  <thead>\n",
       "    <tr style=\"text-align: right;\">\n",
       "      <th></th>\n",
       "      <th>Model</th>\n",
       "      <th>Train_Accuracy</th>\n",
       "      <th>Train_Precision</th>\n",
       "      <th>Train_Recall</th>\n",
       "      <th>Train_AUC</th>\n",
       "    </tr>\n",
       "  </thead>\n",
       "  <tbody>\n",
       "    <tr>\n",
       "      <th>0</th>\n",
       "      <td>Random_Forest_Default_OD</td>\n",
       "      <td>0.999938</td>\n",
       "      <td>1</td>\n",
       "      <td>0.999245</td>\n",
       "      <td>1</td>\n",
       "    </tr>\n",
       "    <tr>\n",
       "      <th>1</th>\n",
       "      <td>Random_Forest_GridCV_OD</td>\n",
       "      <td>0.999938</td>\n",
       "      <td>1</td>\n",
       "      <td>0.999245</td>\n",
       "      <td>1</td>\n",
       "    </tr>\n",
       "    <tr>\n",
       "      <th>2</th>\n",
       "      <td>Random_Forest_GridCV_USM</td>\n",
       "      <td>0.999622</td>\n",
       "      <td>1</td>\n",
       "      <td>0.999245</td>\n",
       "      <td>1</td>\n",
       "    </tr>\n",
       "    <tr>\n",
       "      <th>3</th>\n",
       "      <td>Random_Forest_GridCV_CSL</td>\n",
       "      <td>0.766377</td>\n",
       "      <td>0.18956</td>\n",
       "      <td>0.570141</td>\n",
       "      <td>0.756796</td>\n",
       "    </tr>\n",
       "    <tr>\n",
       "      <th>4</th>\n",
       "      <td>Random_Forest_RandomCV_CSL</td>\n",
       "      <td>0.757421</td>\n",
       "      <td>0.167817</td>\n",
       "      <td>0.499496</td>\n",
       "      <td>0.698687</td>\n",
       "    </tr>\n",
       "    <tr>\n",
       "      <th>5</th>\n",
       "      <td>Random_Forest_Weighted</td>\n",
       "      <td>0.675905</td>\n",
       "      <td>0.160006</td>\n",
       "      <td>0.700705</td>\n",
       "      <td>0.756372</td>\n",
       "    </tr>\n",
       "  </tbody>\n",
       "</table>\n",
       "</div>"
      ],
      "text/plain": [
       "                        Model Train_Accuracy  ... Train_Recall Train_AUC\n",
       "0    Random_Forest_Default_OD       0.999938  ...     0.999245         1\n",
       "1     Random_Forest_GridCV_OD       0.999938  ...     0.999245         1\n",
       "2    Random_Forest_GridCV_USM       0.999622  ...     0.999245         1\n",
       "3    Random_Forest_GridCV_CSL       0.766377  ...     0.570141  0.756796\n",
       "4  Random_Forest_RandomCV_CSL       0.757421  ...     0.499496  0.698687\n",
       "5      Random_Forest_Weighted       0.675905  ...     0.700705  0.756372\n",
       "\n",
       "[6 rows x 5 columns]"
      ]
     },
     "execution_count": 5,
     "metadata": {
      "tags": []
     },
     "output_type": "execute_result"
    }
   ],
   "source": [
    "##Creating a dataframe to store the accuracy, precision, recall values\n",
    "#ROC, precision, recall, acccuracy\n",
    "\n",
    "#Accuracy Train:  0.6759054136103316\n",
    "#Precision Train: 0.16000551901761487\n",
    "#Recall Train: 0.7007049345417925\n",
    "#AUC score 0.7563718855082012\n",
    "\n",
    "Comparison_dict = {'Random_Forest_Default_OD':[0.9999384630532171,1.0,0.9992447129909365,1.0],\n",
    "                       'Random_Forest_GridCV_OD':[0.9999384630532171,1.0,0.9992447129909365,1.0],\n",
    "                       'Random_Forest_GridCV_USM':[0.9996223564954683,1.0,0.9992447129909365,1.0],\n",
    "                       'Random_Forest_GridCV_CSL':[0.7663770327704754,0.18956020959938394,0.5701409869083585,0.7567963704627501],\n",
    "                       'Random_Forest_RandomCV_CSL':[0.757421112223298,0.1678170253078901,0.499496475327291,0.6986872053207669],\n",
    "                       'Random_Forest_Weighted':[0.6759054136103316,0.16000551901761487, 0.7007049345417925,0.7563718855082012]}\n",
    "\n",
    "model_comparison = pd.DataFrame(Comparison_dict)\n",
    "model_comparison['Metrics'] = ['Train_Accuracy','Train_Precision','Train_Recall','Train_AUC']\n",
    "\n",
    "#re-arranging the column order\n",
    "cols = model_comparison.columns.tolist()\n",
    "cols = cols[-1:] + cols[:-1]\n",
    "model_comparison = model_comparison[cols]\n",
    "\n",
    "#pivot\n",
    "model_comparison = model_comparison.transpose()\n",
    "model_comparison = model_comparison[1:].reset_index(drop=False)\n",
    "model_comparison.columns = ['Model','Train_Accuracy','Train_Precision','Train_Recall','Train_AUC']\n",
    "model_comparison"
   ]
  },
  {
   "cell_type": "code",
   "execution_count": null,
   "metadata": {
    "id": "ee82EqPYEy3A"
   },
   "outputs": [],
   "source": []
  }
 ],
 "metadata": {
  "colab": {
   "authorship_tag": "ABX9TyNHE0FZ56Ru264V+MMmGnEw",
   "collapsed_sections": [],
   "name": "MachineLearning_FinalProject_RandomForest_Implementation_Bharadwaj.ipynb",
   "provenance": []
  },
  "kernelspec": {
   "display_name": "Python 3",
   "language": "python",
   "name": "python3"
  },
  "language_info": {
   "codemirror_mode": {
    "name": "ipython",
    "version": 3
   },
   "file_extension": ".py",
   "mimetype": "text/x-python",
   "name": "python",
   "nbconvert_exporter": "python",
   "pygments_lexer": "ipython3",
   "version": "3.7.4"
  }
 },
 "nbformat": 4,
 "nbformat_minor": 1
}
